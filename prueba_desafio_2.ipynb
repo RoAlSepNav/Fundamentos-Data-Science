{
 "cells": [
  {
   "attachments": {},
   "cell_type": "markdown",
   "metadata": {},
   "source": [
    "# HITO 1"
   ]
  },
  {
   "attachments": {},
   "cell_type": "markdown",
   "metadata": {},
   "source": [
    "##### Los dos enunciados deben estar clasificados, considerando el tipo de problema a resolver (regresión o clasificación). Para cada uno de los enunciados y su problema identificado, se debe justificar el uso de métricas para medir el desempeño del problema.\n",
    "    Para este segundo desafío se pide generar un modelo que identifique aquellos alumnos que presentan un bajo desempeño académico. De manera adicional sugieren inspeccionar una batería de preguntas asociadas a ciertas variables y ver si éstas se pueden abstraer en categorías latentes.\n",
    "\n",
    "    Este problema cuenta con tres vectores objetivos designados como G1, G2 y G3. Estos corresponden a las notas durante el primer semestre, segundo semestre y el promedio final. A su vez, se indica que G3 será el vector a predecir en el modelo predictivo. \n",
    "    También cuenta con varios atributos de tipo binario, nominal y numérico.\n",
    "\n",
    "    Dado que los vectores objetivos son de tipo continuos, el modelo a implementar será de regresión lineal.\n",
    "    Este tipo de regresión corresponde al caso donde la variable objetivo (o dependiente) es continua, y la relación entre esta y los atributos (o variables independientes) es mediante una combinación lineal de estos.\n",
    "\n",
    "    Respecto a las métricas de desempeño, existe una gran cantidad. Algunos ejemplos son: error cuadrático medio (MSE), raíz del error cuadrático medio (RMSE), error absoluto medio (MAE), R-cuadrado (R²), R-cuadrado ajustado (R²-adj), error porcentual absoluto medio (MAPE), por nombrar algunos.\n",
    "    En este proyecto se utilizará MSE y R². El MSE representa la expectativa del error cuadrático. Es un indicador de calidad con valores positivos, donde los valores menores indican mejores niveles de ajuste. Sin embargo, este valor por sí solo no es explicativo, es necesario compararlo con el MSE de otro modelo.     \n",
    "    R² representa la capacidad explicativa del conjunto de atributos en la variabilidad del vector objetivo. Una característica importante a tener en consideración al utilizar esta métrica y hacer la comparación entre modelos, es que el R² no penaliza por la inclusión de variables. Como consecuencia, al agregar más variables al modelo, este valor solo puede aumentar en su poder explicativo o mantenerse constante."
   ]
  },
  {
   "attachments": {},
   "cell_type": "markdown",
   "metadata": {},
   "source": [
    "##### Se debe considerar el uso de las librerías asociadas para la ingesta, preprocesamiento, visualización y modelación, así como métricas de evaluación."
   ]
  },
  {
   "cell_type": "code",
   "execution_count": 155,
   "metadata": {},
   "outputs": [],
   "source": [
    "# Ingesta\n",
    "import numpy as np\n",
    "import pandas as pd\n",
    "import scipy.stats as stats\n",
    "import factor_analyzer as factor\n",
    "\n",
    "# Visualización\n",
    "import matplotlib.pyplot as plt\n",
    "plt.style.use('seaborn-whitegrid')\n",
    "import seaborn as sns\n",
    "import statsmodels.api as sm\n",
    "import missingno as msngo\n",
    "\n",
    "# Modelación\n",
    "import statsmodels.formula.api as smf\n",
    "from sklearn.linear_model import LinearRegression\n",
    "from sklearn.model_selection import train_test_split\n",
    "\n",
    "# Métricas de evaluación\n",
    "from sklearn.metrics import mean_squared_error, r2_score\n",
    "\n",
    "# Otros\n",
    "import warnings\n",
    "warnings.filterwarnings(\"ignore\")"
   ]
  },
  {
   "attachments": {},
   "cell_type": "markdown",
   "metadata": {},
   "source": [
    "    Las librerías se obtuvieron desde 'conda list'\n",
    "\n",
    "    # Name                    Version                   Build         Channel\n",
    "    factor_analyzer           0.3.2              pyh39e3cac_0    desilinguist\n",
    "    matplotlib                3.5.2            py39haa95532_0\n",
    "    missingno                 0.4.2                      py_1     conda-forge\n",
    "    numpy                     1.21.5           py39h7a0a035_3\n",
    "    pandas                    1.4.4            py39hd77b12b_0\n",
    "    scikit-learn              1.0.2            py39hf11a4ad_1\n",
    "    scipy                     1.9.1            py39he11b74f_0\n",
    "    seaborn                   0.11.2             pyhd3eb1b0_0\n",
    "    statsmodels               0.13.2           py39h2bbff1b_0"
   ]
  },
  {
   "attachments": {},
   "cell_type": "markdown",
   "metadata": {},
   "source": [
    "##### Se debe detallar y considerar el proceso de preprocesamiento y recodificación de datos\n",
    "    La base de datos contiene registros sociodemográficos y conductuales de los alumnos de dos escuelas.\n",
    "    Desde la organización indican aspectos adicionales a considerar. A continuación se indica el proceso realizado:\n",
    "\n",
    "    - El primer inconveniente a solucionar es la codificación de la base de datos. La solución es simple, ya que solo hay que indicar como argumento sep='|' al momento de realizar la lectura del archivo .csv mediante pandas.\n",
    "    \n",
    "    - Existen datos perdidos registrados como 'nulidade', 'sem validade y 'zero'. Adicional a esto, hay tres variables numéricas que se registraron como tipo de dato string, lo que supone un problema para la interpretación de datos con pandas. Esto se corrige haciendo uso del método .replace().\n",
    "\n",
    "    - Para las variables binarias se sugiere la recodificación de estas como 0 y 1, asignando 1 a las categorías minoritarias. Esto se realizó mediante Binary Encoding.\n",
    "\n",
    "    - De manera similar, se indicó realizar el procedimiento a las variables nominales. En este caso también se utilizó Binary Encoding y se eliminó la columna original, dejando así solo valores binarios.\n",
    "\n",
    "    - Luego de esto se convirtieron todos los valores a flotantes mediante la función .astype() de pandas.\n",
    "\n",
    "    El proceso realizado se muestra a continuación:"
   ]
  },
  {
   "cell_type": "code",
   "execution_count": 156,
   "metadata": {},
   "outputs": [],
   "source": [
    "df = pd.read_csv('students.csv', sep='|').drop('Unnamed: 0', axis=1)"
   ]
  },
  {
   "cell_type": "code",
   "execution_count": 157,
   "metadata": {},
   "outputs": [
    {
     "data": {
      "text/plain": [
       "(395, 33)"
      ]
     },
     "execution_count": 157,
     "metadata": {},
     "output_type": "execute_result"
    }
   ],
   "source": [
    "df.shape"
   ]
  },
  {
   "cell_type": "code",
   "execution_count": 158,
   "metadata": {},
   "outputs": [
    {
     "data": {
      "text/plain": [
       "Index(['school', 'sex', 'age', 'address', 'famsize', 'Pstatus', 'Medu', 'Fedu',\n",
       "       'Mjob', 'Fjob', 'reason', 'guardian', 'traveltime', 'studytime',\n",
       "       'failures', 'schoolsup', 'famsup', 'paid', 'activities', 'nursery',\n",
       "       'higher', 'internet', 'romantic', 'famrel', 'freetime', 'goout', 'Dalc',\n",
       "       'Walc', 'health', 'absences', 'G1', 'G2', 'G3'],\n",
       "      dtype='object')"
      ]
     },
     "execution_count": 158,
     "metadata": {},
     "output_type": "execute_result"
    }
   ],
   "source": [
    "df.columns"
   ]
  },
  {
   "cell_type": "code",
   "execution_count": 159,
   "metadata": {},
   "outputs": [
    {
     "name": "stdout",
     "output_type": "stream",
     "text": [
      "<class 'pandas.core.frame.DataFrame'>\n",
      "RangeIndex: 395 entries, 0 to 394\n",
      "Data columns (total 33 columns):\n",
      " #   Column      Non-Null Count  Dtype \n",
      "---  ------      --------------  ----- \n",
      " 0   school      395 non-null    object\n",
      " 1   sex         395 non-null    object\n",
      " 2   age         395 non-null    object\n",
      " 3   address     395 non-null    object\n",
      " 4   famsize     395 non-null    object\n",
      " 5   Pstatus     395 non-null    object\n",
      " 6   Medu        395 non-null    object\n",
      " 7   Fedu        395 non-null    object\n",
      " 8   Mjob        395 non-null    object\n",
      " 9   Fjob        395 non-null    object\n",
      " 10  reason      395 non-null    object\n",
      " 11  guardian    395 non-null    object\n",
      " 12  traveltime  395 non-null    object\n",
      " 13  studytime   395 non-null    object\n",
      " 14  failures    395 non-null    object\n",
      " 15  schoolsup   395 non-null    object\n",
      " 16  famsup      395 non-null    object\n",
      " 17  paid        395 non-null    object\n",
      " 18  activities  395 non-null    object\n",
      " 19  nursery     395 non-null    object\n",
      " 20  higher      395 non-null    object\n",
      " 21  internet    395 non-null    object\n",
      " 22  romantic    395 non-null    object\n",
      " 23  famrel      395 non-null    object\n",
      " 24  freetime    395 non-null    object\n",
      " 25  goout       395 non-null    object\n",
      " 26  Dalc        395 non-null    object\n",
      " 27  Walc        395 non-null    object\n",
      " 28  health      395 non-null    object\n",
      " 29  absences    395 non-null    object\n",
      " 30  G1          395 non-null    object\n",
      " 31  G2          395 non-null    int64 \n",
      " 32  G3          395 non-null    object\n",
      "dtypes: int64(1), object(32)\n",
      "memory usage: 102.0+ KB\n"
     ]
    }
   ],
   "source": [
    "df.info()"
   ]
  },
  {
   "attachments": {},
   "cell_type": "markdown",
   "metadata": {},
   "source": [
    "## Recodificación de variables"
   ]
  },
  {
   "attachments": {},
   "cell_type": "markdown",
   "metadata": {},
   "source": [
    "    Recodificación de datos perdidos y variables numéricas para todo el dataframe"
   ]
  },
  {
   "cell_type": "code",
   "execution_count": 160,
   "metadata": {},
   "outputs": [],
   "source": [
    "# Recodificación de datos perdidos y variables numéricas para todo el dataframe\n",
    "df.replace(['nulidade', 'sem validade', 'zero', '\"'], [np.nan, np.nan, np.nan, ''], regex=True, inplace=True)"
   ]
  },
  {
   "cell_type": "code",
   "execution_count": 161,
   "metadata": {},
   "outputs": [
    {
     "data": {
      "text/html": [
       "<div>\n",
       "<style scoped>\n",
       "    .dataframe tbody tr th:only-of-type {\n",
       "        vertical-align: middle;\n",
       "    }\n",
       "\n",
       "    .dataframe tbody tr th {\n",
       "        vertical-align: top;\n",
       "    }\n",
       "\n",
       "    .dataframe thead th {\n",
       "        text-align: right;\n",
       "    }\n",
       "</style>\n",
       "<table border=\"1\" class=\"dataframe\">\n",
       "  <thead>\n",
       "    <tr style=\"text-align: right;\">\n",
       "      <th></th>\n",
       "      <th>school</th>\n",
       "      <th>sex</th>\n",
       "      <th>age</th>\n",
       "      <th>address</th>\n",
       "      <th>famsize</th>\n",
       "      <th>Pstatus</th>\n",
       "      <th>Medu</th>\n",
       "      <th>Fedu</th>\n",
       "      <th>Mjob</th>\n",
       "      <th>Fjob</th>\n",
       "      <th>...</th>\n",
       "      <th>famrel</th>\n",
       "      <th>freetime</th>\n",
       "      <th>goout</th>\n",
       "      <th>Dalc</th>\n",
       "      <th>Walc</th>\n",
       "      <th>health</th>\n",
       "      <th>absences</th>\n",
       "      <th>G1</th>\n",
       "      <th>G2</th>\n",
       "      <th>G3</th>\n",
       "    </tr>\n",
       "  </thead>\n",
       "  <tbody>\n",
       "    <tr>\n",
       "      <th>0</th>\n",
       "      <td>GP</td>\n",
       "      <td>F</td>\n",
       "      <td>NaN</td>\n",
       "      <td>U</td>\n",
       "      <td>GT3</td>\n",
       "      <td>A</td>\n",
       "      <td>4</td>\n",
       "      <td>4</td>\n",
       "      <td>at_home</td>\n",
       "      <td>teacher</td>\n",
       "      <td>...</td>\n",
       "      <td>4</td>\n",
       "      <td>3</td>\n",
       "      <td>4</td>\n",
       "      <td>1</td>\n",
       "      <td>1</td>\n",
       "      <td>3</td>\n",
       "      <td>6</td>\n",
       "      <td>5</td>\n",
       "      <td>6</td>\n",
       "      <td>6</td>\n",
       "    </tr>\n",
       "    <tr>\n",
       "      <th>1</th>\n",
       "      <td>GP</td>\n",
       "      <td>F</td>\n",
       "      <td>17</td>\n",
       "      <td>U</td>\n",
       "      <td>GT3</td>\n",
       "      <td>T</td>\n",
       "      <td>1</td>\n",
       "      <td>1</td>\n",
       "      <td>at_home</td>\n",
       "      <td>other</td>\n",
       "      <td>...</td>\n",
       "      <td>5</td>\n",
       "      <td>3</td>\n",
       "      <td>3</td>\n",
       "      <td>1</td>\n",
       "      <td>1</td>\n",
       "      <td>3</td>\n",
       "      <td>4</td>\n",
       "      <td>5</td>\n",
       "      <td>5</td>\n",
       "      <td>6</td>\n",
       "    </tr>\n",
       "    <tr>\n",
       "      <th>2</th>\n",
       "      <td>GP</td>\n",
       "      <td>F</td>\n",
       "      <td>15</td>\n",
       "      <td>U</td>\n",
       "      <td>LE3</td>\n",
       "      <td>T</td>\n",
       "      <td>1</td>\n",
       "      <td>1</td>\n",
       "      <td>at_home</td>\n",
       "      <td>other</td>\n",
       "      <td>...</td>\n",
       "      <td>4</td>\n",
       "      <td>3</td>\n",
       "      <td>2</td>\n",
       "      <td>2</td>\n",
       "      <td>3</td>\n",
       "      <td>3</td>\n",
       "      <td>10</td>\n",
       "      <td>NaN</td>\n",
       "      <td>8</td>\n",
       "      <td>10</td>\n",
       "    </tr>\n",
       "  </tbody>\n",
       "</table>\n",
       "<p>3 rows × 33 columns</p>\n",
       "</div>"
      ],
      "text/plain": [
       "  school sex  age address famsize Pstatus Medu Fedu     Mjob     Fjob  ...  \\\n",
       "0     GP   F  NaN       U     GT3       A    4    4  at_home  teacher  ...   \n",
       "1     GP   F   17       U     GT3       T    1    1  at_home    other  ...   \n",
       "2     GP   F   15       U     LE3       T    1    1  at_home    other  ...   \n",
       "\n",
       "  famrel freetime goout Dalc Walc health absences   G1 G2  G3  \n",
       "0      4        3     4    1    1      3        6    5  6   6  \n",
       "1      5        3     3    1    1      3        4    5  5   6  \n",
       "2      4        3     2    2    3      3       10  NaN  8  10  \n",
       "\n",
       "[3 rows x 33 columns]"
      ]
     },
     "execution_count": 161,
     "metadata": {},
     "output_type": "execute_result"
    }
   ],
   "source": [
    "df.head(3)"
   ]
  },
  {
   "attachments": {},
   "cell_type": "markdown",
   "metadata": {},
   "source": [
    "    Identificación de variables binarias para posterior recodificación"
   ]
  },
  {
   "cell_type": "code",
   "execution_count": 162,
   "metadata": {},
   "outputs": [
    {
     "name": "stdout",
     "output_type": "stream",
     "text": [
      "['school', 'sex', 'address', 'famsize', 'Pstatus', 'schoolsup', 'famsup', 'paid', 'activities', 'nursery', 'higher', 'internet', 'romantic']\n"
     ]
    }
   ],
   "source": [
    "# identificación de variables binarias\n",
    "binary_variables = []\n",
    "for index, value in enumerate(df):\n",
    "    if len(df[value].value_counts()) <= 2:\n",
    "        binary_variables.append(value)\n",
    "print(binary_variables)"
   ]
  },
  {
   "attachments": {},
   "cell_type": "markdown",
   "metadata": {},
   "source": [
    "    Recodificación de variables binarias"
   ]
  },
  {
   "cell_type": "code",
   "execution_count": 163,
   "metadata": {},
   "outputs": [],
   "source": [
    "# recodificación de variables binarias\n",
    "for var in binary_variables:\n",
    "    df[var] = pd.get_dummies(df[var], drop_first=True)"
   ]
  },
  {
   "attachments": {},
   "cell_type": "markdown",
   "metadata": {},
   "source": [
    "    Recodificación de variables nominales"
   ]
  },
  {
   "cell_type": "code",
   "execution_count": 164,
   "metadata": {},
   "outputs": [],
   "source": [
    "# recodificación de variables nominales\n",
    "nominal_variables = ['Mjob', 'Fjob', 'reason', 'guardian']\n",
    "for variable in nominal_variables:\n",
    "    dummies = pd.get_dummies(df[variable], prefix=variable, drop_first=True)\n",
    "    df = pd.concat([df, dummies], axis=1)\n",
    "    df.drop(variable, axis=1, inplace=True)"
   ]
  },
  {
   "cell_type": "code",
   "execution_count": 165,
   "metadata": {},
   "outputs": [
    {
     "data": {
      "text/plain": [
       "Index(['school', 'sex', 'age', 'address', 'famsize', 'Pstatus', 'Medu', 'Fedu',\n",
       "       'traveltime', 'studytime', 'failures', 'schoolsup', 'famsup', 'paid',\n",
       "       'activities', 'nursery', 'higher', 'internet', 'romantic', 'famrel',\n",
       "       'freetime', 'goout', 'Dalc', 'Walc', 'health', 'absences', 'G1', 'G2',\n",
       "       'G3', 'Mjob_health', 'Mjob_other', 'Mjob_services', 'Mjob_teacher',\n",
       "       'Fjob_health', 'Fjob_other', 'Fjob_services', 'Fjob_teacher',\n",
       "       'reason_home', 'reason_other', 'reason_reputation', 'guardian_mother',\n",
       "       'guardian_other'],\n",
       "      dtype='object')"
      ]
     },
     "execution_count": 165,
     "metadata": {},
     "output_type": "execute_result"
    }
   ],
   "source": [
    "df.columns"
   ]
  },
  {
   "attachments": {},
   "cell_type": "markdown",
   "metadata": {},
   "source": [
    "    Conversión de todos los datos a tipo numérico"
   ]
  },
  {
   "cell_type": "code",
   "execution_count": 166,
   "metadata": {},
   "outputs": [],
   "source": [
    "for col in df.columns:\n",
    "    df[col] = df[col].astype('float64')"
   ]
  },
  {
   "cell_type": "code",
   "execution_count": 167,
   "metadata": {},
   "outputs": [
    {
     "data": {
      "text/html": [
       "<div>\n",
       "<style scoped>\n",
       "    .dataframe tbody tr th:only-of-type {\n",
       "        vertical-align: middle;\n",
       "    }\n",
       "\n",
       "    .dataframe tbody tr th {\n",
       "        vertical-align: top;\n",
       "    }\n",
       "\n",
       "    .dataframe thead th {\n",
       "        text-align: right;\n",
       "    }\n",
       "</style>\n",
       "<table border=\"1\" class=\"dataframe\">\n",
       "  <thead>\n",
       "    <tr style=\"text-align: right;\">\n",
       "      <th></th>\n",
       "      <th>school</th>\n",
       "      <th>sex</th>\n",
       "      <th>age</th>\n",
       "      <th>address</th>\n",
       "      <th>famsize</th>\n",
       "      <th>Pstatus</th>\n",
       "      <th>Medu</th>\n",
       "      <th>Fedu</th>\n",
       "      <th>traveltime</th>\n",
       "      <th>studytime</th>\n",
       "      <th>...</th>\n",
       "      <th>Mjob_teacher</th>\n",
       "      <th>Fjob_health</th>\n",
       "      <th>Fjob_other</th>\n",
       "      <th>Fjob_services</th>\n",
       "      <th>Fjob_teacher</th>\n",
       "      <th>reason_home</th>\n",
       "      <th>reason_other</th>\n",
       "      <th>reason_reputation</th>\n",
       "      <th>guardian_mother</th>\n",
       "      <th>guardian_other</th>\n",
       "    </tr>\n",
       "  </thead>\n",
       "  <tbody>\n",
       "    <tr>\n",
       "      <th>0</th>\n",
       "      <td>0.0</td>\n",
       "      <td>0.0</td>\n",
       "      <td>NaN</td>\n",
       "      <td>1.0</td>\n",
       "      <td>0.0</td>\n",
       "      <td>0.0</td>\n",
       "      <td>4.0</td>\n",
       "      <td>4.0</td>\n",
       "      <td>2.0</td>\n",
       "      <td>2.0</td>\n",
       "      <td>...</td>\n",
       "      <td>0.0</td>\n",
       "      <td>0.0</td>\n",
       "      <td>0.0</td>\n",
       "      <td>0.0</td>\n",
       "      <td>1.0</td>\n",
       "      <td>0.0</td>\n",
       "      <td>0.0</td>\n",
       "      <td>0.0</td>\n",
       "      <td>1.0</td>\n",
       "      <td>0.0</td>\n",
       "    </tr>\n",
       "    <tr>\n",
       "      <th>1</th>\n",
       "      <td>0.0</td>\n",
       "      <td>0.0</td>\n",
       "      <td>17.0</td>\n",
       "      <td>1.0</td>\n",
       "      <td>0.0</td>\n",
       "      <td>1.0</td>\n",
       "      <td>1.0</td>\n",
       "      <td>1.0</td>\n",
       "      <td>1.0</td>\n",
       "      <td>2.0</td>\n",
       "      <td>...</td>\n",
       "      <td>0.0</td>\n",
       "      <td>0.0</td>\n",
       "      <td>1.0</td>\n",
       "      <td>0.0</td>\n",
       "      <td>0.0</td>\n",
       "      <td>0.0</td>\n",
       "      <td>0.0</td>\n",
       "      <td>0.0</td>\n",
       "      <td>0.0</td>\n",
       "      <td>0.0</td>\n",
       "    </tr>\n",
       "    <tr>\n",
       "      <th>2</th>\n",
       "      <td>0.0</td>\n",
       "      <td>0.0</td>\n",
       "      <td>15.0</td>\n",
       "      <td>1.0</td>\n",
       "      <td>1.0</td>\n",
       "      <td>1.0</td>\n",
       "      <td>1.0</td>\n",
       "      <td>1.0</td>\n",
       "      <td>1.0</td>\n",
       "      <td>2.0</td>\n",
       "      <td>...</td>\n",
       "      <td>0.0</td>\n",
       "      <td>0.0</td>\n",
       "      <td>1.0</td>\n",
       "      <td>0.0</td>\n",
       "      <td>0.0</td>\n",
       "      <td>0.0</td>\n",
       "      <td>1.0</td>\n",
       "      <td>0.0</td>\n",
       "      <td>1.0</td>\n",
       "      <td>0.0</td>\n",
       "    </tr>\n",
       "  </tbody>\n",
       "</table>\n",
       "<p>3 rows × 42 columns</p>\n",
       "</div>"
      ],
      "text/plain": [
       "   school  sex   age  address  famsize  Pstatus  Medu  Fedu  traveltime  \\\n",
       "0     0.0  0.0   NaN      1.0      0.0      0.0   4.0   4.0         2.0   \n",
       "1     0.0  0.0  17.0      1.0      0.0      1.0   1.0   1.0         1.0   \n",
       "2     0.0  0.0  15.0      1.0      1.0      1.0   1.0   1.0         1.0   \n",
       "\n",
       "   studytime  ...  Mjob_teacher  Fjob_health  Fjob_other  Fjob_services  \\\n",
       "0        2.0  ...           0.0          0.0         0.0            0.0   \n",
       "1        2.0  ...           0.0          0.0         1.0            0.0   \n",
       "2        2.0  ...           0.0          0.0         1.0            0.0   \n",
       "\n",
       "   Fjob_teacher  reason_home  reason_other  reason_reputation  \\\n",
       "0           1.0          0.0           0.0                0.0   \n",
       "1           0.0          0.0           0.0                0.0   \n",
       "2           0.0          0.0           1.0                0.0   \n",
       "\n",
       "   guardian_mother  guardian_other  \n",
       "0              1.0             0.0  \n",
       "1              0.0             0.0  \n",
       "2              1.0             0.0  \n",
       "\n",
       "[3 rows x 42 columns]"
      ]
     },
     "execution_count": 167,
     "metadata": {},
     "output_type": "execute_result"
    }
   ],
   "source": [
    "df.head(3)"
   ]
  },
  {
   "attachments": {},
   "cell_type": "markdown",
   "metadata": {},
   "source": [
    "    Identificación de categoría minoritaria para cada variable binaria"
   ]
  },
  {
   "cell_type": "code",
   "execution_count": 168,
   "metadata": {},
   "outputs": [
    {
     "name": "stdout",
     "output_type": "stream",
     "text": [
      "['school', 'sex', 'address', 'famsize', 'Pstatus', 'schoolsup', 'famsup', 'paid', 'activities', 'nursery', 'higher', 'internet', 'romantic', 'Mjob_health', 'Mjob_other', 'Mjob_services', 'Mjob_teacher', 'Fjob_health', 'Fjob_other', 'Fjob_services', 'Fjob_teacher', 'reason_home', 'reason_other', 'reason_reputation', 'guardian_mother', 'guardian_other']\n"
     ]
    }
   ],
   "source": [
    "binary_and_dummies = []\n",
    "for index, value in enumerate(df):\n",
    "    if len(df[value].value_counts()) <= 2:\n",
    "        binary_and_dummies.append(value)\n",
    "print(binary_and_dummies)"
   ]
  },
  {
   "attachments": {},
   "cell_type": "markdown",
   "metadata": {},
   "source": [
    "    Verificación que la categoría minoritaria tenga asignado el valor 1"
   ]
  },
  {
   "cell_type": "code",
   "execution_count": 169,
   "metadata": {},
   "outputs": [
    {
     "name": "stdout",
     "output_type": "stream",
     "text": [
      "school :\n",
      " 0.0    350\n",
      "1.0     45\n",
      "Name: school, dtype: int64 \n",
      " ------------------------------\n",
      "sex :\n",
      " 0.0    209\n",
      "1.0    186\n",
      "Name: sex, dtype: int64 \n",
      " ------------------------------\n",
      "address :\n",
      " 1.0    305\n",
      "0.0     90\n",
      "Name: address, dtype: int64 \n",
      " ------------------------------\n",
      "famsize :\n",
      " 0.0    282\n",
      "1.0    113\n",
      "Name: famsize, dtype: int64 \n",
      " ------------------------------\n",
      "Pstatus :\n",
      " 1.0    349\n",
      "0.0     46\n",
      "Name: Pstatus, dtype: int64 \n",
      " ------------------------------\n",
      "schoolsup :\n",
      " 0.0    345\n",
      "1.0     50\n",
      "Name: schoolsup, dtype: int64 \n",
      " ------------------------------\n",
      "famsup :\n",
      " 1.0    239\n",
      "0.0    156\n",
      "Name: famsup, dtype: int64 \n",
      " ------------------------------\n",
      "paid :\n",
      " 0.0    215\n",
      "1.0    180\n",
      "Name: paid, dtype: int64 \n",
      " ------------------------------\n",
      "activities :\n",
      " 1.0    199\n",
      "0.0    196\n",
      "Name: activities, dtype: int64 \n",
      " ------------------------------\n",
      "nursery :\n",
      " 1.0    309\n",
      "0.0     86\n",
      "Name: nursery, dtype: int64 \n",
      " ------------------------------\n",
      "higher :\n",
      " 1.0    369\n",
      "0.0     26\n",
      "Name: higher, dtype: int64 \n",
      " ------------------------------\n",
      "internet :\n",
      " 1.0    327\n",
      "0.0     68\n",
      "Name: internet, dtype: int64 \n",
      " ------------------------------\n",
      "romantic :\n",
      " 0.0    264\n",
      "1.0    131\n",
      "Name: romantic, dtype: int64 \n",
      " ------------------------------\n",
      "Mjob_health :\n",
      " 0.0    362\n",
      "1.0     33\n",
      "Name: Mjob_health, dtype: int64 \n",
      " ------------------------------\n",
      "Mjob_other :\n",
      " 0.0    257\n",
      "1.0    138\n",
      "Name: Mjob_other, dtype: int64 \n",
      " ------------------------------\n",
      "Mjob_services :\n",
      " 0.0    293\n",
      "1.0    102\n",
      "Name: Mjob_services, dtype: int64 \n",
      " ------------------------------\n",
      "Mjob_teacher :\n",
      " 0.0    338\n",
      "1.0     57\n",
      "Name: Mjob_teacher, dtype: int64 \n",
      " ------------------------------\n",
      "Fjob_health :\n",
      " 0.0    377\n",
      "1.0     18\n",
      "Name: Fjob_health, dtype: int64 \n",
      " ------------------------------\n",
      "Fjob_other :\n",
      " 1.0    217\n",
      "0.0    178\n",
      "Name: Fjob_other, dtype: int64 \n",
      " ------------------------------\n",
      "Fjob_services :\n",
      " 0.0    284\n",
      "1.0    111\n",
      "Name: Fjob_services, dtype: int64 \n",
      " ------------------------------\n",
      "Fjob_teacher :\n",
      " 0.0    366\n",
      "1.0     29\n",
      "Name: Fjob_teacher, dtype: int64 \n",
      " ------------------------------\n",
      "reason_home :\n",
      " 0.0    287\n",
      "1.0    108\n",
      "Name: reason_home, dtype: int64 \n",
      " ------------------------------\n",
      "reason_other :\n",
      " 0.0    359\n",
      "1.0     36\n",
      "Name: reason_other, dtype: int64 \n",
      " ------------------------------\n",
      "reason_reputation :\n",
      " 0.0    292\n",
      "1.0    103\n",
      "Name: reason_reputation, dtype: int64 \n",
      " ------------------------------\n",
      "guardian_mother :\n",
      " 1.0    270\n",
      "0.0    125\n",
      "Name: guardian_mother, dtype: int64 \n",
      " ------------------------------\n",
      "guardian_other :\n",
      " 0.0    363\n",
      "1.0     32\n",
      "Name: guardian_other, dtype: int64 \n",
      " ------------------------------\n"
     ]
    }
   ],
   "source": [
    "# identificación de categoría minoritaria para cada variable binaria\n",
    "for var in binary_and_dummies:\n",
    "    print(var,':\\n', df[var].value_counts(),'\\n','-'*30)"
   ]
  },
  {
   "attachments": {},
   "cell_type": "markdown",
   "metadata": {},
   "source": [
    "    Al verificar visualmente que la categoría minoritaria tenga asignado el valor 1, se observa que las variables 'address', 'Pstatus', 'famsup', 'activities', 'nursery', 'higher', 'internet', 'Fjob_other' y 'guardian_mother' tienen estos valores cambiados.\n",
    "    Esto es fácil de corregir con el método .replace()"
   ]
  },
  {
   "cell_type": "code",
   "execution_count": 170,
   "metadata": {},
   "outputs": [],
   "source": [
    "swap_binary = ['address', 'Pstatus', 'famsup', 'activities', 'nursery', 'higher', 'internet', 'Fjob_other', 'guardian_mother']\n",
    "for variable in swap_binary:\n",
    "    df[variable] = df[variable].replace([1, 0], [0, 1])"
   ]
  },
  {
   "attachments": {},
   "cell_type": "markdown",
   "metadata": {},
   "source": [
    "    Se vuelve a verificar que la categoría minoritaria tenga asignado el valor 1"
   ]
  },
  {
   "cell_type": "code",
   "execution_count": 171,
   "metadata": {},
   "outputs": [
    {
     "name": "stdout",
     "output_type": "stream",
     "text": [
      "school :\n",
      " 0.0    350\n",
      "1.0     45\n",
      "Name: school, dtype: int64 \n",
      " ------------------------------\n",
      "sex :\n",
      " 0.0    209\n",
      "1.0    186\n",
      "Name: sex, dtype: int64 \n",
      " ------------------------------\n",
      "address :\n",
      " 0.0    305\n",
      "1.0     90\n",
      "Name: address, dtype: int64 \n",
      " ------------------------------\n",
      "famsize :\n",
      " 0.0    282\n",
      "1.0    113\n",
      "Name: famsize, dtype: int64 \n",
      " ------------------------------\n",
      "Pstatus :\n",
      " 0.0    349\n",
      "1.0     46\n",
      "Name: Pstatus, dtype: int64 \n",
      " ------------------------------\n",
      "schoolsup :\n",
      " 0.0    345\n",
      "1.0     50\n",
      "Name: schoolsup, dtype: int64 \n",
      " ------------------------------\n",
      "famsup :\n",
      " 0.0    239\n",
      "1.0    156\n",
      "Name: famsup, dtype: int64 \n",
      " ------------------------------\n",
      "paid :\n",
      " 0.0    215\n",
      "1.0    180\n",
      "Name: paid, dtype: int64 \n",
      " ------------------------------\n",
      "activities :\n",
      " 0.0    199\n",
      "1.0    196\n",
      "Name: activities, dtype: int64 \n",
      " ------------------------------\n",
      "nursery :\n",
      " 0.0    309\n",
      "1.0     86\n",
      "Name: nursery, dtype: int64 \n",
      " ------------------------------\n",
      "higher :\n",
      " 0.0    369\n",
      "1.0     26\n",
      "Name: higher, dtype: int64 \n",
      " ------------------------------\n",
      "internet :\n",
      " 0.0    327\n",
      "1.0     68\n",
      "Name: internet, dtype: int64 \n",
      " ------------------------------\n",
      "romantic :\n",
      " 0.0    264\n",
      "1.0    131\n",
      "Name: romantic, dtype: int64 \n",
      " ------------------------------\n",
      "Mjob_health :\n",
      " 0.0    362\n",
      "1.0     33\n",
      "Name: Mjob_health, dtype: int64 \n",
      " ------------------------------\n",
      "Mjob_other :\n",
      " 0.0    257\n",
      "1.0    138\n",
      "Name: Mjob_other, dtype: int64 \n",
      " ------------------------------\n",
      "Mjob_services :\n",
      " 0.0    293\n",
      "1.0    102\n",
      "Name: Mjob_services, dtype: int64 \n",
      " ------------------------------\n",
      "Mjob_teacher :\n",
      " 0.0    338\n",
      "1.0     57\n",
      "Name: Mjob_teacher, dtype: int64 \n",
      " ------------------------------\n",
      "Fjob_health :\n",
      " 0.0    377\n",
      "1.0     18\n",
      "Name: Fjob_health, dtype: int64 \n",
      " ------------------------------\n",
      "Fjob_other :\n",
      " 0.0    217\n",
      "1.0    178\n",
      "Name: Fjob_other, dtype: int64 \n",
      " ------------------------------\n",
      "Fjob_services :\n",
      " 0.0    284\n",
      "1.0    111\n",
      "Name: Fjob_services, dtype: int64 \n",
      " ------------------------------\n",
      "Fjob_teacher :\n",
      " 0.0    366\n",
      "1.0     29\n",
      "Name: Fjob_teacher, dtype: int64 \n",
      " ------------------------------\n",
      "reason_home :\n",
      " 0.0    287\n",
      "1.0    108\n",
      "Name: reason_home, dtype: int64 \n",
      " ------------------------------\n",
      "reason_other :\n",
      " 0.0    359\n",
      "1.0     36\n",
      "Name: reason_other, dtype: int64 \n",
      " ------------------------------\n",
      "reason_reputation :\n",
      " 0.0    292\n",
      "1.0    103\n",
      "Name: reason_reputation, dtype: int64 \n",
      " ------------------------------\n",
      "guardian_mother :\n",
      " 0.0    270\n",
      "1.0    125\n",
      "Name: guardian_mother, dtype: int64 \n",
      " ------------------------------\n",
      "guardian_other :\n",
      " 0.0    363\n",
      "1.0     32\n",
      "Name: guardian_other, dtype: int64 \n",
      " ------------------------------\n"
     ]
    }
   ],
   "source": [
    "# verificación que la categoría minoritaria tenga asignado el valor 1\n",
    "for var in binary_and_dummies:\n",
    "    print(var,':\\n', df[var].value_counts(),'\\n','-'*30)"
   ]
  },
  {
   "attachments": {},
   "cell_type": "markdown",
   "metadata": {},
   "source": [
    "### Comprobación de correcta recodificación mediante la visualización de los valores únicos"
   ]
  },
  {
   "cell_type": "code",
   "execution_count": 172,
   "metadata": {},
   "outputs": [
    {
     "name": "stdout",
     "output_type": "stream",
     "text": [
      "Valores únicos:\n",
      "school :\n",
      " [0. 1.] \n",
      " ------------------------------------------------------------\n",
      "sex :\n",
      " [0. 1.] \n",
      " ------------------------------------------------------------\n",
      "age :\n",
      " [nan 17. 15. 16. 19. 18. 22. 20. 21.] \n",
      " ------------------------------------------------------------\n",
      "address :\n",
      " [0. 1.] \n",
      " ------------------------------------------------------------\n",
      "famsize :\n",
      " [0. 1.] \n",
      " ------------------------------------------------------------\n",
      "Pstatus :\n",
      " [1. 0.] \n",
      " ------------------------------------------------------------\n",
      "Medu :\n",
      " [ 4.  1.  3.  2. nan  0.] \n",
      " ------------------------------------------------------------\n",
      "Fedu :\n",
      " [ 4.  1.  2.  3.  0. nan] \n",
      " ------------------------------------------------------------\n",
      "traveltime :\n",
      " [ 2.  1.  3.  4. nan] \n",
      " ------------------------------------------------------------\n",
      "studytime :\n",
      " [ 2.  3.  1.  4. nan] \n",
      " ------------------------------------------------------------\n",
      "failures :\n",
      " [ 0.  3.  2.  1. nan] \n",
      " ------------------------------------------------------------\n",
      "schoolsup :\n",
      " [1. 0.] \n",
      " ------------------------------------------------------------\n",
      "famsup :\n",
      " [1. 0.] \n",
      " ------------------------------------------------------------\n",
      "paid :\n",
      " [0. 1.] \n",
      " ------------------------------------------------------------\n",
      "activities :\n",
      " [1. 0.] \n",
      " ------------------------------------------------------------\n",
      "nursery :\n",
      " [0. 1.] \n",
      " ------------------------------------------------------------\n",
      "higher :\n",
      " [0. 1.] \n",
      " ------------------------------------------------------------\n",
      "internet :\n",
      " [1. 0.] \n",
      " ------------------------------------------------------------\n",
      "romantic :\n",
      " [0. 1.] \n",
      " ------------------------------------------------------------\n",
      "famrel :\n",
      " [ 4.  5.  3.  1.  2. nan] \n",
      " ------------------------------------------------------------\n",
      "freetime :\n",
      " [ 3.  2.  4.  1.  5. nan] \n",
      " ------------------------------------------------------------\n",
      "goout :\n",
      " [ 4.  3.  2.  1.  5. nan] \n",
      " ------------------------------------------------------------\n",
      "Dalc :\n",
      " [ 1.  2.  5.  3. nan  4.] \n",
      " ------------------------------------------------------------\n",
      "Walc :\n",
      " [ 1.  3.  2.  4.  5. nan] \n",
      " ------------------------------------------------------------\n",
      "health :\n",
      " [ 3.  5.  1.  2.  4. nan] \n",
      " ------------------------------------------------------------\n",
      "absences :\n",
      " [ 6.  4. 10.  2.  0. 16. 14.  7.  8. 25. nan 12. 54. 18. 26. 20. 56. 24.\n",
      " 28.  5. 13. 15. 22.  3. 21.  1. 75. 30. 19.  9. 11. 38. 40. 23. 17.] \n",
      " ------------------------------------------------------------\n",
      "G1 :\n",
      " [ 5. nan 15.  6. 12. 16. 14. 10. 13.  8. 11.  9. 17.  7. 19. 18.  4.  3.] \n",
      " ------------------------------------------------------------\n",
      "G2 :\n",
      " [ 6.  5.  8. 14. 10. 15. 12. 18. 16. 13.  9. 11.  7. 19. 17.  4.  0.] \n",
      " ------------------------------------------------------------\n",
      "G3 :\n",
      " [ 6. 10. 15. 11. 19.  9. 12. 14. 16.  5.  8. 17. 18. 13. 20.  7.  0. nan\n",
      "  4.] \n",
      " ------------------------------------------------------------\n",
      "Mjob_health :\n",
      " [0. 1.] \n",
      " ------------------------------------------------------------\n",
      "Mjob_other :\n",
      " [0. 1.] \n",
      " ------------------------------------------------------------\n",
      "Mjob_services :\n",
      " [0. 1.] \n",
      " ------------------------------------------------------------\n",
      "Mjob_teacher :\n",
      " [0. 1.] \n",
      " ------------------------------------------------------------\n",
      "Fjob_health :\n",
      " [0. 1.] \n",
      " ------------------------------------------------------------\n",
      "Fjob_other :\n",
      " [1. 0.] \n",
      " ------------------------------------------------------------\n",
      "Fjob_services :\n",
      " [0. 1.] \n",
      " ------------------------------------------------------------\n",
      "Fjob_teacher :\n",
      " [1. 0.] \n",
      " ------------------------------------------------------------\n",
      "reason_home :\n",
      " [0. 1.] \n",
      " ------------------------------------------------------------\n",
      "reason_other :\n",
      " [0. 1.] \n",
      " ------------------------------------------------------------\n",
      "reason_reputation :\n",
      " [0. 1.] \n",
      " ------------------------------------------------------------\n",
      "guardian_mother :\n",
      " [0. 1.] \n",
      " ------------------------------------------------------------\n",
      "guardian_other :\n",
      " [0. 1.] \n",
      " ------------------------------------------------------------\n"
     ]
    }
   ],
   "source": [
    "print('Valores únicos:')\n",
    "for variable in df.columns:\n",
    "    print(variable,':\\n', df[variable].unique(),'\\n','-'*60)"
   ]
  },
  {
   "attachments": {},
   "cell_type": "markdown",
   "metadata": {},
   "source": [
    "    Comprobación mediante tipo de dato para cada variable"
   ]
  },
  {
   "cell_type": "code",
   "execution_count": 173,
   "metadata": {},
   "outputs": [
    {
     "name": "stdout",
     "output_type": "stream",
     "text": [
      "<class 'pandas.core.frame.DataFrame'>\n",
      "RangeIndex: 395 entries, 0 to 394\n",
      "Data columns (total 42 columns):\n",
      " #   Column             Non-Null Count  Dtype  \n",
      "---  ------             --------------  -----  \n",
      " 0   school             395 non-null    float64\n",
      " 1   sex                395 non-null    float64\n",
      " 2   age                391 non-null    float64\n",
      " 3   address            395 non-null    float64\n",
      " 4   famsize            395 non-null    float64\n",
      " 5   Pstatus            395 non-null    float64\n",
      " 6   Medu               392 non-null    float64\n",
      " 7   Fedu               390 non-null    float64\n",
      " 8   traveltime         392 non-null    float64\n",
      " 9   studytime          390 non-null    float64\n",
      " 10  failures           390 non-null    float64\n",
      " 11  schoolsup          395 non-null    float64\n",
      " 12  famsup             395 non-null    float64\n",
      " 13  paid               395 non-null    float64\n",
      " 14  activities         395 non-null    float64\n",
      " 15  nursery            395 non-null    float64\n",
      " 16  higher             395 non-null    float64\n",
      " 17  internet           395 non-null    float64\n",
      " 18  romantic           395 non-null    float64\n",
      " 19  famrel             390 non-null    float64\n",
      " 20  freetime           393 non-null    float64\n",
      " 21  goout              390 non-null    float64\n",
      " 22  Dalc               392 non-null    float64\n",
      " 23  Walc               390 non-null    float64\n",
      " 24  health             391 non-null    float64\n",
      " 25  absences           391 non-null    float64\n",
      " 26  G1                 391 non-null    float64\n",
      " 27  G2                 395 non-null    float64\n",
      " 28  G3                 392 non-null    float64\n",
      " 29  Mjob_health        395 non-null    float64\n",
      " 30  Mjob_other         395 non-null    float64\n",
      " 31  Mjob_services      395 non-null    float64\n",
      " 32  Mjob_teacher       395 non-null    float64\n",
      " 33  Fjob_health        395 non-null    float64\n",
      " 34  Fjob_other         395 non-null    float64\n",
      " 35  Fjob_services      395 non-null    float64\n",
      " 36  Fjob_teacher       395 non-null    float64\n",
      " 37  reason_home        395 non-null    float64\n",
      " 38  reason_other       395 non-null    float64\n",
      " 39  reason_reputation  395 non-null    float64\n",
      " 40  guardian_mother    395 non-null    float64\n",
      " 41  guardian_other     395 non-null    float64\n",
      "dtypes: float64(42)\n",
      "memory usage: 129.7 KB\n"
     ]
    }
   ],
   "source": [
    "df.info()"
   ]
  },
  {
   "attachments": {},
   "cell_type": "markdown",
   "metadata": {},
   "source": [
    "# HITO 2"
   ]
  },
  {
   "attachments": {},
   "cell_type": "markdown",
   "metadata": {},
   "source": [
    "## Vectores objetivos"
   ]
  },
  {
   "cell_type": "code",
   "execution_count": 174,
   "metadata": {},
   "outputs": [
    {
     "data": {
      "text/html": [
       "<div>\n",
       "<style scoped>\n",
       "    .dataframe tbody tr th:only-of-type {\n",
       "        vertical-align: middle;\n",
       "    }\n",
       "\n",
       "    .dataframe tbody tr th {\n",
       "        vertical-align: top;\n",
       "    }\n",
       "\n",
       "    .dataframe thead th {\n",
       "        text-align: right;\n",
       "    }\n",
       "</style>\n",
       "<table border=\"1\" class=\"dataframe\">\n",
       "  <thead>\n",
       "    <tr style=\"text-align: right;\">\n",
       "      <th></th>\n",
       "      <th>G1</th>\n",
       "      <th>G2</th>\n",
       "      <th>G3</th>\n",
       "    </tr>\n",
       "  </thead>\n",
       "  <tbody>\n",
       "    <tr>\n",
       "      <th>count</th>\n",
       "      <td>391.000000</td>\n",
       "      <td>395.000000</td>\n",
       "      <td>392.000000</td>\n",
       "    </tr>\n",
       "    <tr>\n",
       "      <th>mean</th>\n",
       "      <td>10.933504</td>\n",
       "      <td>10.713924</td>\n",
       "      <td>10.446429</td>\n",
       "    </tr>\n",
       "    <tr>\n",
       "      <th>std</th>\n",
       "      <td>3.320593</td>\n",
       "      <td>3.761505</td>\n",
       "      <td>4.568007</td>\n",
       "    </tr>\n",
       "    <tr>\n",
       "      <th>min</th>\n",
       "      <td>3.000000</td>\n",
       "      <td>0.000000</td>\n",
       "      <td>0.000000</td>\n",
       "    </tr>\n",
       "    <tr>\n",
       "      <th>25%</th>\n",
       "      <td>8.000000</td>\n",
       "      <td>9.000000</td>\n",
       "      <td>8.000000</td>\n",
       "    </tr>\n",
       "    <tr>\n",
       "      <th>50%</th>\n",
       "      <td>11.000000</td>\n",
       "      <td>11.000000</td>\n",
       "      <td>11.000000</td>\n",
       "    </tr>\n",
       "    <tr>\n",
       "      <th>75%</th>\n",
       "      <td>13.000000</td>\n",
       "      <td>13.000000</td>\n",
       "      <td>14.000000</td>\n",
       "    </tr>\n",
       "    <tr>\n",
       "      <th>max</th>\n",
       "      <td>19.000000</td>\n",
       "      <td>19.000000</td>\n",
       "      <td>20.000000</td>\n",
       "    </tr>\n",
       "  </tbody>\n",
       "</table>\n",
       "</div>"
      ],
      "text/plain": [
       "               G1          G2          G3\n",
       "count  391.000000  395.000000  392.000000\n",
       "mean    10.933504   10.713924   10.446429\n",
       "std      3.320593    3.761505    4.568007\n",
       "min      3.000000    0.000000    0.000000\n",
       "25%      8.000000    9.000000    8.000000\n",
       "50%     11.000000   11.000000   11.000000\n",
       "75%     13.000000   13.000000   14.000000\n",
       "max     19.000000   19.000000   20.000000"
      ]
     },
     "execution_count": 174,
     "metadata": {},
     "output_type": "execute_result"
    }
   ],
   "source": [
    "df.loc[:, ['G1', 'G2', 'G3']].describe()"
   ]
  },
  {
   "attachments": {},
   "cell_type": "markdown",
   "metadata": {},
   "source": [
    "    Respecto a los vectores objetivos, se nota un leve disminución en el promedio general de todos los alumnos a medida que avanza el año escolar. El resultado final es bastante bajo considerando que la nota máxima es 20 y la media obtenida para G3 fue de 10.4"
   ]
  },
  {
   "attachments": {},
   "cell_type": "markdown",
   "metadata": {},
   "source": [
    "### Boxplots de los vectores objetivos"
   ]
  },
  {
   "cell_type": "code",
   "execution_count": 175,
   "metadata": {},
   "outputs": [
    {
     "data": {
      "image/png": "[encoded data removed]",
      "text/plain": [
       "<Figure size 600x600 with 3 Axes>"
      ]
     },
     "metadata": {},
     "output_type": "display_data"
    }
   ],
   "source": [
    "plt.figure(figsize=(6, 6))\n",
    "for index, value in enumerate(['G1', 'G2', 'G3']):\n",
    "    plt.subplot(1, 3, index + 1)\n",
    "    ax = sns.boxplot(y=df[value])\n",
    "    plt.ylim(-1,21)\n",
    "    ax.set_yticks(range(0, 21, 2))\n",
    "    plt.title(value)\n",
    "    plt.ylabel('')\n",
    "    plt.tight_layout()"
   ]
  },
  {
   "attachments": {},
   "cell_type": "markdown",
   "metadata": {},
   "source": [
    "    De manera gráfica se observa que la mediana para los tres vectores objetivos es la misma. Esto es consistente con lo obtenido mediante el método .describe() realizado anteriormente.\n",
    "    De igual manera, se observa un valor atípico o outlier para G2, el que corresponde a una nota cero.\n",
    "    Para G2 se observa que el 50% de las notas varían entre 9 y 11.\n",
    "    El gráfico de caja de G3 muestra una mayor varianza en el promedio final, abarcando la totalidad del rango de notas.\n"
   ]
  },
  {
   "attachments": {},
   "cell_type": "markdown",
   "metadata": {},
   "source": [
    "### Histogramas de los vectores objetivos"
   ]
  },
  {
   "cell_type": "code",
   "execution_count": 176,
   "metadata": {},
   "outputs": [
    {
     "data": {
      "image/png": "[encoded data removed]",
      "text/plain": [
       "<Figure size 2000x400 with 3 Axes>"
      ]
     },
     "metadata": {},
     "output_type": "display_data"
    }
   ],
   "source": [
    "plt.figure(figsize=(20,4))\n",
    "for index, vector in enumerate(['G1', 'G2', 'G3']):\n",
    "    plt.subplot(1, 3, index + 1)\n",
    "    ax = sns.countplot(df[vector], palette='GnBu_r')\n",
    "    plt.xlabel(\"Notas\")\n",
    "    plt.ylabel(\"Frecuencia\")\n",
    "    plt.title(f'Histograma de {vector}')\n",
    "    for i in ax.containers:\n",
    "        ax.bar_label(i, label_type='edge')\n",
    "plt.tight_layout()"
   ]
  },
  {
   "attachments": {},
   "cell_type": "markdown",
   "metadata": {},
   "source": [
    "    A diferencia del método .describe() y el gráfico de cajas, en este es posible distinguir de manera clara la cantidad de alumnos para cada nota.\n",
    "    Se puede ver que en G2, el dato mostrado como un outlier en el gráfico de cajas, corresponde a 13 alumnos con nota cero.\n",
    "    "
   ]
  },
  {
   "attachments": {},
   "cell_type": "markdown",
   "metadata": {},
   "source": [
    "### Datos perdidos en los vectores objetivos"
   ]
  },
  {
   "cell_type": "code",
   "execution_count": 177,
   "metadata": {},
   "outputs": [
    {
     "name": "stdout",
     "output_type": "stream",
     "text": [
      "Porcentaje y cantidad de datos perdidos para G1:\n",
      "Porcentaje:\n",
      " False    98.987\n",
      "True      1.013\n",
      "Name: G1, dtype: float64 \n",
      " --------------------\n",
      "Cantidad:\n",
      " False    391\n",
      "True       4\n",
      "Name: G1, dtype: int64 \n",
      " --------------------------------------------------\n",
      "Porcentaje y cantidad de datos perdidos para G2:\n",
      "Porcentaje:\n",
      " False    100.0\n",
      "Name: G2, dtype: float64 \n",
      " --------------------\n",
      "Cantidad:\n",
      " False    395\n",
      "Name: G2, dtype: int64 \n",
      " --------------------------------------------------\n",
      "Porcentaje y cantidad de datos perdidos para G3:\n",
      "Porcentaje:\n",
      " False    99.241\n",
      "True      0.759\n",
      "Name: G3, dtype: float64 \n",
      " --------------------\n",
      "Cantidad:\n",
      " False    392\n",
      "True       3\n",
      "Name: G3, dtype: int64 \n",
      " --------------------------------------------------\n"
     ]
    }
   ],
   "source": [
    "# Porcentaje de datos perdidos en los vectores objetivos\n",
    "for vector in ['G1', 'G2', 'G3']:\n",
    "    print(f'Porcentaje y cantidad de datos perdidos para {vector}:')\n",
    "    print('Porcentaje:\\n',round((df[vector].isna().value_counts('%')*100),3),'\\n','-'*20)\n",
    "    print('Cantidad:\\n',df[vector].isna().value_counts(),'\\n','-'*50)"
   ]
  },
  {
   "attachments": {},
   "cell_type": "markdown",
   "metadata": {},
   "source": [
    "### Observación de la normalidad de los vectores objetivos"
   ]
  },
  {
   "cell_type": "code",
   "execution_count": 178,
   "metadata": {},
   "outputs": [
    {
     "data": {
      "text/plain": [
       "<Figure size 200x200 with 0 Axes>"
      ]
     },
     "metadata": {},
     "output_type": "display_data"
    },
    {
     "data": {
      "image/png": "[encoded data removed]",
      "text/plain": [
       "<Figure size 640x480 with 1 Axes>"
      ]
     },
     "metadata": {},
     "output_type": "display_data"
    },
    {
     "data": {
      "image/png": "[encoded data removed]",
      "text/plain": [
       "<Figure size 640x480 with 1 Axes>"
      ]
     },
     "metadata": {},
     "output_type": "display_data"
    },
    {
     "data": {
      "image/png": "[encoded data removed]",
      "text/plain": [
       "<Figure size 640x480 with 1 Axes>"
      ]
     },
     "metadata": {},
     "output_type": "display_data"
    }
   ],
   "source": [
    "plt.figure(figsize=(2,2))\n",
    "for index, vector in enumerate(['G1', 'G2', 'G3']):\n",
    "    sm.qqplot(df[vector], line='q')\n",
    "    plt.title(f'qqplot de {vector}')\n",
    "    plt.tight_layout()  "
   ]
  },
  {
   "attachments": {},
   "cell_type": "markdown",
   "metadata": {},
   "source": [
    "    El comportamiento esperado de un gráfico qq que responde a la normalidad es que lo datos se sitúen en torno a la recta.\n",
    "    Para los 3 vectores objetivos que observa que una gran cantidad de los datos que se sitúan en los extremos inferiores presentan desviaciones más notorias."
   ]
  },
  {
   "cell_type": "code",
   "execution_count": 179,
   "metadata": {},
   "outputs": [
    {
     "data": {
      "image/png": "[encoded data removed]",
      "text/plain": [
       "<Figure size 1500x300 with 3 Axes>"
      ]
     },
     "metadata": {},
     "output_type": "display_data"
    }
   ],
   "source": [
    "plt.figure(figsize=(15,3))\n",
    "for index, vector in enumerate(['G1', 'G2', 'G3']):\n",
    "    plt.subplot(1,3, index+1)\n",
    "    sns.distplot(df[vector])\n",
    "    plt.title(f'{vector}')\n",
    "    plt.xlabel('')\n",
    "    plt.ylabel('Densidad')\n",
    "plt.tight_layout()  "
   ]
  },
  {
   "attachments": {},
   "cell_type": "markdown",
   "metadata": {},
   "source": [
    "    Se observa que los vectores 'G2' y 'G3' tienen una distribución cercana a la normal. También se aprecia la variabilidad mostrada en los gráficos qq antes mostrados."
   ]
  },
  {
   "attachments": {},
   "cell_type": "markdown",
   "metadata": {},
   "source": [
    "## Atributos"
   ]
  },
  {
   "attachments": {},
   "cell_type": "markdown",
   "metadata": {},
   "source": [
    "###  Atributos no binarios"
   ]
  },
  {
   "cell_type": "code",
   "execution_count": 180,
   "metadata": {},
   "outputs": [
    {
     "data": {
      "text/html": [
       "<div>\n",
       "<style scoped>\n",
       "    .dataframe tbody tr th:only-of-type {\n",
       "        vertical-align: middle;\n",
       "    }\n",
       "\n",
       "    .dataframe tbody tr th {\n",
       "        vertical-align: top;\n",
       "    }\n",
       "\n",
       "    .dataframe thead th {\n",
       "        text-align: right;\n",
       "    }\n",
       "</style>\n",
       "<table border=\"1\" class=\"dataframe\">\n",
       "  <thead>\n",
       "    <tr style=\"text-align: right;\">\n",
       "      <th></th>\n",
       "      <th>age</th>\n",
       "      <th>Medu</th>\n",
       "      <th>Fedu</th>\n",
       "      <th>traveltime</th>\n",
       "      <th>studytime</th>\n",
       "      <th>failures</th>\n",
       "      <th>famrel</th>\n",
       "      <th>freetime</th>\n",
       "      <th>goout</th>\n",
       "      <th>Dalc</th>\n",
       "      <th>Walc</th>\n",
       "      <th>health</th>\n",
       "      <th>absences</th>\n",
       "    </tr>\n",
       "  </thead>\n",
       "  <tbody>\n",
       "    <tr>\n",
       "      <th>count</th>\n",
       "      <td>391.000000</td>\n",
       "      <td>392.000000</td>\n",
       "      <td>390.000000</td>\n",
       "      <td>392.000000</td>\n",
       "      <td>390.000000</td>\n",
       "      <td>390.000000</td>\n",
       "      <td>390.000000</td>\n",
       "      <td>393.000000</td>\n",
       "      <td>390.000000</td>\n",
       "      <td>392.000000</td>\n",
       "      <td>390.000000</td>\n",
       "      <td>391.000000</td>\n",
       "      <td>391.000000</td>\n",
       "    </tr>\n",
       "    <tr>\n",
       "      <th>mean</th>\n",
       "      <td>16.698210</td>\n",
       "      <td>2.742347</td>\n",
       "      <td>2.525641</td>\n",
       "      <td>1.451531</td>\n",
       "      <td>2.038462</td>\n",
       "      <td>0.335897</td>\n",
       "      <td>3.948718</td>\n",
       "      <td>3.229008</td>\n",
       "      <td>3.102564</td>\n",
       "      <td>1.482143</td>\n",
       "      <td>2.294872</td>\n",
       "      <td>3.570332</td>\n",
       "      <td>5.731458</td>\n",
       "    </tr>\n",
       "    <tr>\n",
       "      <th>std</th>\n",
       "      <td>1.279412</td>\n",
       "      <td>1.095185</td>\n",
       "      <td>1.088906</td>\n",
       "      <td>0.699066</td>\n",
       "      <td>0.842970</td>\n",
       "      <td>0.746883</td>\n",
       "      <td>0.896973</td>\n",
       "      <td>0.996664</td>\n",
       "      <td>1.117629</td>\n",
       "      <td>0.893104</td>\n",
       "      <td>1.293736</td>\n",
       "      <td>1.377303</td>\n",
       "      <td>8.025089</td>\n",
       "    </tr>\n",
       "    <tr>\n",
       "      <th>min</th>\n",
       "      <td>15.000000</td>\n",
       "      <td>0.000000</td>\n",
       "      <td>0.000000</td>\n",
       "      <td>1.000000</td>\n",
       "      <td>1.000000</td>\n",
       "      <td>0.000000</td>\n",
       "      <td>1.000000</td>\n",
       "      <td>1.000000</td>\n",
       "      <td>1.000000</td>\n",
       "      <td>1.000000</td>\n",
       "      <td>1.000000</td>\n",
       "      <td>1.000000</td>\n",
       "      <td>0.000000</td>\n",
       "    </tr>\n",
       "    <tr>\n",
       "      <th>25%</th>\n",
       "      <td>16.000000</td>\n",
       "      <td>2.000000</td>\n",
       "      <td>2.000000</td>\n",
       "      <td>1.000000</td>\n",
       "      <td>1.000000</td>\n",
       "      <td>0.000000</td>\n",
       "      <td>4.000000</td>\n",
       "      <td>3.000000</td>\n",
       "      <td>2.000000</td>\n",
       "      <td>1.000000</td>\n",
       "      <td>1.000000</td>\n",
       "      <td>3.000000</td>\n",
       "      <td>0.000000</td>\n",
       "    </tr>\n",
       "    <tr>\n",
       "      <th>50%</th>\n",
       "      <td>17.000000</td>\n",
       "      <td>3.000000</td>\n",
       "      <td>2.500000</td>\n",
       "      <td>1.000000</td>\n",
       "      <td>2.000000</td>\n",
       "      <td>0.000000</td>\n",
       "      <td>4.000000</td>\n",
       "      <td>3.000000</td>\n",
       "      <td>3.000000</td>\n",
       "      <td>1.000000</td>\n",
       "      <td>2.000000</td>\n",
       "      <td>4.000000</td>\n",
       "      <td>4.000000</td>\n",
       "    </tr>\n",
       "    <tr>\n",
       "      <th>75%</th>\n",
       "      <td>18.000000</td>\n",
       "      <td>4.000000</td>\n",
       "      <td>3.000000</td>\n",
       "      <td>2.000000</td>\n",
       "      <td>2.000000</td>\n",
       "      <td>0.000000</td>\n",
       "      <td>5.000000</td>\n",
       "      <td>4.000000</td>\n",
       "      <td>4.000000</td>\n",
       "      <td>2.000000</td>\n",
       "      <td>3.000000</td>\n",
       "      <td>5.000000</td>\n",
       "      <td>8.000000</td>\n",
       "    </tr>\n",
       "    <tr>\n",
       "      <th>max</th>\n",
       "      <td>22.000000</td>\n",
       "      <td>4.000000</td>\n",
       "      <td>4.000000</td>\n",
       "      <td>4.000000</td>\n",
       "      <td>4.000000</td>\n",
       "      <td>3.000000</td>\n",
       "      <td>5.000000</td>\n",
       "      <td>5.000000</td>\n",
       "      <td>5.000000</td>\n",
       "      <td>5.000000</td>\n",
       "      <td>5.000000</td>\n",
       "      <td>5.000000</td>\n",
       "      <td>75.000000</td>\n",
       "    </tr>\n",
       "  </tbody>\n",
       "</table>\n",
       "</div>"
      ],
      "text/plain": [
       "              age        Medu        Fedu  traveltime   studytime    failures  \\\n",
       "count  391.000000  392.000000  390.000000  392.000000  390.000000  390.000000   \n",
       "mean    16.698210    2.742347    2.525641    1.451531    2.038462    0.335897   \n",
       "std      1.279412    1.095185    1.088906    0.699066    0.842970    0.746883   \n",
       "min     15.000000    0.000000    0.000000    1.000000    1.000000    0.000000   \n",
       "25%     16.000000    2.000000    2.000000    1.000000    1.000000    0.000000   \n",
       "50%     17.000000    3.000000    2.500000    1.000000    2.000000    0.000000   \n",
       "75%     18.000000    4.000000    3.000000    2.000000    2.000000    0.000000   \n",
       "max     22.000000    4.000000    4.000000    4.000000    4.000000    3.000000   \n",
       "\n",
       "           famrel    freetime       goout        Dalc        Walc      health  \\\n",
       "count  390.000000  393.000000  390.000000  392.000000  390.000000  391.000000   \n",
       "mean     3.948718    3.229008    3.102564    1.482143    2.294872    3.570332   \n",
       "std      0.896973    0.996664    1.117629    0.893104    1.293736    1.377303   \n",
       "min      1.000000    1.000000    1.000000    1.000000    1.000000    1.000000   \n",
       "25%      4.000000    3.000000    2.000000    1.000000    1.000000    3.000000   \n",
       "50%      4.000000    3.000000    3.000000    1.000000    2.000000    4.000000   \n",
       "75%      5.000000    4.000000    4.000000    2.000000    3.000000    5.000000   \n",
       "max      5.000000    5.000000    5.000000    5.000000    5.000000    5.000000   \n",
       "\n",
       "         absences  \n",
       "count  391.000000  \n",
       "mean     5.731458  \n",
       "std      8.025089  \n",
       "min      0.000000  \n",
       "25%      0.000000  \n",
       "50%      4.000000  \n",
       "75%      8.000000  \n",
       "max     75.000000  "
      ]
     },
     "execution_count": 180,
     "metadata": {},
     "output_type": "execute_result"
    }
   ],
   "source": [
    "non_binary_atributes = ['age', 'Medu', 'Fedu', 'traveltime', 'studytime', 'failures', 'famrel', 'freetime', 'goout', 'Dalc', 'Walc', 'health', 'absences']\n",
    "df.loc[:, non_binary_atributes].describe()"
   ]
  },
  {
   "attachments": {},
   "cell_type": "markdown",
   "metadata": {},
   "source": [
    "    Por comentar algunas observaciones, el rango de edad de los estudiantes varía entre los 15 y 22 años.\n",
    "    Se observa que en 'studytime' (horas semanales dedicadas al estudio) la media es de 2 lo que corresponde a un tiempo de estudio entre 2 y 5 horas.\n",
    "    En 'absences', el percentil 75 indica que el 75% de los estudiantes ha faltado a la escuela como máximo 8 veces. El 25% restante ha faltado más veces."
   ]
  },
  {
   "attachments": {},
   "cell_type": "markdown",
   "metadata": {},
   "source": [
    "### Porcentaje de datos perdidos en los atributos"
   ]
  },
  {
   "cell_type": "code",
   "execution_count": 181,
   "metadata": {},
   "outputs": [
    {
     "name": "stdout",
     "output_type": "stream",
     "text": [
      "school :\n",
      " False    100.0\n",
      "Name: school, dtype: float64 \n",
      " ------------------------------\n",
      "sex :\n",
      " False    100.0\n",
      "Name: sex, dtype: float64 \n",
      " ------------------------------\n",
      "age :\n",
      " False    98.987\n",
      "True      1.013\n",
      "Name: age, dtype: float64 \n",
      " ------------------------------\n",
      "address :\n",
      " False    100.0\n",
      "Name: address, dtype: float64 \n",
      " ------------------------------\n",
      "famsize :\n",
      " False    100.0\n",
      "Name: famsize, dtype: float64 \n",
      " ------------------------------\n",
      "Pstatus :\n",
      " False    100.0\n",
      "Name: Pstatus, dtype: float64 \n",
      " ------------------------------\n",
      "Medu :\n",
      " False    99.241\n",
      "True      0.759\n",
      "Name: Medu, dtype: float64 \n",
      " ------------------------------\n",
      "Fedu :\n",
      " False    98.734\n",
      "True      1.266\n",
      "Name: Fedu, dtype: float64 \n",
      " ------------------------------\n",
      "traveltime :\n",
      " False    99.241\n",
      "True      0.759\n",
      "Name: traveltime, dtype: float64 \n",
      " ------------------------------\n",
      "studytime :\n",
      " False    98.734\n",
      "True      1.266\n",
      "Name: studytime, dtype: float64 \n",
      " ------------------------------\n",
      "failures :\n",
      " False    98.734\n",
      "True      1.266\n",
      "Name: failures, dtype: float64 \n",
      " ------------------------------\n",
      "schoolsup :\n",
      " False    100.0\n",
      "Name: schoolsup, dtype: float64 \n",
      " ------------------------------\n",
      "famsup :\n",
      " False    100.0\n",
      "Name: famsup, dtype: float64 \n",
      " ------------------------------\n",
      "paid :\n",
      " False    100.0\n",
      "Name: paid, dtype: float64 \n",
      " ------------------------------\n",
      "activities :\n",
      " False    100.0\n",
      "Name: activities, dtype: float64 \n",
      " ------------------------------\n",
      "nursery :\n",
      " False    100.0\n",
      "Name: nursery, dtype: float64 \n",
      " ------------------------------\n",
      "higher :\n",
      " False    100.0\n",
      "Name: higher, dtype: float64 \n",
      " ------------------------------\n",
      "internet :\n",
      " False    100.0\n",
      "Name: internet, dtype: float64 \n",
      " ------------------------------\n",
      "romantic :\n",
      " False    100.0\n",
      "Name: romantic, dtype: float64 \n",
      " ------------------------------\n",
      "famrel :\n",
      " False    98.734\n",
      "True      1.266\n",
      "Name: famrel, dtype: float64 \n",
      " ------------------------------\n",
      "freetime :\n",
      " False    99.494\n",
      "True      0.506\n",
      "Name: freetime, dtype: float64 \n",
      " ------------------------------\n",
      "goout :\n",
      " False    98.734\n",
      "True      1.266\n",
      "Name: goout, dtype: float64 \n",
      " ------------------------------\n",
      "Dalc :\n",
      " False    99.241\n",
      "True      0.759\n",
      "Name: Dalc, dtype: float64 \n",
      " ------------------------------\n",
      "Walc :\n",
      " False    98.734\n",
      "True      1.266\n",
      "Name: Walc, dtype: float64 \n",
      " ------------------------------\n",
      "health :\n",
      " False    98.987\n",
      "True      1.013\n",
      "Name: health, dtype: float64 \n",
      " ------------------------------\n",
      "absences :\n",
      " False    98.987\n",
      "True      1.013\n",
      "Name: absences, dtype: float64 \n",
      " ------------------------------\n",
      "Mjob_health :\n",
      " False    100.0\n",
      "Name: Mjob_health, dtype: float64 \n",
      " ------------------------------\n",
      "Mjob_other :\n",
      " False    100.0\n",
      "Name: Mjob_other, dtype: float64 \n",
      " ------------------------------\n",
      "Mjob_services :\n",
      " False    100.0\n",
      "Name: Mjob_services, dtype: float64 \n",
      " ------------------------------\n",
      "Mjob_teacher :\n",
      " False    100.0\n",
      "Name: Mjob_teacher, dtype: float64 \n",
      " ------------------------------\n",
      "Fjob_health :\n",
      " False    100.0\n",
      "Name: Fjob_health, dtype: float64 \n",
      " ------------------------------\n",
      "Fjob_other :\n",
      " False    100.0\n",
      "Name: Fjob_other, dtype: float64 \n",
      " ------------------------------\n",
      "Fjob_services :\n",
      " False    100.0\n",
      "Name: Fjob_services, dtype: float64 \n",
      " ------------------------------\n",
      "Fjob_teacher :\n",
      " False    100.0\n",
      "Name: Fjob_teacher, dtype: float64 \n",
      " ------------------------------\n",
      "reason_home :\n",
      " False    100.0\n",
      "Name: reason_home, dtype: float64 \n",
      " ------------------------------\n",
      "reason_other :\n",
      " False    100.0\n",
      "Name: reason_other, dtype: float64 \n",
      " ------------------------------\n",
      "reason_reputation :\n",
      " False    100.0\n",
      "Name: reason_reputation, dtype: float64 \n",
      " ------------------------------\n",
      "guardian_mother :\n",
      " False    100.0\n",
      "Name: guardian_mother, dtype: float64 \n",
      " ------------------------------\n",
      "guardian_other :\n",
      " False    100.0\n",
      "Name: guardian_other, dtype: float64 \n",
      " ------------------------------\n"
     ]
    }
   ],
   "source": [
    "df_atributos = df.drop(['G1', 'G2', 'G3'], axis=1)\n",
    "for atributo in df_atributos.columns:\n",
    "    print(atributo,':\\n',round((df[atributo].isna().value_counts('%')*100),3),'\\n','-'*30)"
   ]
  },
  {
   "attachments": {},
   "cell_type": "markdown",
   "metadata": {},
   "source": [
    "    Dado que ningún atributo supera el 5% de datos perdidos, no se considera la eliminación en el dataframe en estudio."
   ]
  },
  {
   "attachments": {},
   "cell_type": "markdown",
   "metadata": {},
   "source": [
    "### Visualización gráfica de las variables binarias luego de la recodificación"
   ]
  },
  {
   "cell_type": "code",
   "execution_count": 182,
   "metadata": {},
   "outputs": [
    {
     "data": {
      "image/png": "[encoded data removed]",
      "text/plain": [
       "<Figure size 1500x1500 with 26 Axes>"
      ]
     },
     "metadata": {},
     "output_type": "display_data"
    }
   ],
   "source": [
    "# identificación de variables binarias\n",
    "binary = []\n",
    "for index, value in enumerate(df):\n",
    "    if len(df[value].value_counts()) <= 2:\n",
    "        binary.append(value)\n",
    "\n",
    "\n",
    "plt.figure(figsize=(15, 15))\n",
    "for index, value in enumerate(binary):\n",
    "    plt.subplot(6, 6, index + 1)\n",
    "    ax = sns.countplot(df[value], palette='GnBu_r')\n",
    "    plt.xlabel(\"\")\n",
    "    plt.ylabel(\"\")\n",
    "    plt.title(value)\n",
    "    for i in ax.containers:\n",
    "        ax.bar_label(i, label_type='edge')\n",
    "plt.tight_layout()"
   ]
  },
  {
   "attachments": {},
   "cell_type": "markdown",
   "metadata": {},
   "source": [
    "    En esta representación gráfica es posible notar el desbalance que tienen algunas variables. Algunas de las que más diferencia presentan son 'higher', 'Mjob_healt', 'Fjob_at_home', 'Fjob_teacher', por nombrar algunas. Más adelante será posible notar el grado de importancia de estas variables."
   ]
  },
  {
   "attachments": {},
   "cell_type": "markdown",
   "metadata": {},
   "source": [
    "### Análisis de la batería de preguntas"
   ]
  },
  {
   "attachments": {},
   "cell_type": "markdown",
   "metadata": {},
   "source": [
    "    A continuación se realizará el análisis para comprobar si la batería de preguntas se pueden abstraer en categorías latentes."
   ]
  },
  {
   "attachments": {},
   "cell_type": "markdown",
   "metadata": {},
   "source": [
    "    Filtramos las columnas y observamos los datos perdidos"
   ]
  },
  {
   "cell_type": "code",
   "execution_count": 183,
   "metadata": {},
   "outputs": [
    {
     "data": {
      "text/plain": [
       "famrel      5\n",
       "freetime    2\n",
       "goout       5\n",
       "Dalc        3\n",
       "Walc        5\n",
       "health      4\n",
       "dtype: int64"
      ]
     },
     "execution_count": 183,
     "metadata": {},
     "output_type": "execute_result"
    }
   ],
   "source": [
    "bateria_preguntas = ['famrel', 'freetime', 'goout', 'Dalc', 'Walc', 'health']\n",
    "df_bat_preg = df.loc[:, bateria_preguntas]\n",
    "df_bat_preg.isna().sum()"
   ]
  },
  {
   "cell_type": "code",
   "execution_count": 184,
   "metadata": {},
   "outputs": [
    {
     "data": {
      "text/plain": [
       "<Figure size 400x400 with 0 Axes>"
      ]
     },
     "metadata": {},
     "output_type": "display_data"
    },
    {
     "data": {
      "image/png": "[encoded data removed]",
      "text/plain": [
       "<Figure size 2500x1000 with 2 Axes>"
      ]
     },
     "metadata": {},
     "output_type": "display_data"
    }
   ],
   "source": [
    "plt.figure(figsize=(4,4))\n",
    "msngo.matrix(df_bat_preg);"
   ]
  },
  {
   "attachments": {},
   "cell_type": "markdown",
   "metadata": {},
   "source": [
    "    La función matrix dentro de la librería missingno permite visualizar la matriz de datos, las líneas en blanco representan respuestas perdidas (o negadas) por el encuestado."
   ]
  },
  {
   "attachments": {},
   "cell_type": "markdown",
   "metadata": {},
   "source": [
    "    Reporte de las medias para cada una de las preguntas de la batería"
   ]
  },
  {
   "cell_type": "code",
   "execution_count": 185,
   "metadata": {},
   "outputs": [
    {
     "data": {
      "image/png": "[encoded data removed]",
      "text/plain": [
       "<Figure size 640x480 with 1 Axes>"
      ]
     },
     "metadata": {},
     "output_type": "display_data"
    }
   ],
   "source": [
    "# Generamos dos arrays vacíos para guardar el nombre de la variable y la media\n",
    "variable = []\n",
    "mean = []\n",
    "\n",
    "# para cada columna de la base, extraemos su nombre y sus valores\n",
    "for colname, serie in df_bat_preg.items():\n",
    "    # guardamos el nombre en variable\n",
    "    variable.append(colname)\n",
    "    # calculamos y procesamos la media\n",
    "    mean.append(serie.mean())\n",
    "\n",
    "df_mean = pd.DataFrame({'var':variable, 'mean': mean}).sort_values(by=['mean'])\n",
    "plt.plot(df_mean['mean'], df_mean['var'],'o');"
   ]
  },
  {
   "attachments": {},
   "cell_type": "markdown",
   "metadata": {},
   "source": [
    "    Acá se muestra el promedio de respuestas para cada pregunta. La numeración de las respuestas va de 1 a 5, donde 1 representa muy poco o muy negativo y 5 muy alto o muy positivo según la pregunta realizada."
   ]
  },
  {
   "attachments": {},
   "cell_type": "markdown",
   "metadata": {},
   "source": [
    "### Idoneidad de la batería de preguntas para extraer factores latentes"
   ]
  },
  {
   "attachments": {},
   "cell_type": "markdown",
   "metadata": {},
   "source": [
    "    Prueba de esfericidad de errores de Bartlett"
   ]
  },
  {
   "cell_type": "code",
   "execution_count": 186,
   "metadata": {},
   "outputs": [
    {
     "data": {
      "text/plain": [
       "(335.2002252214302, 1.2497297491608938e-62)"
      ]
     },
     "execution_count": 186,
     "metadata": {},
     "output_type": "execute_result"
    }
   ],
   "source": [
    "#import factor_analyzer as factor\n",
    "\n",
    "factor.calculate_bartlett_sphericity(df_bat_preg.dropna())"
   ]
  },
  {
   "attachments": {},
   "cell_type": "markdown",
   "metadata": {},
   "source": [
    "    En este caso, la prueba de esfericidad arroja un p_value menor a 0.05, lo que sugiere que la matriz de correlaciones no es igual a la matriz de identidad con un grado suficientemente alto de confianza, por lo que se puede seguir con el análisis."
   ]
  },
  {
   "attachments": {},
   "cell_type": "markdown",
   "metadata": {},
   "source": [
    "    Prueba de muestreo Kaiser-Meyer-Olkin (KMO)"
   ]
  },
  {
   "cell_type": "code",
   "execution_count": 187,
   "metadata": {},
   "outputs": [
    {
     "data": {
      "text/plain": [
       "(array([0.5244842 , 0.59081742, 0.62455709, 0.5834961 , 0.55589928,\n",
       "        0.52162773]),\n",
       " 0.5770395638887426)"
      ]
     },
     "execution_count": 187,
     "metadata": {},
     "output_type": "execute_result"
    }
   ],
   "source": [
    "factor.calculate_kmo(df_bat_preg.dropna())"
   ]
  },
  {
   "attachments": {},
   "cell_type": "markdown",
   "metadata": {},
   "source": [
    "    Valores de KMO sobre 0.7 indican que existe por lo menos un factor latente. En este caso el puntaje para cada ítem dentro de la batería de preguntas es menor, lo que indica que no hay factores latentes."
   ]
  },
  {
   "attachments": {},
   "cell_type": "markdown",
   "metadata": {},
   "source": [
    "# HITO 3"
   ]
  },
  {
   "attachments": {},
   "cell_type": "markdown",
   "metadata": {},
   "source": [
    "    Anteriormente se analizó la batería de preguntas para ver si existían factores latentes. El resultado arrojó que no existen, por lo que estas variables no se considerarán en el primer modelo de regresión.\n",
    "    A partir de esto se iterará para ir ajustando el modelo con la finalidad de aumentar el R-cuadrado, es decir, el poder explicativo del modelo.\n",
    "    Se crea además una copia del dataframe original para evitar conflictos."
   ]
  },
  {
   "attachments": {},
   "cell_type": "markdown",
   "metadata": {},
   "source": [
    "    Como no se considera la bateria de preguntas, estas variables se eliminan del dataframe"
   ]
  },
  {
   "cell_type": "code",
   "execution_count": 188,
   "metadata": {},
   "outputs": [],
   "source": [
    "df.drop(['famrel', 'freetime', 'goout', 'Dalc', 'Walc', 'health'], axis=1, inplace=True)"
   ]
  },
  {
   "cell_type": "code",
   "execution_count": 189,
   "metadata": {},
   "outputs": [],
   "source": [
    "df_model = df.copy()"
   ]
  },
  {
   "attachments": {},
   "cell_type": "markdown",
   "metadata": {},
   "source": [
    "    Para los tres vectores objetivos se utilizará el mismo criterio de modelación.\n",
    "    El primer modelo considerará todas las variables y en el segundo se hará una depuración de aquellas variables que tengan un p_value mayor a 0.05, con esto la cantidad de variables se verá reducida."
   ]
  },
  {
   "attachments": {},
   "cell_type": "markdown",
   "metadata": {},
   "source": [
    "## Vector Objetivo G1"
   ]
  },
  {
   "attachments": {},
   "cell_type": "markdown",
   "metadata": {},
   "source": [
    "### Modelo 1 G1"
   ]
  },
  {
   "cell_type": "code",
   "execution_count": 190,
   "metadata": {},
   "outputs": [],
   "source": [
    "model_G1_v1 = smf.ols('G1 ~ school + sex + age + address + famsize + Pstatus + Medu + Fedu + traveltime + studytime +\\\n",
    "                    failures + schoolsup + famsup + paid + activities + nursery + higher + internet + romantic + absences +\\\n",
    "                    Mjob_health + Mjob_other + Mjob_services + Mjob_teacher + Fjob_health + Fjob_other + Fjob_services +\\\n",
    "                    Fjob_teacher + reason_home + reason_other + reason_reputation + guardian_mother + guardian_other', df_model).fit()"
   ]
  },
  {
   "cell_type": "code",
   "execution_count": 191,
   "metadata": {},
   "outputs": [
    {
     "data": {
      "text/html": [
       "<table class=\"simpletable\">\n",
       "<caption>OLS Regression Results</caption>\n",
       "<tr>\n",
       "  <th>Dep. Variable:</th>           <td>G1</td>        <th>  R-squared:         </th> <td>   0.309</td>\n",
       "</tr>\n",
       "<tr>\n",
       "  <th>Model:</th>                   <td>OLS</td>       <th>  Adj. R-squared:    </th> <td>   0.240</td>\n",
       "</tr>\n",
       "<tr>\n",
       "  <th>Method:</th>             <td>Least Squares</td>  <th>  F-statistic:       </th> <td>   4.466</td>\n",
       "</tr>\n",
       "<tr>\n",
       "  <th>Date:</th>             <td>Tue, 07 Feb 2023</td> <th>  Prob (F-statistic):</th> <td>5.28e-13</td>\n",
       "</tr>\n",
       "<tr>\n",
       "  <th>Time:</th>                 <td>11:45:16</td>     <th>  Log-Likelihood:    </th> <td> -884.53</td>\n",
       "</tr>\n",
       "<tr>\n",
       "  <th>No. Observations:</th>      <td>   363</td>      <th>  AIC:               </th> <td>   1837.</td>\n",
       "</tr>\n",
       "<tr>\n",
       "  <th>Df Residuals:</th>          <td>   329</td>      <th>  BIC:               </th> <td>   1969.</td>\n",
       "</tr>\n",
       "<tr>\n",
       "  <th>Df Model:</th>              <td>    33</td>      <th>                     </th>     <td> </td>   \n",
       "</tr>\n",
       "<tr>\n",
       "  <th>Covariance Type:</th>      <td>nonrobust</td>    <th>                     </th>     <td> </td>   \n",
       "</tr>\n",
       "</table>\n",
       "<table class=\"simpletable\">\n",
       "<tr>\n",
       "          <td></td>             <th>coef</th>     <th>std err</th>      <th>t</th>      <th>P>|t|</th>  <th>[0.025</th>    <th>0.975]</th>  \n",
       "</tr>\n",
       "<tr>\n",
       "  <th>Intercept</th>         <td>   11.8961</td> <td>    2.731</td> <td>    4.356</td> <td> 0.000</td> <td>    6.524</td> <td>   17.268</td>\n",
       "</tr>\n",
       "<tr>\n",
       "  <th>school</th>            <td>    0.2847</td> <td>    0.581</td> <td>    0.490</td> <td> 0.625</td> <td>   -0.858</td> <td>    1.428</td>\n",
       "</tr>\n",
       "<tr>\n",
       "  <th>sex</th>               <td>    0.7890</td> <td>    0.348</td> <td>    2.266</td> <td> 0.024</td> <td>    0.104</td> <td>    1.474</td>\n",
       "</tr>\n",
       "<tr>\n",
       "  <th>age</th>               <td>   -0.1637</td> <td>    0.153</td> <td>   -1.067</td> <td> 0.287</td> <td>   -0.466</td> <td>    0.138</td>\n",
       "</tr>\n",
       "<tr>\n",
       "  <th>address</th>           <td>   -0.0192</td> <td>    0.417</td> <td>   -0.046</td> <td> 0.963</td> <td>   -0.839</td> <td>    0.800</td>\n",
       "</tr>\n",
       "<tr>\n",
       "  <th>famsize</th>           <td>    0.2579</td> <td>    0.364</td> <td>    0.708</td> <td> 0.479</td> <td>   -0.458</td> <td>    0.974</td>\n",
       "</tr>\n",
       "<tr>\n",
       "  <th>Pstatus</th>           <td>   -0.1175</td> <td>    0.517</td> <td>   -0.227</td> <td> 0.820</td> <td>   -1.134</td> <td>    0.899</td>\n",
       "</tr>\n",
       "<tr>\n",
       "  <th>Medu</th>              <td>    0.0912</td> <td>    0.231</td> <td>    0.395</td> <td> 0.693</td> <td>   -0.363</td> <td>    0.546</td>\n",
       "</tr>\n",
       "<tr>\n",
       "  <th>Fedu</th>              <td>    0.0424</td> <td>    0.201</td> <td>    0.211</td> <td> 0.833</td> <td>   -0.352</td> <td>    0.437</td>\n",
       "</tr>\n",
       "<tr>\n",
       "  <th>traveltime</th>        <td>   -0.0835</td> <td>    0.254</td> <td>   -0.329</td> <td> 0.742</td> <td>   -0.583</td> <td>    0.416</td>\n",
       "</tr>\n",
       "<tr>\n",
       "  <th>studytime</th>         <td>    0.6412</td> <td>    0.212</td> <td>    3.022</td> <td> 0.003</td> <td>    0.224</td> <td>    1.059</td>\n",
       "</tr>\n",
       "<tr>\n",
       "  <th>failures</th>          <td>   -1.4689</td> <td>    0.245</td> <td>   -6.004</td> <td> 0.000</td> <td>   -1.950</td> <td>   -0.988</td>\n",
       "</tr>\n",
       "<tr>\n",
       "  <th>schoolsup</th>         <td>   -2.0084</td> <td>    0.495</td> <td>   -4.056</td> <td> 0.000</td> <td>   -2.982</td> <td>   -1.034</td>\n",
       "</tr>\n",
       "<tr>\n",
       "  <th>famsup</th>            <td>    1.0398</td> <td>    0.353</td> <td>    2.949</td> <td> 0.003</td> <td>    0.346</td> <td>    1.734</td>\n",
       "</tr>\n",
       "<tr>\n",
       "  <th>paid</th>              <td>   -0.2339</td> <td>    0.347</td> <td>   -0.673</td> <td> 0.501</td> <td>   -0.917</td> <td>    0.449</td>\n",
       "</tr>\n",
       "<tr>\n",
       "  <th>activities</th>        <td>    0.1805</td> <td>    0.324</td> <td>    0.557</td> <td> 0.578</td> <td>   -0.456</td> <td>    0.817</td>\n",
       "</tr>\n",
       "<tr>\n",
       "  <th>nursery</th>           <td>   -0.2335</td> <td>    0.388</td> <td>   -0.601</td> <td> 0.548</td> <td>   -0.997</td> <td>    0.530</td>\n",
       "</tr>\n",
       "<tr>\n",
       "  <th>higher</th>            <td>   -1.2205</td> <td>    0.665</td> <td>   -1.834</td> <td> 0.068</td> <td>   -2.530</td> <td>    0.089</td>\n",
       "</tr>\n",
       "<tr>\n",
       "  <th>internet</th>          <td>   -0.2408</td> <td>    0.441</td> <td>   -0.546</td> <td> 0.586</td> <td>   -1.108</td> <td>    0.627</td>\n",
       "</tr>\n",
       "<tr>\n",
       "  <th>romantic</th>          <td>   -0.2675</td> <td>    0.349</td> <td>   -0.767</td> <td> 0.444</td> <td>   -0.954</td> <td>    0.419</td>\n",
       "</tr>\n",
       "<tr>\n",
       "  <th>absences</th>          <td>    0.0113</td> <td>    0.021</td> <td>    0.542</td> <td> 0.588</td> <td>   -0.030</td> <td>    0.052</td>\n",
       "</tr>\n",
       "<tr>\n",
       "  <th>Mjob_health</th>       <td>    0.7247</td> <td>    0.778</td> <td>    0.931</td> <td> 0.352</td> <td>   -0.806</td> <td>    2.255</td>\n",
       "</tr>\n",
       "<tr>\n",
       "  <th>Mjob_other</th>        <td>   -0.8213</td> <td>    0.504</td> <td>   -1.631</td> <td> 0.104</td> <td>   -1.812</td> <td>    0.169</td>\n",
       "</tr>\n",
       "<tr>\n",
       "  <th>Mjob_services</th>     <td>    0.4754</td> <td>    0.562</td> <td>    0.845</td> <td> 0.399</td> <td>   -0.631</td> <td>    1.582</td>\n",
       "</tr>\n",
       "<tr>\n",
       "  <th>Mjob_teacher</th>      <td>   -0.7345</td> <td>    0.720</td> <td>   -1.020</td> <td> 0.309</td> <td>   -2.151</td> <td>    0.682</td>\n",
       "</tr>\n",
       "<tr>\n",
       "  <th>Fjob_health</th>       <td>   -0.4906</td> <td>    1.034</td> <td>   -0.474</td> <td> 0.636</td> <td>   -2.525</td> <td>    1.544</td>\n",
       "</tr>\n",
       "<tr>\n",
       "  <th>Fjob_other</th>        <td>    1.0586</td> <td>    0.733</td> <td>    1.443</td> <td> 0.150</td> <td>   -0.384</td> <td>    2.501</td>\n",
       "</tr>\n",
       "<tr>\n",
       "  <th>Fjob_services</th>     <td>   -0.9611</td> <td>    0.754</td> <td>   -1.275</td> <td> 0.203</td> <td>   -2.444</td> <td>    0.522</td>\n",
       "</tr>\n",
       "<tr>\n",
       "  <th>Fjob_teacher</th>      <td>    1.5229</td> <td>    0.945</td> <td>    1.612</td> <td> 0.108</td> <td>   -0.336</td> <td>    3.382</td>\n",
       "</tr>\n",
       "<tr>\n",
       "  <th>reason_home</th>       <td>    0.1887</td> <td>    0.400</td> <td>    0.472</td> <td> 0.638</td> <td>   -0.599</td> <td>    0.976</td>\n",
       "</tr>\n",
       "<tr>\n",
       "  <th>reason_other</th>      <td>   -0.3226</td> <td>    0.591</td> <td>   -0.546</td> <td> 0.585</td> <td>   -1.485</td> <td>    0.840</td>\n",
       "</tr>\n",
       "<tr>\n",
       "  <th>reason_reputation</th> <td>    0.5414</td> <td>    0.424</td> <td>    1.276</td> <td> 0.203</td> <td>   -0.293</td> <td>    1.376</td>\n",
       "</tr>\n",
       "<tr>\n",
       "  <th>guardian_mother</th>   <td>   -0.0761</td> <td>    0.394</td> <td>   -0.193</td> <td> 0.847</td> <td>   -0.851</td> <td>    0.699</td>\n",
       "</tr>\n",
       "<tr>\n",
       "  <th>guardian_other</th>    <td>    1.1186</td> <td>    0.708</td> <td>    1.580</td> <td> 0.115</td> <td>   -0.274</td> <td>    2.511</td>\n",
       "</tr>\n",
       "</table>\n",
       "<table class=\"simpletable\">\n",
       "<tr>\n",
       "  <th>Omnibus:</th>       <td> 9.621</td> <th>  Durbin-Watson:     </th> <td>   2.046</td>\n",
       "</tr>\n",
       "<tr>\n",
       "  <th>Prob(Omnibus):</th> <td> 0.008</td> <th>  Jarque-Bera (JB):  </th> <td>   5.530</td>\n",
       "</tr>\n",
       "<tr>\n",
       "  <th>Skew:</th>          <td> 0.098</td> <th>  Prob(JB):          </th> <td>  0.0630</td>\n",
       "</tr>\n",
       "<tr>\n",
       "  <th>Kurtosis:</th>      <td> 2.428</td> <th>  Cond. No.          </th> <td>    336.</td>\n",
       "</tr>\n",
       "</table><br/><br/>Notes:<br/>[1] Standard Errors assume that the covariance matrix of the errors is correctly specified."
      ],
      "text/plain": [
       "<class 'statsmodels.iolib.summary.Summary'>\n",
       "\"\"\"\n",
       "                            OLS Regression Results                            \n",
       "==============================================================================\n",
       "Dep. Variable:                     G1   R-squared:                       0.309\n",
       "Model:                            OLS   Adj. R-squared:                  0.240\n",
       "Method:                 Least Squares   F-statistic:                     4.466\n",
       "Date:                Tue, 07 Feb 2023   Prob (F-statistic):           5.28e-13\n",
       "Time:                        11:45:16   Log-Likelihood:                -884.53\n",
       "No. Observations:                 363   AIC:                             1837.\n",
       "Df Residuals:                     329   BIC:                             1969.\n",
       "Df Model:                          33                                         \n",
       "Covariance Type:            nonrobust                                         \n",
       "=====================================================================================\n",
       "                        coef    std err          t      P>|t|      [0.025      0.975]\n",
       "-------------------------------------------------------------------------------------\n",
       "Intercept            11.8961      2.731      4.356      0.000       6.524      17.268\n",
       "school                0.2847      0.581      0.490      0.625      -0.858       1.428\n",
       "sex                   0.7890      0.348      2.266      0.024       0.104       1.474\n",
       "age                  -0.1637      0.153     -1.067      0.287      -0.466       0.138\n",
       "address              -0.0192      0.417     -0.046      0.963      -0.839       0.800\n",
       "famsize               0.2579      0.364      0.708      0.479      -0.458       0.974\n",
       "Pstatus              -0.1175      0.517     -0.227      0.820      -1.134       0.899\n",
       "Medu                  0.0912      0.231      0.395      0.693      -0.363       0.546\n",
       "Fedu                  0.0424      0.201      0.211      0.833      -0.352       0.437\n",
       "traveltime           -0.0835      0.254     -0.329      0.742      -0.583       0.416\n",
       "studytime             0.6412      0.212      3.022      0.003       0.224       1.059\n",
       "failures             -1.4689      0.245     -6.004      0.000      -1.950      -0.988\n",
       "schoolsup            -2.0084      0.495     -4.056      0.000      -2.982      -1.034\n",
       "famsup                1.0398      0.353      2.949      0.003       0.346       1.734\n",
       "paid                 -0.2339      0.347     -0.673      0.501      -0.917       0.449\n",
       "activities            0.1805      0.324      0.557      0.578      -0.456       0.817\n",
       "nursery              -0.2335      0.388     -0.601      0.548      -0.997       0.530\n",
       "higher               -1.2205      0.665     -1.834      0.068      -2.530       0.089\n",
       "internet             -0.2408      0.441     -0.546      0.586      -1.108       0.627\n",
       "romantic             -0.2675      0.349     -0.767      0.444      -0.954       0.419\n",
       "absences              0.0113      0.021      0.542      0.588      -0.030       0.052\n",
       "Mjob_health           0.7247      0.778      0.931      0.352      -0.806       2.255\n",
       "Mjob_other           -0.8213      0.504     -1.631      0.104      -1.812       0.169\n",
       "Mjob_services         0.4754      0.562      0.845      0.399      -0.631       1.582\n",
       "Mjob_teacher         -0.7345      0.720     -1.020      0.309      -2.151       0.682\n",
       "Fjob_health          -0.4906      1.034     -0.474      0.636      -2.525       1.544\n",
       "Fjob_other            1.0586      0.733      1.443      0.150      -0.384       2.501\n",
       "Fjob_services        -0.9611      0.754     -1.275      0.203      -2.444       0.522\n",
       "Fjob_teacher          1.5229      0.945      1.612      0.108      -0.336       3.382\n",
       "reason_home           0.1887      0.400      0.472      0.638      -0.599       0.976\n",
       "reason_other         -0.3226      0.591     -0.546      0.585      -1.485       0.840\n",
       "reason_reputation     0.5414      0.424      1.276      0.203      -0.293       1.376\n",
       "guardian_mother      -0.0761      0.394     -0.193      0.847      -0.851       0.699\n",
       "guardian_other        1.1186      0.708      1.580      0.115      -0.274       2.511\n",
       "==============================================================================\n",
       "Omnibus:                        9.621   Durbin-Watson:                   2.046\n",
       "Prob(Omnibus):                  0.008   Jarque-Bera (JB):                5.530\n",
       "Skew:                           0.098   Prob(JB):                       0.0630\n",
       "Kurtosis:                       2.428   Cond. No.                         336.\n",
       "==============================================================================\n",
       "\n",
       "Notes:\n",
       "[1] Standard Errors assume that the covariance matrix of the errors is correctly specified.\n",
       "\"\"\""
      ]
     },
     "execution_count": 191,
     "metadata": {},
     "output_type": "execute_result"
    }
   ],
   "source": [
    "model_G1_v1.summary()"
   ]
  },
  {
   "attachments": {},
   "cell_type": "markdown",
   "metadata": {},
   "source": [
    "    El intercepto obtenido indica que un alumno con una edad de 0 años por ejemplo, tendría un promedio de notas del primer semestre de 11.9. Hay que considerar que el intercepto solo tiene sentido en el contexto del modelo. Siguiendo con la misma variable, se espera que la diferencia de notas del primer semestre entre dos alumnos de similares características pero que difieren en un año de edad varíe en 0.16 unidades."
   ]
  },
  {
   "attachments": {},
   "cell_type": "markdown",
   "metadata": {},
   "source": [
    "### Estadísticos de bondad de ajuste"
   ]
  },
  {
   "cell_type": "code",
   "execution_count": 192,
   "metadata": {},
   "outputs": [
    {
     "data": {
      "text/html": [
       "<table class=\"simpletable\">\n",
       "<caption>OLS Regression Results</caption>\n",
       "<tr>\n",
       "  <th>Dep. Variable:</th>           <td>G1</td>        <th>  R-squared:         </th> <td>   0.309</td>\n",
       "</tr>\n",
       "<tr>\n",
       "  <th>Model:</th>                   <td>OLS</td>       <th>  Adj. R-squared:    </th> <td>   0.240</td>\n",
       "</tr>\n",
       "<tr>\n",
       "  <th>Method:</th>             <td>Least Squares</td>  <th>  F-statistic:       </th> <td>   4.466</td>\n",
       "</tr>\n",
       "<tr>\n",
       "  <th>Date:</th>             <td>Tue, 07 Feb 2023</td> <th>  Prob (F-statistic):</th> <td>5.28e-13</td>\n",
       "</tr>\n",
       "<tr>\n",
       "  <th>Time:</th>                 <td>11:45:16</td>     <th>  Log-Likelihood:    </th> <td> -884.53</td>\n",
       "</tr>\n",
       "<tr>\n",
       "  <th>No. Observations:</th>      <td>   363</td>      <th>  AIC:               </th> <td>   1837.</td>\n",
       "</tr>\n",
       "<tr>\n",
       "  <th>Df Residuals:</th>          <td>   329</td>      <th>  BIC:               </th> <td>   1969.</td>\n",
       "</tr>\n",
       "<tr>\n",
       "  <th>Df Model:</th>              <td>    33</td>      <th>                     </th>     <td> </td>   \n",
       "</tr>\n",
       "<tr>\n",
       "  <th>Covariance Type:</th>      <td>nonrobust</td>    <th>                     </th>     <td> </td>   \n",
       "</tr>\n",
       "</table>"
      ],
      "text/plain": [
       "<class 'statsmodels.iolib.table.SimpleTable'>"
      ]
     },
     "execution_count": 192,
     "metadata": {},
     "output_type": "execute_result"
    }
   ],
   "source": [
    "model_G1_v1.summary().tables[0]"
   ]
  },
  {
   "attachments": {},
   "cell_type": "markdown",
   "metadata": {},
   "source": [
    "    Para este primer modelo, el R-squared = 0.309 indica que las variables explican en un 30.9% la variabilidad de las notas durante el primer semestre.\n",
    "    El valor de Adj. R-squared = 0.24 penaliza por la cantidad de variables agregadas al modelo.\n",
    "    Prob (F-statistic) = 5.28e-13 señala que existe evidencia para rechazar la hipótesis nula, la cual indica que no existen coeficientes distintos de cero para un intervalo de confianza al 95%."
   ]
  },
  {
   "attachments": {},
   "cell_type": "markdown",
   "metadata": {},
   "source": [
    "    Con la obtención de los estadísticos de bondad de ajuste y los p_values para cada variable. Ahora se realizará la depuración del modelo con un intervalo de confianza al 95%.\n",
    "    Con esto, se excluirán aquellas variables que tengan un p_value mayor a 0.05"
   ]
  },
  {
   "cell_type": "code",
   "execution_count": 193,
   "metadata": {},
   "outputs": [],
   "source": [
    "def p_value_table(modelo, p_value_menor_a=1):\n",
    "    \"\"\"\n",
    "    Muestra una tabla con los valores de p_value de cada atributo menores o iguales a un valor condicional\n",
    "\n",
    "    Parameters\n",
    "    ----------\n",
    "    modelo: variable\n",
    "                    modelo de regresión logística ajustado\n",
    "    p_value_menor_a: float, opcional\n",
    "                    valor condicional para el p_value a mostrar, por defecto 1 para mostrar todos los valores\n",
    "    \n",
    "    Returns:\n",
    "            Retorna la tabla con los p_values menores o iguales a la condición exigida\n",
    "    \"\"\"\n",
    "    df_p_values = pd.DataFrame((modelo.pvalues).round(4), columns= {'P>|t|'})\n",
    "    return df_p_values[df_p_values['P>|t|'] <= p_value_menor_a]"
   ]
  },
  {
   "attachments": {},
   "cell_type": "markdown",
   "metadata": {},
   "source": [
    "    Depuración de modelo para valores de p_value mayores a 0.05.\n",
    "    Las variables a considerar en el modelo depurado son 'sex', 'studytime', 'failures', 'schoolsup' y 'famsup'."
   ]
  },
  {
   "cell_type": "code",
   "execution_count": 194,
   "metadata": {},
   "outputs": [
    {
     "data": {
      "text/html": [
       "<div>\n",
       "<style scoped>\n",
       "    .dataframe tbody tr th:only-of-type {\n",
       "        vertical-align: middle;\n",
       "    }\n",
       "\n",
       "    .dataframe tbody tr th {\n",
       "        vertical-align: top;\n",
       "    }\n",
       "\n",
       "    .dataframe thead th {\n",
       "        text-align: right;\n",
       "    }\n",
       "</style>\n",
       "<table border=\"1\" class=\"dataframe\">\n",
       "  <thead>\n",
       "    <tr style=\"text-align: right;\">\n",
       "      <th></th>\n",
       "      <th>P&gt;|t|</th>\n",
       "    </tr>\n",
       "  </thead>\n",
       "  <tbody>\n",
       "    <tr>\n",
       "      <th>Intercept</th>\n",
       "      <td>0.0000</td>\n",
       "    </tr>\n",
       "    <tr>\n",
       "      <th>sex</th>\n",
       "      <td>0.0241</td>\n",
       "    </tr>\n",
       "    <tr>\n",
       "      <th>studytime</th>\n",
       "      <td>0.0027</td>\n",
       "    </tr>\n",
       "    <tr>\n",
       "      <th>failures</th>\n",
       "      <td>0.0000</td>\n",
       "    </tr>\n",
       "    <tr>\n",
       "      <th>schoolsup</th>\n",
       "      <td>0.0001</td>\n",
       "    </tr>\n",
       "    <tr>\n",
       "      <th>famsup</th>\n",
       "      <td>0.0034</td>\n",
       "    </tr>\n",
       "  </tbody>\n",
       "</table>\n",
       "</div>"
      ],
      "text/plain": [
       "            P>|t|\n",
       "Intercept  0.0000\n",
       "sex        0.0241\n",
       "studytime  0.0027\n",
       "failures   0.0000\n",
       "schoolsup  0.0001\n",
       "famsup     0.0034"
      ]
     },
     "execution_count": 194,
     "metadata": {},
     "output_type": "execute_result"
    }
   ],
   "source": [
    "p_value_table(model_G1_v1, 0.05)"
   ]
  },
  {
   "attachments": {},
   "cell_type": "markdown",
   "metadata": {},
   "source": [
    "### Modelo 2 G1"
   ]
  },
  {
   "cell_type": "code",
   "execution_count": 195,
   "metadata": {},
   "outputs": [],
   "source": [
    "model_G1_v2 = smf.ols('G1 ~ sex + studytime + failures + schoolsup + famsup', df_model).fit()"
   ]
  },
  {
   "cell_type": "code",
   "execution_count": 196,
   "metadata": {},
   "outputs": [
    {
     "data": {
      "text/html": [
       "<table class=\"simpletable\">\n",
       "<caption>OLS Regression Results</caption>\n",
       "<tr>\n",
       "  <th>Dep. Variable:</th>           <td>G1</td>        <th>  R-squared:         </th> <td>   0.201</td>\n",
       "</tr>\n",
       "<tr>\n",
       "  <th>Model:</th>                   <td>OLS</td>       <th>  Adj. R-squared:    </th> <td>   0.190</td>\n",
       "</tr>\n",
       "<tr>\n",
       "  <th>Method:</th>             <td>Least Squares</td>  <th>  F-statistic:       </th> <td>   18.85</td>\n",
       "</tr>\n",
       "<tr>\n",
       "  <th>Date:</th>             <td>Tue, 07 Feb 2023</td> <th>  Prob (F-statistic):</th> <td>9.94e-17</td>\n",
       "</tr>\n",
       "<tr>\n",
       "  <th>Time:</th>                 <td>11:45:16</td>     <th>  Log-Likelihood:    </th> <td> -955.31</td>\n",
       "</tr>\n",
       "<tr>\n",
       "  <th>No. Observations:</th>      <td>   381</td>      <th>  AIC:               </th> <td>   1923.</td>\n",
       "</tr>\n",
       "<tr>\n",
       "  <th>Df Residuals:</th>          <td>   375</td>      <th>  BIC:               </th> <td>   1946.</td>\n",
       "</tr>\n",
       "<tr>\n",
       "  <th>Df Model:</th>              <td>     5</td>      <th>                     </th>     <td> </td>   \n",
       "</tr>\n",
       "<tr>\n",
       "  <th>Covariance Type:</th>      <td>nonrobust</td>    <th>                     </th>     <td> </td>   \n",
       "</tr>\n",
       "</table>\n",
       "<table class=\"simpletable\">\n",
       "<tr>\n",
       "      <td></td>         <th>coef</th>     <th>std err</th>      <th>t</th>      <th>P>|t|</th>  <th>[0.025</th>    <th>0.975]</th>  \n",
       "</tr>\n",
       "<tr>\n",
       "  <th>Intercept</th> <td>    9.7208</td> <td>    0.534</td> <td>   18.203</td> <td> 0.000</td> <td>    8.671</td> <td>   10.771</td>\n",
       "</tr>\n",
       "<tr>\n",
       "  <th>sex</th>       <td>    0.7721</td> <td>    0.328</td> <td>    2.353</td> <td> 0.019</td> <td>    0.127</td> <td>    1.417</td>\n",
       "</tr>\n",
       "<tr>\n",
       "  <th>studytime</th> <td>    0.6510</td> <td>    0.195</td> <td>    3.335</td> <td> 0.001</td> <td>    0.267</td> <td>    1.035</td>\n",
       "</tr>\n",
       "<tr>\n",
       "  <th>failures</th>  <td>   -1.5318</td> <td>    0.215</td> <td>   -7.140</td> <td> 0.000</td> <td>   -1.954</td> <td>   -1.110</td>\n",
       "</tr>\n",
       "<tr>\n",
       "  <th>schoolsup</th> <td>   -1.8776</td> <td>    0.470</td> <td>   -3.998</td> <td> 0.000</td> <td>   -2.801</td> <td>   -0.954</td>\n",
       "</tr>\n",
       "<tr>\n",
       "  <th>famsup</th>    <td>    0.6149</td> <td>    0.321</td> <td>    1.915</td> <td> 0.056</td> <td>   -0.016</td> <td>    1.246</td>\n",
       "</tr>\n",
       "</table>\n",
       "<table class=\"simpletable\">\n",
       "<tr>\n",
       "  <th>Omnibus:</th>       <td>10.217</td> <th>  Durbin-Watson:     </th> <td>   2.043</td>\n",
       "</tr>\n",
       "<tr>\n",
       "  <th>Prob(Omnibus):</th> <td> 0.006</td> <th>  Jarque-Bera (JB):  </th> <td>   7.378</td>\n",
       "</tr>\n",
       "<tr>\n",
       "  <th>Skew:</th>          <td> 0.223</td> <th>  Prob(JB):          </th> <td>  0.0250</td>\n",
       "</tr>\n",
       "<tr>\n",
       "  <th>Kurtosis:</th>      <td> 2.484</td> <th>  Cond. No.          </th> <td>    9.86</td>\n",
       "</tr>\n",
       "</table><br/><br/>Notes:<br/>[1] Standard Errors assume that the covariance matrix of the errors is correctly specified."
      ],
      "text/plain": [
       "<class 'statsmodels.iolib.summary.Summary'>\n",
       "\"\"\"\n",
       "                            OLS Regression Results                            \n",
       "==============================================================================\n",
       "Dep. Variable:                     G1   R-squared:                       0.201\n",
       "Model:                            OLS   Adj. R-squared:                  0.190\n",
       "Method:                 Least Squares   F-statistic:                     18.85\n",
       "Date:                Tue, 07 Feb 2023   Prob (F-statistic):           9.94e-17\n",
       "Time:                        11:45:16   Log-Likelihood:                -955.31\n",
       "No. Observations:                 381   AIC:                             1923.\n",
       "Df Residuals:                     375   BIC:                             1946.\n",
       "Df Model:                           5                                         \n",
       "Covariance Type:            nonrobust                                         \n",
       "==============================================================================\n",
       "                 coef    std err          t      P>|t|      [0.025      0.975]\n",
       "------------------------------------------------------------------------------\n",
       "Intercept      9.7208      0.534     18.203      0.000       8.671      10.771\n",
       "sex            0.7721      0.328      2.353      0.019       0.127       1.417\n",
       "studytime      0.6510      0.195      3.335      0.001       0.267       1.035\n",
       "failures      -1.5318      0.215     -7.140      0.000      -1.954      -1.110\n",
       "schoolsup     -1.8776      0.470     -3.998      0.000      -2.801      -0.954\n",
       "famsup         0.6149      0.321      1.915      0.056      -0.016       1.246\n",
       "==============================================================================\n",
       "Omnibus:                       10.217   Durbin-Watson:                   2.043\n",
       "Prob(Omnibus):                  0.006   Jarque-Bera (JB):                7.378\n",
       "Skew:                           0.223   Prob(JB):                       0.0250\n",
       "Kurtosis:                       2.484   Cond. No.                         9.86\n",
       "==============================================================================\n",
       "\n",
       "Notes:\n",
       "[1] Standard Errors assume that the covariance matrix of the errors is correctly specified.\n",
       "\"\"\""
      ]
     },
     "execution_count": 196,
     "metadata": {},
     "output_type": "execute_result"
    }
   ],
   "source": [
    "model_G1_v2.summary()"
   ]
  },
  {
   "cell_type": "markdown",
   "metadata": {},
   "source": [
    "### Estadísticos de bondad de ajuste"
   ]
  },
  {
   "cell_type": "code",
   "execution_count": 197,
   "metadata": {},
   "outputs": [
    {
     "data": {
      "text/html": [
       "<table class=\"simpletable\">\n",
       "<caption>OLS Regression Results</caption>\n",
       "<tr>\n",
       "  <th>Dep. Variable:</th>           <td>G1</td>        <th>  R-squared:         </th> <td>   0.201</td>\n",
       "</tr>\n",
       "<tr>\n",
       "  <th>Model:</th>                   <td>OLS</td>       <th>  Adj. R-squared:    </th> <td>   0.190</td>\n",
       "</tr>\n",
       "<tr>\n",
       "  <th>Method:</th>             <td>Least Squares</td>  <th>  F-statistic:       </th> <td>   18.85</td>\n",
       "</tr>\n",
       "<tr>\n",
       "  <th>Date:</th>             <td>Tue, 07 Feb 2023</td> <th>  Prob (F-statistic):</th> <td>9.94e-17</td>\n",
       "</tr>\n",
       "<tr>\n",
       "  <th>Time:</th>                 <td>11:45:17</td>     <th>  Log-Likelihood:    </th> <td> -955.31</td>\n",
       "</tr>\n",
       "<tr>\n",
       "  <th>No. Observations:</th>      <td>   381</td>      <th>  AIC:               </th> <td>   1923.</td>\n",
       "</tr>\n",
       "<tr>\n",
       "  <th>Df Residuals:</th>          <td>   375</td>      <th>  BIC:               </th> <td>   1946.</td>\n",
       "</tr>\n",
       "<tr>\n",
       "  <th>Df Model:</th>              <td>     5</td>      <th>                     </th>     <td> </td>   \n",
       "</tr>\n",
       "<tr>\n",
       "  <th>Covariance Type:</th>      <td>nonrobust</td>    <th>                     </th>     <td> </td>   \n",
       "</tr>\n",
       "</table>"
      ],
      "text/plain": [
       "<class 'statsmodels.iolib.table.SimpleTable'>"
      ]
     },
     "execution_count": 197,
     "metadata": {},
     "output_type": "execute_result"
    }
   ],
   "source": [
    "model_G1_v2.summary().tables[0]"
   ]
  },
  {
   "attachments": {},
   "cell_type": "markdown",
   "metadata": {},
   "source": [
    "    Este modelo sigue siendo válido ya que el valor de Prob (F-statistic) indica que por lo menos existe un parámetro distinto de cero. Sin embargo, la capacidad explicativa del modelo se ve reducida a un porcentaje de 20.1%.   "
   ]
  },
  {
   "attachments": {},
   "cell_type": "markdown",
   "metadata": {},
   "source": [
    "## Vector Objetivo G2"
   ]
  },
  {
   "attachments": {},
   "cell_type": "markdown",
   "metadata": {},
   "source": [
    "    Como se mencionó anteriormente, se considerarán todas las variables para el primer modelo, en este caso para el vector objetivo G2."
   ]
  },
  {
   "attachments": {},
   "cell_type": "markdown",
   "metadata": {},
   "source": [
    "### Modelo 1 G2"
   ]
  },
  {
   "cell_type": "code",
   "execution_count": 198,
   "metadata": {},
   "outputs": [],
   "source": [
    "model_G2_v1 = smf.ols('G2 ~ school + sex + age + address + famsize + Pstatus + Medu + Fedu + traveltime + studytime +\\\n",
    "                    failures + schoolsup + famsup + paid + activities + nursery + higher + internet + romantic + absences +\\\n",
    "                    Mjob_health + Mjob_other + Mjob_services + Mjob_teacher + Fjob_health + Fjob_other + Fjob_services +\\\n",
    "                    Fjob_teacher + reason_home + reason_other + reason_reputation + guardian_mother + guardian_other', df_model).fit()"
   ]
  },
  {
   "cell_type": "code",
   "execution_count": 199,
   "metadata": {},
   "outputs": [
    {
     "data": {
      "text/html": [
       "<table class=\"simpletable\">\n",
       "<caption>OLS Regression Results</caption>\n",
       "<tr>\n",
       "  <th>Dep. Variable:</th>           <td>G2</td>        <th>  R-squared:         </th> <td>   0.273</td>\n",
       "</tr>\n",
       "<tr>\n",
       "  <th>Model:</th>                   <td>OLS</td>       <th>  Adj. R-squared:    </th> <td>   0.200</td>\n",
       "</tr>\n",
       "<tr>\n",
       "  <th>Method:</th>             <td>Least Squares</td>  <th>  F-statistic:       </th> <td>   3.780</td>\n",
       "</tr>\n",
       "<tr>\n",
       "  <th>Date:</th>             <td>Tue, 07 Feb 2023</td> <th>  Prob (F-statistic):</th> <td>2.52e-10</td>\n",
       "</tr>\n",
       "<tr>\n",
       "  <th>Time:</th>                 <td>11:45:17</td>     <th>  Log-Likelihood:    </th> <td> -952.68</td>\n",
       "</tr>\n",
       "<tr>\n",
       "  <th>No. Observations:</th>      <td>   367</td>      <th>  AIC:               </th> <td>   1973.</td>\n",
       "</tr>\n",
       "<tr>\n",
       "  <th>Df Residuals:</th>          <td>   333</td>      <th>  BIC:               </th> <td>   2106.</td>\n",
       "</tr>\n",
       "<tr>\n",
       "  <th>Df Model:</th>              <td>    33</td>      <th>                     </th>     <td> </td>   \n",
       "</tr>\n",
       "<tr>\n",
       "  <th>Covariance Type:</th>      <td>nonrobust</td>    <th>                     </th>     <td> </td>   \n",
       "</tr>\n",
       "</table>\n",
       "<table class=\"simpletable\">\n",
       "<tr>\n",
       "          <td></td>             <th>coef</th>     <th>std err</th>      <th>t</th>      <th>P>|t|</th>  <th>[0.025</th>    <th>0.975]</th>  \n",
       "</tr>\n",
       "<tr>\n",
       "  <th>Intercept</th>         <td>   14.0415</td> <td>    3.176</td> <td>    4.421</td> <td> 0.000</td> <td>    7.794</td> <td>   20.289</td>\n",
       "</tr>\n",
       "<tr>\n",
       "  <th>school</th>            <td>    0.6990</td> <td>    0.681</td> <td>    1.027</td> <td> 0.305</td> <td>   -0.640</td> <td>    2.038</td>\n",
       "</tr>\n",
       "<tr>\n",
       "  <th>sex</th>               <td>    0.9265</td> <td>    0.407</td> <td>    2.279</td> <td> 0.023</td> <td>    0.127</td> <td>    1.726</td>\n",
       "</tr>\n",
       "<tr>\n",
       "  <th>age</th>               <td>   -0.3117</td> <td>    0.179</td> <td>   -1.744</td> <td> 0.082</td> <td>   -0.663</td> <td>    0.040</td>\n",
       "</tr>\n",
       "<tr>\n",
       "  <th>address</th>           <td>   -0.3146</td> <td>    0.486</td> <td>   -0.647</td> <td> 0.518</td> <td>   -1.270</td> <td>    0.641</td>\n",
       "</tr>\n",
       "<tr>\n",
       "  <th>famsize</th>           <td>    0.4662</td> <td>    0.422</td> <td>    1.105</td> <td> 0.270</td> <td>   -0.364</td> <td>    1.296</td>\n",
       "</tr>\n",
       "<tr>\n",
       "  <th>Pstatus</th>           <td>    0.4406</td> <td>    0.604</td> <td>    0.729</td> <td> 0.466</td> <td>   -0.748</td> <td>    1.629</td>\n",
       "</tr>\n",
       "<tr>\n",
       "  <th>Medu</th>              <td>    0.2910</td> <td>    0.268</td> <td>    1.086</td> <td> 0.278</td> <td>   -0.236</td> <td>    0.818</td>\n",
       "</tr>\n",
       "<tr>\n",
       "  <th>Fedu</th>              <td>   -0.1550</td> <td>    0.234</td> <td>   -0.661</td> <td> 0.509</td> <td>   -0.616</td> <td>    0.306</td>\n",
       "</tr>\n",
       "<tr>\n",
       "  <th>traveltime</th>        <td>   -0.4074</td> <td>    0.296</td> <td>   -1.376</td> <td> 0.170</td> <td>   -0.990</td> <td>    0.175</td>\n",
       "</tr>\n",
       "<tr>\n",
       "  <th>studytime</th>         <td>    0.5330</td> <td>    0.248</td> <td>    2.152</td> <td> 0.032</td> <td>    0.046</td> <td>    1.020</td>\n",
       "</tr>\n",
       "<tr>\n",
       "  <th>failures</th>          <td>   -1.5286</td> <td>    0.276</td> <td>   -5.535</td> <td> 0.000</td> <td>   -2.072</td> <td>   -0.985</td>\n",
       "</tr>\n",
       "<tr>\n",
       "  <th>schoolsup</th>         <td>   -1.2634</td> <td>    0.571</td> <td>   -2.214</td> <td> 0.028</td> <td>   -2.386</td> <td>   -0.141</td>\n",
       "</tr>\n",
       "<tr>\n",
       "  <th>famsup</th>            <td>    1.1206</td> <td>    0.409</td> <td>    2.742</td> <td> 0.006</td> <td>    0.317</td> <td>    1.925</td>\n",
       "</tr>\n",
       "<tr>\n",
       "  <th>paid</th>              <td>    0.3413</td> <td>    0.404</td> <td>    0.844</td> <td> 0.399</td> <td>   -0.454</td> <td>    1.137</td>\n",
       "</tr>\n",
       "<tr>\n",
       "  <th>activities</th>        <td>    0.0560</td> <td>    0.378</td> <td>    0.148</td> <td> 0.882</td> <td>   -0.687</td> <td>    0.799</td>\n",
       "</tr>\n",
       "<tr>\n",
       "  <th>nursery</th>           <td>   -0.1295</td> <td>    0.454</td> <td>   -0.285</td> <td> 0.776</td> <td>   -1.023</td> <td>    0.764</td>\n",
       "</tr>\n",
       "<tr>\n",
       "  <th>higher</th>            <td>   -0.8522</td> <td>    0.778</td> <td>   -1.096</td> <td> 0.274</td> <td>   -2.382</td> <td>    0.678</td>\n",
       "</tr>\n",
       "<tr>\n",
       "  <th>internet</th>          <td>   -0.6123</td> <td>    0.514</td> <td>   -1.191</td> <td> 0.234</td> <td>   -1.624</td> <td>    0.399</td>\n",
       "</tr>\n",
       "<tr>\n",
       "  <th>romantic</th>          <td>   -1.0203</td> <td>    0.404</td> <td>   -2.524</td> <td> 0.012</td> <td>   -1.815</td> <td>   -0.225</td>\n",
       "</tr>\n",
       "<tr>\n",
       "  <th>absences</th>          <td>    0.0115</td> <td>    0.024</td> <td>    0.472</td> <td> 0.637</td> <td>   -0.036</td> <td>    0.059</td>\n",
       "</tr>\n",
       "<tr>\n",
       "  <th>Mjob_health</th>       <td>    0.9958</td> <td>    0.905</td> <td>    1.100</td> <td> 0.272</td> <td>   -0.785</td> <td>    2.777</td>\n",
       "</tr>\n",
       "<tr>\n",
       "  <th>Mjob_other</th>        <td>   -0.2446</td> <td>    0.582</td> <td>   -0.420</td> <td> 0.674</td> <td>   -1.389</td> <td>    0.900</td>\n",
       "</tr>\n",
       "<tr>\n",
       "  <th>Mjob_services</th>     <td>    0.6026</td> <td>    0.649</td> <td>    0.928</td> <td> 0.354</td> <td>   -0.675</td> <td>    1.880</td>\n",
       "</tr>\n",
       "<tr>\n",
       "  <th>Mjob_teacher</th>      <td>   -0.6241</td> <td>    0.841</td> <td>   -0.742</td> <td> 0.459</td> <td>   -2.279</td> <td>    1.031</td>\n",
       "</tr>\n",
       "<tr>\n",
       "  <th>Fjob_health</th>       <td>    0.0210</td> <td>    1.211</td> <td>    0.017</td> <td> 0.986</td> <td>   -2.362</td> <td>    2.404</td>\n",
       "</tr>\n",
       "<tr>\n",
       "  <th>Fjob_other</th>        <td>    0.4512</td> <td>    0.857</td> <td>    0.527</td> <td> 0.599</td> <td>   -1.234</td> <td>    2.136</td>\n",
       "</tr>\n",
       "<tr>\n",
       "  <th>Fjob_services</th>     <td>    0.0198</td> <td>    0.881</td> <td>    0.022</td> <td> 0.982</td> <td>   -1.714</td> <td>    1.754</td>\n",
       "</tr>\n",
       "<tr>\n",
       "  <th>Fjob_teacher</th>      <td>    1.5572</td> <td>    1.106</td> <td>    1.408</td> <td> 0.160</td> <td>   -0.619</td> <td>    3.733</td>\n",
       "</tr>\n",
       "<tr>\n",
       "  <th>reason_home</th>       <td>    0.4264</td> <td>    0.468</td> <td>    0.911</td> <td> 0.363</td> <td>   -0.494</td> <td>    1.347</td>\n",
       "</tr>\n",
       "<tr>\n",
       "  <th>reason_other</th>      <td>    0.5661</td> <td>    0.680</td> <td>    0.832</td> <td> 0.406</td> <td>   -0.773</td> <td>    1.905</td>\n",
       "</tr>\n",
       "<tr>\n",
       "  <th>reason_reputation</th> <td>    0.6832</td> <td>    0.492</td> <td>    1.389</td> <td> 0.166</td> <td>   -0.285</td> <td>    1.651</td>\n",
       "</tr>\n",
       "<tr>\n",
       "  <th>guardian_mother</th>   <td>    0.0396</td> <td>    0.459</td> <td>    0.086</td> <td> 0.931</td> <td>   -0.863</td> <td>    0.942</td>\n",
       "</tr>\n",
       "<tr>\n",
       "  <th>guardian_other</th>    <td>    0.8424</td> <td>    0.828</td> <td>    1.017</td> <td> 0.310</td> <td>   -0.787</td> <td>    2.472</td>\n",
       "</tr>\n",
       "</table>\n",
       "<table class=\"simpletable\">\n",
       "<tr>\n",
       "  <th>Omnibus:</th>       <td>28.800</td> <th>  Durbin-Watson:     </th> <td>   1.883</td>\n",
       "</tr>\n",
       "<tr>\n",
       "  <th>Prob(Omnibus):</th> <td> 0.000</td> <th>  Jarque-Bera (JB):  </th> <td>  38.486</td>\n",
       "</tr>\n",
       "<tr>\n",
       "  <th>Skew:</th>          <td>-0.592</td> <th>  Prob(JB):          </th> <td>4.39e-09</td>\n",
       "</tr>\n",
       "<tr>\n",
       "  <th>Kurtosis:</th>      <td> 4.056</td> <th>  Cond. No.          </th> <td>    335.</td>\n",
       "</tr>\n",
       "</table><br/><br/>Notes:<br/>[1] Standard Errors assume that the covariance matrix of the errors is correctly specified."
      ],
      "text/plain": [
       "<class 'statsmodels.iolib.summary.Summary'>\n",
       "\"\"\"\n",
       "                            OLS Regression Results                            \n",
       "==============================================================================\n",
       "Dep. Variable:                     G2   R-squared:                       0.273\n",
       "Model:                            OLS   Adj. R-squared:                  0.200\n",
       "Method:                 Least Squares   F-statistic:                     3.780\n",
       "Date:                Tue, 07 Feb 2023   Prob (F-statistic):           2.52e-10\n",
       "Time:                        11:45:17   Log-Likelihood:                -952.68\n",
       "No. Observations:                 367   AIC:                             1973.\n",
       "Df Residuals:                     333   BIC:                             2106.\n",
       "Df Model:                          33                                         \n",
       "Covariance Type:            nonrobust                                         \n",
       "=====================================================================================\n",
       "                        coef    std err          t      P>|t|      [0.025      0.975]\n",
       "-------------------------------------------------------------------------------------\n",
       "Intercept            14.0415      3.176      4.421      0.000       7.794      20.289\n",
       "school                0.6990      0.681      1.027      0.305      -0.640       2.038\n",
       "sex                   0.9265      0.407      2.279      0.023       0.127       1.726\n",
       "age                  -0.3117      0.179     -1.744      0.082      -0.663       0.040\n",
       "address              -0.3146      0.486     -0.647      0.518      -1.270       0.641\n",
       "famsize               0.4662      0.422      1.105      0.270      -0.364       1.296\n",
       "Pstatus               0.4406      0.604      0.729      0.466      -0.748       1.629\n",
       "Medu                  0.2910      0.268      1.086      0.278      -0.236       0.818\n",
       "Fedu                 -0.1550      0.234     -0.661      0.509      -0.616       0.306\n",
       "traveltime           -0.4074      0.296     -1.376      0.170      -0.990       0.175\n",
       "studytime             0.5330      0.248      2.152      0.032       0.046       1.020\n",
       "failures             -1.5286      0.276     -5.535      0.000      -2.072      -0.985\n",
       "schoolsup            -1.2634      0.571     -2.214      0.028      -2.386      -0.141\n",
       "famsup                1.1206      0.409      2.742      0.006       0.317       1.925\n",
       "paid                  0.3413      0.404      0.844      0.399      -0.454       1.137\n",
       "activities            0.0560      0.378      0.148      0.882      -0.687       0.799\n",
       "nursery              -0.1295      0.454     -0.285      0.776      -1.023       0.764\n",
       "higher               -0.8522      0.778     -1.096      0.274      -2.382       0.678\n",
       "internet             -0.6123      0.514     -1.191      0.234      -1.624       0.399\n",
       "romantic             -1.0203      0.404     -2.524      0.012      -1.815      -0.225\n",
       "absences              0.0115      0.024      0.472      0.637      -0.036       0.059\n",
       "Mjob_health           0.9958      0.905      1.100      0.272      -0.785       2.777\n",
       "Mjob_other           -0.2446      0.582     -0.420      0.674      -1.389       0.900\n",
       "Mjob_services         0.6026      0.649      0.928      0.354      -0.675       1.880\n",
       "Mjob_teacher         -0.6241      0.841     -0.742      0.459      -2.279       1.031\n",
       "Fjob_health           0.0210      1.211      0.017      0.986      -2.362       2.404\n",
       "Fjob_other            0.4512      0.857      0.527      0.599      -1.234       2.136\n",
       "Fjob_services         0.0198      0.881      0.022      0.982      -1.714       1.754\n",
       "Fjob_teacher          1.5572      1.106      1.408      0.160      -0.619       3.733\n",
       "reason_home           0.4264      0.468      0.911      0.363      -0.494       1.347\n",
       "reason_other          0.5661      0.680      0.832      0.406      -0.773       1.905\n",
       "reason_reputation     0.6832      0.492      1.389      0.166      -0.285       1.651\n",
       "guardian_mother       0.0396      0.459      0.086      0.931      -0.863       0.942\n",
       "guardian_other        0.8424      0.828      1.017      0.310      -0.787       2.472\n",
       "==============================================================================\n",
       "Omnibus:                       28.800   Durbin-Watson:                   1.883\n",
       "Prob(Omnibus):                  0.000   Jarque-Bera (JB):               38.486\n",
       "Skew:                          -0.592   Prob(JB):                     4.39e-09\n",
       "Kurtosis:                       4.056   Cond. No.                         335.\n",
       "==============================================================================\n",
       "\n",
       "Notes:\n",
       "[1] Standard Errors assume that the covariance matrix of the errors is correctly specified.\n",
       "\"\"\""
      ]
     },
     "execution_count": 199,
     "metadata": {},
     "output_type": "execute_result"
    }
   ],
   "source": [
    "model_G2_v1.summary()"
   ]
  },
  {
   "attachments": {},
   "cell_type": "markdown",
   "metadata": {},
   "source": [
    "### Estadísticos de bondad de ajuste"
   ]
  },
  {
   "cell_type": "code",
   "execution_count": 200,
   "metadata": {},
   "outputs": [
    {
     "data": {
      "text/html": [
       "<table class=\"simpletable\">\n",
       "<caption>OLS Regression Results</caption>\n",
       "<tr>\n",
       "  <th>Dep. Variable:</th>           <td>G2</td>        <th>  R-squared:         </th> <td>   0.273</td>\n",
       "</tr>\n",
       "<tr>\n",
       "  <th>Model:</th>                   <td>OLS</td>       <th>  Adj. R-squared:    </th> <td>   0.200</td>\n",
       "</tr>\n",
       "<tr>\n",
       "  <th>Method:</th>             <td>Least Squares</td>  <th>  F-statistic:       </th> <td>   3.780</td>\n",
       "</tr>\n",
       "<tr>\n",
       "  <th>Date:</th>             <td>Tue, 07 Feb 2023</td> <th>  Prob (F-statistic):</th> <td>2.52e-10</td>\n",
       "</tr>\n",
       "<tr>\n",
       "  <th>Time:</th>                 <td>11:45:17</td>     <th>  Log-Likelihood:    </th> <td> -952.68</td>\n",
       "</tr>\n",
       "<tr>\n",
       "  <th>No. Observations:</th>      <td>   367</td>      <th>  AIC:               </th> <td>   1973.</td>\n",
       "</tr>\n",
       "<tr>\n",
       "  <th>Df Residuals:</th>          <td>   333</td>      <th>  BIC:               </th> <td>   2106.</td>\n",
       "</tr>\n",
       "<tr>\n",
       "  <th>Df Model:</th>              <td>    33</td>      <th>                     </th>     <td> </td>   \n",
       "</tr>\n",
       "<tr>\n",
       "  <th>Covariance Type:</th>      <td>nonrobust</td>    <th>                     </th>     <td> </td>   \n",
       "</tr>\n",
       "</table>"
      ],
      "text/plain": [
       "<class 'statsmodels.iolib.table.SimpleTable'>"
      ]
     },
     "execution_count": 200,
     "metadata": {},
     "output_type": "execute_result"
    }
   ],
   "source": [
    "model_G2_v1.summary().tables[0]"
   ]
  },
  {
   "attachments": {},
   "cell_type": "markdown",
   "metadata": {},
   "source": [
    "    Este primer modelo para el vector objetivo G2 tiene un poder explicativo de 27.3% para la variabilidad de las notas durante el segundo semestre.\n",
    "    De manera similar al vector objetivo G1, el valor Adj. R-squared se ve penalizado por la cantidad de variables consideradas."
   ]
  },
  {
   "attachments": {},
   "cell_type": "markdown",
   "metadata": {},
   "source": [
    "    Depuración de modelo para valores de p_value mayores a 0.05.\n",
    "    Las variables a considerar en el modelo depurado son 'sex', 'studytime', 'failures', 'schoolsup', 'famsup' y 'romantic'."
   ]
  },
  {
   "cell_type": "code",
   "execution_count": 201,
   "metadata": {},
   "outputs": [
    {
     "data": {
      "text/html": [
       "<div>\n",
       "<style scoped>\n",
       "    .dataframe tbody tr th:only-of-type {\n",
       "        vertical-align: middle;\n",
       "    }\n",
       "\n",
       "    .dataframe tbody tr th {\n",
       "        vertical-align: top;\n",
       "    }\n",
       "\n",
       "    .dataframe thead th {\n",
       "        text-align: right;\n",
       "    }\n",
       "</style>\n",
       "<table border=\"1\" class=\"dataframe\">\n",
       "  <thead>\n",
       "    <tr style=\"text-align: right;\">\n",
       "      <th></th>\n",
       "      <th>P&gt;|t|</th>\n",
       "    </tr>\n",
       "  </thead>\n",
       "  <tbody>\n",
       "    <tr>\n",
       "      <th>Intercept</th>\n",
       "      <td>0.0000</td>\n",
       "    </tr>\n",
       "    <tr>\n",
       "      <th>sex</th>\n",
       "      <td>0.0233</td>\n",
       "    </tr>\n",
       "    <tr>\n",
       "      <th>studytime</th>\n",
       "      <td>0.0321</td>\n",
       "    </tr>\n",
       "    <tr>\n",
       "      <th>failures</th>\n",
       "      <td>0.0000</td>\n",
       "    </tr>\n",
       "    <tr>\n",
       "      <th>schoolsup</th>\n",
       "      <td>0.0275</td>\n",
       "    </tr>\n",
       "    <tr>\n",
       "      <th>famsup</th>\n",
       "      <td>0.0064</td>\n",
       "    </tr>\n",
       "    <tr>\n",
       "      <th>romantic</th>\n",
       "      <td>0.0121</td>\n",
       "    </tr>\n",
       "  </tbody>\n",
       "</table>\n",
       "</div>"
      ],
      "text/plain": [
       "            P>|t|\n",
       "Intercept  0.0000\n",
       "sex        0.0233\n",
       "studytime  0.0321\n",
       "failures   0.0000\n",
       "schoolsup  0.0275\n",
       "famsup     0.0064\n",
       "romantic   0.0121"
      ]
     },
     "execution_count": 201,
     "metadata": {},
     "output_type": "execute_result"
    }
   ],
   "source": [
    "p_value_table(model_G2_v1, 0.05)"
   ]
  },
  {
   "attachments": {},
   "cell_type": "markdown",
   "metadata": {},
   "source": [
    "### Modelo 2 G2"
   ]
  },
  {
   "cell_type": "code",
   "execution_count": 202,
   "metadata": {},
   "outputs": [],
   "source": [
    "model_G2_v2 = smf.ols('G2 ~ sex + studytime + failures + schoolsup + famsup + romantic', df_model).fit()"
   ]
  },
  {
   "cell_type": "code",
   "execution_count": 203,
   "metadata": {},
   "outputs": [
    {
     "data": {
      "text/html": [
       "<table class=\"simpletable\">\n",
       "<caption>OLS Regression Results</caption>\n",
       "<tr>\n",
       "  <th>Dep. Variable:</th>           <td>G2</td>        <th>  R-squared:         </th> <td>   0.178</td>\n",
       "</tr>\n",
       "<tr>\n",
       "  <th>Model:</th>                   <td>OLS</td>       <th>  Adj. R-squared:    </th> <td>   0.165</td>\n",
       "</tr>\n",
       "<tr>\n",
       "  <th>Method:</th>             <td>Least Squares</td>  <th>  F-statistic:       </th> <td>   13.60</td>\n",
       "</tr>\n",
       "<tr>\n",
       "  <th>Date:</th>             <td>Tue, 07 Feb 2023</td> <th>  Prob (F-statistic):</th> <td>5.41e-14</td>\n",
       "</tr>\n",
       "<tr>\n",
       "  <th>Time:</th>                 <td>11:45:17</td>     <th>  Log-Likelihood:    </th> <td> -1021.0</td>\n",
       "</tr>\n",
       "<tr>\n",
       "  <th>No. Observations:</th>      <td>   385</td>      <th>  AIC:               </th> <td>   2056.</td>\n",
       "</tr>\n",
       "<tr>\n",
       "  <th>Df Residuals:</th>          <td>   378</td>      <th>  BIC:               </th> <td>   2084.</td>\n",
       "</tr>\n",
       "<tr>\n",
       "  <th>Df Model:</th>              <td>     6</td>      <th>                     </th>     <td> </td>   \n",
       "</tr>\n",
       "<tr>\n",
       "  <th>Covariance Type:</th>      <td>nonrobust</td>    <th>                     </th>     <td> </td>   \n",
       "</tr>\n",
       "</table>\n",
       "<table class=\"simpletable\">\n",
       "<tr>\n",
       "      <td></td>         <th>coef</th>     <th>std err</th>      <th>t</th>      <th>P>|t|</th>  <th>[0.025</th>    <th>0.975]</th>  \n",
       "</tr>\n",
       "<tr>\n",
       "  <th>Intercept</th> <td>    9.8316</td> <td>    0.630</td> <td>   15.608</td> <td> 0.000</td> <td>    8.593</td> <td>   11.070</td>\n",
       "</tr>\n",
       "<tr>\n",
       "  <th>sex</th>       <td>    0.8555</td> <td>    0.381</td> <td>    2.247</td> <td> 0.025</td> <td>    0.107</td> <td>    1.604</td>\n",
       "</tr>\n",
       "<tr>\n",
       "  <th>studytime</th> <td>    0.5818</td> <td>    0.226</td> <td>    2.580</td> <td> 0.010</td> <td>    0.138</td> <td>    1.025</td>\n",
       "</tr>\n",
       "<tr>\n",
       "  <th>failures</th>  <td>   -1.7248</td> <td>    0.245</td> <td>   -7.036</td> <td> 0.000</td> <td>   -2.207</td> <td>   -1.243</td>\n",
       "</tr>\n",
       "<tr>\n",
       "  <th>schoolsup</th> <td>   -1.1694</td> <td>    0.537</td> <td>   -2.177</td> <td> 0.030</td> <td>   -2.226</td> <td>   -0.113</td>\n",
       "</tr>\n",
       "<tr>\n",
       "  <th>famsup</th>    <td>    0.6323</td> <td>    0.368</td> <td>    1.718</td> <td> 0.087</td> <td>   -0.091</td> <td>    1.356</td>\n",
       "</tr>\n",
       "<tr>\n",
       "  <th>romantic</th>  <td>   -0.7655</td> <td>    0.385</td> <td>   -1.989</td> <td> 0.047</td> <td>   -1.522</td> <td>   -0.009</td>\n",
       "</tr>\n",
       "</table>\n",
       "<table class=\"simpletable\">\n",
       "<tr>\n",
       "  <th>Omnibus:</th>       <td>30.307</td> <th>  Durbin-Watson:     </th> <td>   1.952</td>\n",
       "</tr>\n",
       "<tr>\n",
       "  <th>Prob(Omnibus):</th> <td> 0.000</td> <th>  Jarque-Bera (JB):  </th> <td>  41.369</td>\n",
       "</tr>\n",
       "<tr>\n",
       "  <th>Skew:</th>          <td>-0.588</td> <th>  Prob(JB):          </th> <td>1.04e-09</td>\n",
       "</tr>\n",
       "<tr>\n",
       "  <th>Kurtosis:</th>      <td> 4.093</td> <th>  Cond. No.          </th> <td>    10.2</td>\n",
       "</tr>\n",
       "</table><br/><br/>Notes:<br/>[1] Standard Errors assume that the covariance matrix of the errors is correctly specified."
      ],
      "text/plain": [
       "<class 'statsmodels.iolib.summary.Summary'>\n",
       "\"\"\"\n",
       "                            OLS Regression Results                            \n",
       "==============================================================================\n",
       "Dep. Variable:                     G2   R-squared:                       0.178\n",
       "Model:                            OLS   Adj. R-squared:                  0.165\n",
       "Method:                 Least Squares   F-statistic:                     13.60\n",
       "Date:                Tue, 07 Feb 2023   Prob (F-statistic):           5.41e-14\n",
       "Time:                        11:45:17   Log-Likelihood:                -1021.0\n",
       "No. Observations:                 385   AIC:                             2056.\n",
       "Df Residuals:                     378   BIC:                             2084.\n",
       "Df Model:                           6                                         \n",
       "Covariance Type:            nonrobust                                         \n",
       "==============================================================================\n",
       "                 coef    std err          t      P>|t|      [0.025      0.975]\n",
       "------------------------------------------------------------------------------\n",
       "Intercept      9.8316      0.630     15.608      0.000       8.593      11.070\n",
       "sex            0.8555      0.381      2.247      0.025       0.107       1.604\n",
       "studytime      0.5818      0.226      2.580      0.010       0.138       1.025\n",
       "failures      -1.7248      0.245     -7.036      0.000      -2.207      -1.243\n",
       "schoolsup     -1.1694      0.537     -2.177      0.030      -2.226      -0.113\n",
       "famsup         0.6323      0.368      1.718      0.087      -0.091       1.356\n",
       "romantic      -0.7655      0.385     -1.989      0.047      -1.522      -0.009\n",
       "==============================================================================\n",
       "Omnibus:                       30.307   Durbin-Watson:                   1.952\n",
       "Prob(Omnibus):                  0.000   Jarque-Bera (JB):               41.369\n",
       "Skew:                          -0.588   Prob(JB):                     1.04e-09\n",
       "Kurtosis:                       4.093   Cond. No.                         10.2\n",
       "==============================================================================\n",
       "\n",
       "Notes:\n",
       "[1] Standard Errors assume that the covariance matrix of the errors is correctly specified.\n",
       "\"\"\""
      ]
     },
     "execution_count": 203,
     "metadata": {},
     "output_type": "execute_result"
    }
   ],
   "source": [
    "model_G2_v2.summary()"
   ]
  },
  {
   "attachments": {},
   "cell_type": "markdown",
   "metadata": {},
   "source": [
    "### Estadísticos de bondad de ajuste"
   ]
  },
  {
   "cell_type": "code",
   "execution_count": 204,
   "metadata": {},
   "outputs": [
    {
     "data": {
      "text/html": [
       "<table class=\"simpletable\">\n",
       "<caption>OLS Regression Results</caption>\n",
       "<tr>\n",
       "  <th>Dep. Variable:</th>           <td>G2</td>        <th>  R-squared:         </th> <td>   0.178</td>\n",
       "</tr>\n",
       "<tr>\n",
       "  <th>Model:</th>                   <td>OLS</td>       <th>  Adj. R-squared:    </th> <td>   0.165</td>\n",
       "</tr>\n",
       "<tr>\n",
       "  <th>Method:</th>             <td>Least Squares</td>  <th>  F-statistic:       </th> <td>   13.60</td>\n",
       "</tr>\n",
       "<tr>\n",
       "  <th>Date:</th>             <td>Tue, 07 Feb 2023</td> <th>  Prob (F-statistic):</th> <td>5.41e-14</td>\n",
       "</tr>\n",
       "<tr>\n",
       "  <th>Time:</th>                 <td>11:45:17</td>     <th>  Log-Likelihood:    </th> <td> -1021.0</td>\n",
       "</tr>\n",
       "<tr>\n",
       "  <th>No. Observations:</th>      <td>   385</td>      <th>  AIC:               </th> <td>   2056.</td>\n",
       "</tr>\n",
       "<tr>\n",
       "  <th>Df Residuals:</th>          <td>   378</td>      <th>  BIC:               </th> <td>   2084.</td>\n",
       "</tr>\n",
       "<tr>\n",
       "  <th>Df Model:</th>              <td>     6</td>      <th>                     </th>     <td> </td>   \n",
       "</tr>\n",
       "<tr>\n",
       "  <th>Covariance Type:</th>      <td>nonrobust</td>    <th>                     </th>     <td> </td>   \n",
       "</tr>\n",
       "</table>"
      ],
      "text/plain": [
       "<class 'statsmodels.iolib.table.SimpleTable'>"
      ]
     },
     "execution_count": 204,
     "metadata": {},
     "output_type": "execute_result"
    }
   ],
   "source": [
    "model_G2_v2.summary().tables[0]"
   ]
  },
  {
   "attachments": {},
   "cell_type": "markdown",
   "metadata": {},
   "source": [
    "    Similar a lo visto anteriormente, al reducir las variables el poder explicativo del modelo disminuye. Aún así, sigue siendo válido ya que el valor de Prob (F-statistic) indica que por lo menos existe un parámetro distinto de cero."
   ]
  },
  {
   "cell_type": "markdown",
   "metadata": {},
   "source": [
    "## Vector Objetivo G3"
   ]
  },
  {
   "attachments": {},
   "cell_type": "markdown",
   "metadata": {},
   "source": [
    "### Modelo 1 G3"
   ]
  },
  {
   "cell_type": "code",
   "execution_count": 205,
   "metadata": {},
   "outputs": [],
   "source": [
    "model_G3_v1 = smf.ols('G3 ~ school + sex + age + address + famsize + Pstatus + Medu + Fedu + traveltime + studytime +\\\n",
    "                    failures + schoolsup + famsup + paid + activities + nursery + higher + internet + romantic + absences +\\\n",
    "                    Mjob_health + Mjob_other + Mjob_services + Mjob_teacher + Fjob_health + Fjob_other + Fjob_services +\\\n",
    "                    Fjob_teacher + reason_home + reason_other + reason_reputation + guardian_mother + guardian_other', df_model).fit()"
   ]
  },
  {
   "cell_type": "code",
   "execution_count": 206,
   "metadata": {},
   "outputs": [
    {
     "data": {
      "text/html": [
       "<table class=\"simpletable\">\n",
       "<caption>OLS Regression Results</caption>\n",
       "<tr>\n",
       "  <th>Dep. Variable:</th>           <td>G3</td>        <th>  R-squared:         </th> <td>   0.269</td>\n",
       "</tr>\n",
       "<tr>\n",
       "  <th>Model:</th>                   <td>OLS</td>       <th>  Adj. R-squared:    </th> <td>   0.196</td>\n",
       "</tr>\n",
       "<tr>\n",
       "  <th>Method:</th>             <td>Least Squares</td>  <th>  F-statistic:       </th> <td>   3.689</td>\n",
       "</tr>\n",
       "<tr>\n",
       "  <th>Date:</th>             <td>Tue, 07 Feb 2023</td> <th>  Prob (F-statistic):</th> <td>5.93e-10</td>\n",
       "</tr>\n",
       "<tr>\n",
       "  <th>Time:</th>                 <td>11:45:18</td>     <th>  Log-Likelihood:    </th> <td> -1019.2</td>\n",
       "</tr>\n",
       "<tr>\n",
       "  <th>No. Observations:</th>      <td>   365</td>      <th>  AIC:               </th> <td>   2106.</td>\n",
       "</tr>\n",
       "<tr>\n",
       "  <th>Df Residuals:</th>          <td>   331</td>      <th>  BIC:               </th> <td>   2239.</td>\n",
       "</tr>\n",
       "<tr>\n",
       "  <th>Df Model:</th>              <td>    33</td>      <th>                     </th>     <td> </td>   \n",
       "</tr>\n",
       "<tr>\n",
       "  <th>Covariance Type:</th>      <td>nonrobust</td>    <th>                     </th>     <td> </td>   \n",
       "</tr>\n",
       "</table>\n",
       "<table class=\"simpletable\">\n",
       "<tr>\n",
       "          <td></td>             <th>coef</th>     <th>std err</th>      <th>t</th>      <th>P>|t|</th>  <th>[0.025</th>    <th>0.975]</th>  \n",
       "</tr>\n",
       "<tr>\n",
       "  <th>Intercept</th>         <td>   15.3947</td> <td>    3.875</td> <td>    3.972</td> <td> 0.000</td> <td>    7.771</td> <td>   23.018</td>\n",
       "</tr>\n",
       "<tr>\n",
       "  <th>school</th>            <td>    1.3334</td> <td>    0.830</td> <td>    1.606</td> <td> 0.109</td> <td>   -0.300</td> <td>    2.967</td>\n",
       "</tr>\n",
       "<tr>\n",
       "  <th>sex</th>               <td>    1.3354</td> <td>    0.496</td> <td>    2.694</td> <td> 0.007</td> <td>    0.360</td> <td>    2.310</td>\n",
       "</tr>\n",
       "<tr>\n",
       "  <th>age</th>               <td>   -0.4445</td> <td>    0.219</td> <td>   -2.033</td> <td> 0.043</td> <td>   -0.875</td> <td>   -0.014</td>\n",
       "</tr>\n",
       "<tr>\n",
       "  <th>address</th>           <td>   -0.3228</td> <td>    0.593</td> <td>   -0.544</td> <td> 0.587</td> <td>   -1.490</td> <td>    0.844</td>\n",
       "</tr>\n",
       "<tr>\n",
       "  <th>famsize</th>           <td>    0.5111</td> <td>    0.514</td> <td>    0.994</td> <td> 0.321</td> <td>   -0.501</td> <td>    1.523</td>\n",
       "</tr>\n",
       "<tr>\n",
       "  <th>Pstatus</th>           <td>    0.2947</td> <td>    0.744</td> <td>    0.396</td> <td> 0.692</td> <td>   -1.168</td> <td>    1.757</td>\n",
       "</tr>\n",
       "<tr>\n",
       "  <th>Medu</th>              <td>    0.4590</td> <td>    0.326</td> <td>    1.407</td> <td> 0.160</td> <td>   -0.183</td> <td>    1.101</td>\n",
       "</tr>\n",
       "<tr>\n",
       "  <th>Fedu</th>              <td>   -0.2922</td> <td>    0.286</td> <td>   -1.023</td> <td> 0.307</td> <td>   -0.854</td> <td>    0.270</td>\n",
       "</tr>\n",
       "<tr>\n",
       "  <th>traveltime</th>        <td>   -0.3514</td> <td>    0.369</td> <td>   -0.953</td> <td> 0.341</td> <td>   -1.077</td> <td>    0.374</td>\n",
       "</tr>\n",
       "<tr>\n",
       "  <th>studytime</th>         <td>    0.4646</td> <td>    0.302</td> <td>    1.540</td> <td> 0.125</td> <td>   -0.129</td> <td>    1.058</td>\n",
       "</tr>\n",
       "<tr>\n",
       "  <th>failures</th>          <td>   -1.9708</td> <td>    0.343</td> <td>   -5.740</td> <td> 0.000</td> <td>   -2.646</td> <td>   -1.295</td>\n",
       "</tr>\n",
       "<tr>\n",
       "  <th>schoolsup</th>         <td>   -1.2513</td> <td>    0.696</td> <td>   -1.799</td> <td> 0.073</td> <td>   -2.620</td> <td>    0.117</td>\n",
       "</tr>\n",
       "<tr>\n",
       "  <th>famsup</th>            <td>    0.9813</td> <td>    0.499</td> <td>    1.968</td> <td> 0.050</td> <td>    0.000</td> <td>    1.962</td>\n",
       "</tr>\n",
       "<tr>\n",
       "  <th>paid</th>              <td>    0.3288</td> <td>    0.493</td> <td>    0.667</td> <td> 0.505</td> <td>   -0.640</td> <td>    1.298</td>\n",
       "</tr>\n",
       "<tr>\n",
       "  <th>activities</th>        <td>    0.4378</td> <td>    0.461</td> <td>    0.950</td> <td> 0.343</td> <td>   -0.469</td> <td>    1.344</td>\n",
       "</tr>\n",
       "<tr>\n",
       "  <th>nursery</th>           <td>   -0.0152</td> <td>    0.554</td> <td>   -0.027</td> <td> 0.978</td> <td>   -1.105</td> <td>    1.074</td>\n",
       "</tr>\n",
       "<tr>\n",
       "  <th>higher</th>            <td>   -1.2083</td> <td>    0.951</td> <td>   -1.270</td> <td> 0.205</td> <td>   -3.080</td> <td>    0.663</td>\n",
       "</tr>\n",
       "<tr>\n",
       "  <th>internet</th>          <td>   -0.4009</td> <td>    0.628</td> <td>   -0.638</td> <td> 0.524</td> <td>   -1.636</td> <td>    0.834</td>\n",
       "</tr>\n",
       "<tr>\n",
       "  <th>romantic</th>          <td>   -1.3512</td> <td>    0.493</td> <td>   -2.740</td> <td> 0.006</td> <td>   -2.321</td> <td>   -0.381</td>\n",
       "</tr>\n",
       "<tr>\n",
       "  <th>absences</th>          <td>    0.0559</td> <td>    0.030</td> <td>    1.891</td> <td> 0.060</td> <td>   -0.002</td> <td>    0.114</td>\n",
       "</tr>\n",
       "<tr>\n",
       "  <th>Mjob_health</th>       <td>    1.0246</td> <td>    1.103</td> <td>    0.929</td> <td> 0.354</td> <td>   -1.146</td> <td>    3.195</td>\n",
       "</tr>\n",
       "<tr>\n",
       "  <th>Mjob_other</th>        <td>   -0.1279</td> <td>    0.711</td> <td>   -0.180</td> <td> 0.857</td> <td>   -1.526</td> <td>    1.271</td>\n",
       "</tr>\n",
       "<tr>\n",
       "  <th>Mjob_services</th>     <td>    0.7573</td> <td>    0.792</td> <td>    0.956</td> <td> 0.340</td> <td>   -0.801</td> <td>    2.316</td>\n",
       "</tr>\n",
       "<tr>\n",
       "  <th>Mjob_teacher</th>      <td>   -0.7981</td> <td>    1.026</td> <td>   -0.778</td> <td> 0.437</td> <td>   -2.816</td> <td>    1.220</td>\n",
       "</tr>\n",
       "<tr>\n",
       "  <th>Fjob_health</th>       <td>    0.4250</td> <td>    1.475</td> <td>    0.288</td> <td> 0.773</td> <td>   -2.477</td> <td>    3.327</td>\n",
       "</tr>\n",
       "<tr>\n",
       "  <th>Fjob_other</th>        <td>    0.6134</td> <td>    1.043</td> <td>    0.588</td> <td> 0.557</td> <td>   -1.438</td> <td>    2.665</td>\n",
       "</tr>\n",
       "<tr>\n",
       "  <th>Fjob_services</th>     <td>   -0.2823</td> <td>    1.074</td> <td>   -0.263</td> <td> 0.793</td> <td>   -2.396</td> <td>    1.831</td>\n",
       "</tr>\n",
       "<tr>\n",
       "  <th>Fjob_teacher</th>      <td>    1.5229</td> <td>    1.347</td> <td>    1.131</td> <td> 0.259</td> <td>   -1.127</td> <td>    4.172</td>\n",
       "</tr>\n",
       "<tr>\n",
       "  <th>reason_home</th>       <td>    0.3718</td> <td>    0.570</td> <td>    0.652</td> <td> 0.515</td> <td>   -0.750</td> <td>    1.494</td>\n",
       "</tr>\n",
       "<tr>\n",
       "  <th>reason_other</th>      <td>    1.2002</td> <td>    0.838</td> <td>    1.432</td> <td> 0.153</td> <td>   -0.449</td> <td>    2.849</td>\n",
       "</tr>\n",
       "<tr>\n",
       "  <th>reason_reputation</th> <td>    0.9703</td> <td>    0.599</td> <td>    1.619</td> <td> 0.106</td> <td>   -0.209</td> <td>    2.149</td>\n",
       "</tr>\n",
       "<tr>\n",
       "  <th>guardian_mother</th>   <td>   -0.3313</td> <td>    0.560</td> <td>   -0.592</td> <td> 0.554</td> <td>   -1.433</td> <td>    0.770</td>\n",
       "</tr>\n",
       "<tr>\n",
       "  <th>guardian_other</th>    <td>    1.0364</td> <td>    1.009</td> <td>    1.027</td> <td> 0.305</td> <td>   -0.949</td> <td>    3.022</td>\n",
       "</tr>\n",
       "</table>\n",
       "<table class=\"simpletable\">\n",
       "<tr>\n",
       "  <th>Omnibus:</th>       <td>21.733</td> <th>  Durbin-Watson:     </th> <td>   1.956</td>\n",
       "</tr>\n",
       "<tr>\n",
       "  <th>Prob(Omnibus):</th> <td> 0.000</td> <th>  Jarque-Bera (JB):  </th> <td>  23.928</td>\n",
       "</tr>\n",
       "<tr>\n",
       "  <th>Skew:</th>          <td>-0.613</td> <th>  Prob(JB):          </th> <td>6.37e-06</td>\n",
       "</tr>\n",
       "<tr>\n",
       "  <th>Kurtosis:</th>      <td> 3.269</td> <th>  Cond. No.          </th> <td>    335.</td>\n",
       "</tr>\n",
       "</table><br/><br/>Notes:<br/>[1] Standard Errors assume that the covariance matrix of the errors is correctly specified."
      ],
      "text/plain": [
       "<class 'statsmodels.iolib.summary.Summary'>\n",
       "\"\"\"\n",
       "                            OLS Regression Results                            \n",
       "==============================================================================\n",
       "Dep. Variable:                     G3   R-squared:                       0.269\n",
       "Model:                            OLS   Adj. R-squared:                  0.196\n",
       "Method:                 Least Squares   F-statistic:                     3.689\n",
       "Date:                Tue, 07 Feb 2023   Prob (F-statistic):           5.93e-10\n",
       "Time:                        11:45:18   Log-Likelihood:                -1019.2\n",
       "No. Observations:                 365   AIC:                             2106.\n",
       "Df Residuals:                     331   BIC:                             2239.\n",
       "Df Model:                          33                                         \n",
       "Covariance Type:            nonrobust                                         \n",
       "=====================================================================================\n",
       "                        coef    std err          t      P>|t|      [0.025      0.975]\n",
       "-------------------------------------------------------------------------------------\n",
       "Intercept            15.3947      3.875      3.972      0.000       7.771      23.018\n",
       "school                1.3334      0.830      1.606      0.109      -0.300       2.967\n",
       "sex                   1.3354      0.496      2.694      0.007       0.360       2.310\n",
       "age                  -0.4445      0.219     -2.033      0.043      -0.875      -0.014\n",
       "address              -0.3228      0.593     -0.544      0.587      -1.490       0.844\n",
       "famsize               0.5111      0.514      0.994      0.321      -0.501       1.523\n",
       "Pstatus               0.2947      0.744      0.396      0.692      -1.168       1.757\n",
       "Medu                  0.4590      0.326      1.407      0.160      -0.183       1.101\n",
       "Fedu                 -0.2922      0.286     -1.023      0.307      -0.854       0.270\n",
       "traveltime           -0.3514      0.369     -0.953      0.341      -1.077       0.374\n",
       "studytime             0.4646      0.302      1.540      0.125      -0.129       1.058\n",
       "failures             -1.9708      0.343     -5.740      0.000      -2.646      -1.295\n",
       "schoolsup            -1.2513      0.696     -1.799      0.073      -2.620       0.117\n",
       "famsup                0.9813      0.499      1.968      0.050       0.000       1.962\n",
       "paid                  0.3288      0.493      0.667      0.505      -0.640       1.298\n",
       "activities            0.4378      0.461      0.950      0.343      -0.469       1.344\n",
       "nursery              -0.0152      0.554     -0.027      0.978      -1.105       1.074\n",
       "higher               -1.2083      0.951     -1.270      0.205      -3.080       0.663\n",
       "internet             -0.4009      0.628     -0.638      0.524      -1.636       0.834\n",
       "romantic             -1.3512      0.493     -2.740      0.006      -2.321      -0.381\n",
       "absences              0.0559      0.030      1.891      0.060      -0.002       0.114\n",
       "Mjob_health           1.0246      1.103      0.929      0.354      -1.146       3.195\n",
       "Mjob_other           -0.1279      0.711     -0.180      0.857      -1.526       1.271\n",
       "Mjob_services         0.7573      0.792      0.956      0.340      -0.801       2.316\n",
       "Mjob_teacher         -0.7981      1.026     -0.778      0.437      -2.816       1.220\n",
       "Fjob_health           0.4250      1.475      0.288      0.773      -2.477       3.327\n",
       "Fjob_other            0.6134      1.043      0.588      0.557      -1.438       2.665\n",
       "Fjob_services        -0.2823      1.074     -0.263      0.793      -2.396       1.831\n",
       "Fjob_teacher          1.5229      1.347      1.131      0.259      -1.127       4.172\n",
       "reason_home           0.3718      0.570      0.652      0.515      -0.750       1.494\n",
       "reason_other          1.2002      0.838      1.432      0.153      -0.449       2.849\n",
       "reason_reputation     0.9703      0.599      1.619      0.106      -0.209       2.149\n",
       "guardian_mother      -0.3313      0.560     -0.592      0.554      -1.433       0.770\n",
       "guardian_other        1.0364      1.009      1.027      0.305      -0.949       3.022\n",
       "==============================================================================\n",
       "Omnibus:                       21.733   Durbin-Watson:                   1.956\n",
       "Prob(Omnibus):                  0.000   Jarque-Bera (JB):               23.928\n",
       "Skew:                          -0.613   Prob(JB):                     6.37e-06\n",
       "Kurtosis:                       3.269   Cond. No.                         335.\n",
       "==============================================================================\n",
       "\n",
       "Notes:\n",
       "[1] Standard Errors assume that the covariance matrix of the errors is correctly specified.\n",
       "\"\"\""
      ]
     },
     "execution_count": 206,
     "metadata": {},
     "output_type": "execute_result"
    }
   ],
   "source": [
    "model_G3_v1.summary()"
   ]
  },
  {
   "attachments": {},
   "cell_type": "markdown",
   "metadata": {},
   "source": [
    "### Estadísticos de bondad de ajuste"
   ]
  },
  {
   "cell_type": "code",
   "execution_count": 207,
   "metadata": {},
   "outputs": [
    {
     "data": {
      "text/html": [
       "<table class=\"simpletable\">\n",
       "<caption>OLS Regression Results</caption>\n",
       "<tr>\n",
       "  <th>Dep. Variable:</th>           <td>G3</td>        <th>  R-squared:         </th> <td>   0.269</td>\n",
       "</tr>\n",
       "<tr>\n",
       "  <th>Model:</th>                   <td>OLS</td>       <th>  Adj. R-squared:    </th> <td>   0.196</td>\n",
       "</tr>\n",
       "<tr>\n",
       "  <th>Method:</th>             <td>Least Squares</td>  <th>  F-statistic:       </th> <td>   3.689</td>\n",
       "</tr>\n",
       "<tr>\n",
       "  <th>Date:</th>             <td>Tue, 07 Feb 2023</td> <th>  Prob (F-statistic):</th> <td>5.93e-10</td>\n",
       "</tr>\n",
       "<tr>\n",
       "  <th>Time:</th>                 <td>11:45:18</td>     <th>  Log-Likelihood:    </th> <td> -1019.2</td>\n",
       "</tr>\n",
       "<tr>\n",
       "  <th>No. Observations:</th>      <td>   365</td>      <th>  AIC:               </th> <td>   2106.</td>\n",
       "</tr>\n",
       "<tr>\n",
       "  <th>Df Residuals:</th>          <td>   331</td>      <th>  BIC:               </th> <td>   2239.</td>\n",
       "</tr>\n",
       "<tr>\n",
       "  <th>Df Model:</th>              <td>    33</td>      <th>                     </th>     <td> </td>   \n",
       "</tr>\n",
       "<tr>\n",
       "  <th>Covariance Type:</th>      <td>nonrobust</td>    <th>                     </th>     <td> </td>   \n",
       "</tr>\n",
       "</table>"
      ],
      "text/plain": [
       "<class 'statsmodels.iolib.table.SimpleTable'>"
      ]
     },
     "execution_count": 207,
     "metadata": {},
     "output_type": "execute_result"
    }
   ],
   "source": [
    "model_G3_v1.summary().tables[0]"
   ]
  },
  {
   "attachments": {},
   "cell_type": "markdown",
   "metadata": {},
   "source": [
    "    Este primer modelo para el vector objetivo G3 tiene un poder explicativo de 26.9% para la variabilidad del promedio final.\n",
    "    Siguiendo el mismo resultado de los modelos anterioes, el valor Adj. R-squared se ve penalizado por la cantidad de variables consideradas."
   ]
  },
  {
   "cell_type": "code",
   "execution_count": 208,
   "metadata": {},
   "outputs": [
    {
     "data": {
      "text/html": [
       "<div>\n",
       "<style scoped>\n",
       "    .dataframe tbody tr th:only-of-type {\n",
       "        vertical-align: middle;\n",
       "    }\n",
       "\n",
       "    .dataframe tbody tr th {\n",
       "        vertical-align: top;\n",
       "    }\n",
       "\n",
       "    .dataframe thead th {\n",
       "        text-align: right;\n",
       "    }\n",
       "</style>\n",
       "<table border=\"1\" class=\"dataframe\">\n",
       "  <thead>\n",
       "    <tr style=\"text-align: right;\">\n",
       "      <th></th>\n",
       "      <th>P&gt;|t|</th>\n",
       "    </tr>\n",
       "  </thead>\n",
       "  <tbody>\n",
       "    <tr>\n",
       "      <th>Intercept</th>\n",
       "      <td>0.0001</td>\n",
       "    </tr>\n",
       "    <tr>\n",
       "      <th>sex</th>\n",
       "      <td>0.0074</td>\n",
       "    </tr>\n",
       "    <tr>\n",
       "      <th>age</th>\n",
       "      <td>0.0428</td>\n",
       "    </tr>\n",
       "    <tr>\n",
       "      <th>failures</th>\n",
       "      <td>0.0000</td>\n",
       "    </tr>\n",
       "    <tr>\n",
       "      <th>famsup</th>\n",
       "      <td>0.0500</td>\n",
       "    </tr>\n",
       "    <tr>\n",
       "      <th>romantic</th>\n",
       "      <td>0.0065</td>\n",
       "    </tr>\n",
       "  </tbody>\n",
       "</table>\n",
       "</div>"
      ],
      "text/plain": [
       "            P>|t|\n",
       "Intercept  0.0001\n",
       "sex        0.0074\n",
       "age        0.0428\n",
       "failures   0.0000\n",
       "famsup     0.0500\n",
       "romantic   0.0065"
      ]
     },
     "execution_count": 208,
     "metadata": {},
     "output_type": "execute_result"
    }
   ],
   "source": [
    "p_value_table(model_G3_v1, 0.05)"
   ]
  },
  {
   "attachments": {},
   "cell_type": "markdown",
   "metadata": {},
   "source": [
    "    Depuración de modelo para valores de p_value mayores a 0.05.\n",
    "    Las variables a considerar en el modelo depurado son 'sex', 'age', 'failures', 'famsup' y 'romantic'."
   ]
  },
  {
   "attachments": {},
   "cell_type": "markdown",
   "metadata": {},
   "source": [
    "### Modelo 2 G3"
   ]
  },
  {
   "cell_type": "code",
   "execution_count": 209,
   "metadata": {},
   "outputs": [],
   "source": [
    "model_G3_v2 = smf.ols('G3 ~ sex + age + failures + famsup + romantic', df_model).fit()"
   ]
  },
  {
   "cell_type": "code",
   "execution_count": 210,
   "metadata": {},
   "outputs": [
    {
     "data": {
      "text/html": [
       "<table class=\"simpletable\">\n",
       "<caption>OLS Regression Results</caption>\n",
       "<tr>\n",
       "  <th>Dep. Variable:</th>           <td>G3</td>        <th>  R-squared:         </th> <td>   0.165</td>\n",
       "</tr>\n",
       "<tr>\n",
       "  <th>Model:</th>                   <td>OLS</td>       <th>  Adj. R-squared:    </th> <td>   0.154</td>\n",
       "</tr>\n",
       "<tr>\n",
       "  <th>Method:</th>             <td>Least Squares</td>  <th>  F-statistic:       </th> <td>   14.90</td>\n",
       "</tr>\n",
       "<tr>\n",
       "  <th>Date:</th>             <td>Tue, 07 Feb 2023</td> <th>  Prob (F-statistic):</th> <td>2.39e-13</td>\n",
       "</tr>\n",
       "<tr>\n",
       "  <th>Time:</th>                 <td>11:45:18</td>     <th>  Log-Likelihood:    </th> <td> -1093.2</td>\n",
       "</tr>\n",
       "<tr>\n",
       "  <th>No. Observations:</th>      <td>   383</td>      <th>  AIC:               </th> <td>   2198.</td>\n",
       "</tr>\n",
       "<tr>\n",
       "  <th>Df Residuals:</th>          <td>   377</td>      <th>  BIC:               </th> <td>   2222.</td>\n",
       "</tr>\n",
       "<tr>\n",
       "  <th>Df Model:</th>              <td>     5</td>      <th>                     </th>     <td> </td>   \n",
       "</tr>\n",
       "<tr>\n",
       "  <th>Covariance Type:</th>      <td>nonrobust</td>    <th>                     </th>     <td> </td>   \n",
       "</tr>\n",
       "</table>\n",
       "<table class=\"simpletable\">\n",
       "<tr>\n",
       "      <td></td>         <th>coef</th>     <th>std err</th>      <th>t</th>      <th>P>|t|</th>  <th>[0.025</th>    <th>0.975]</th>  \n",
       "</tr>\n",
       "<tr>\n",
       "  <th>Intercept</th> <td>   13.9550</td> <td>    2.965</td> <td>    4.707</td> <td> 0.000</td> <td>    8.125</td> <td>   19.785</td>\n",
       "</tr>\n",
       "<tr>\n",
       "  <th>sex</th>       <td>    0.9313</td> <td>    0.442</td> <td>    2.108</td> <td> 0.036</td> <td>    0.063</td> <td>    1.800</td>\n",
       "</tr>\n",
       "<tr>\n",
       "  <th>age</th>       <td>   -0.1915</td> <td>    0.180</td> <td>   -1.065</td> <td> 0.287</td> <td>   -0.545</td> <td>    0.162</td>\n",
       "</tr>\n",
       "<tr>\n",
       "  <th>failures</th>  <td>   -2.1806</td> <td>    0.307</td> <td>   -7.112</td> <td> 0.000</td> <td>   -2.783</td> <td>   -1.578</td>\n",
       "</tr>\n",
       "<tr>\n",
       "  <th>famsup</th>    <td>    0.6206</td> <td>    0.452</td> <td>    1.372</td> <td> 0.171</td> <td>   -0.269</td> <td>    1.510</td>\n",
       "</tr>\n",
       "<tr>\n",
       "  <th>romantic</th>  <td>   -0.9065</td> <td>    0.471</td> <td>   -1.925</td> <td> 0.055</td> <td>   -1.832</td> <td>    0.019</td>\n",
       "</tr>\n",
       "</table>\n",
       "<table class=\"simpletable\">\n",
       "<tr>\n",
       "  <th>Omnibus:</th>       <td>29.929</td> <th>  Durbin-Watson:     </th> <td>   2.020</td>\n",
       "</tr>\n",
       "<tr>\n",
       "  <th>Prob(Omnibus):</th> <td> 0.000</td> <th>  Jarque-Bera (JB):  </th> <td>  34.856</td>\n",
       "</tr>\n",
       "<tr>\n",
       "  <th>Skew:</th>          <td>-0.687</td> <th>  Prob(JB):          </th> <td>2.70e-08</td>\n",
       "</tr>\n",
       "<tr>\n",
       "  <th>Kurtosis:</th>      <td> 3.542</td> <th>  Cond. No.          </th> <td>    231.</td>\n",
       "</tr>\n",
       "</table><br/><br/>Notes:<br/>[1] Standard Errors assume that the covariance matrix of the errors is correctly specified."
      ],
      "text/plain": [
       "<class 'statsmodels.iolib.summary.Summary'>\n",
       "\"\"\"\n",
       "                            OLS Regression Results                            \n",
       "==============================================================================\n",
       "Dep. Variable:                     G3   R-squared:                       0.165\n",
       "Model:                            OLS   Adj. R-squared:                  0.154\n",
       "Method:                 Least Squares   F-statistic:                     14.90\n",
       "Date:                Tue, 07 Feb 2023   Prob (F-statistic):           2.39e-13\n",
       "Time:                        11:45:18   Log-Likelihood:                -1093.2\n",
       "No. Observations:                 383   AIC:                             2198.\n",
       "Df Residuals:                     377   BIC:                             2222.\n",
       "Df Model:                           5                                         \n",
       "Covariance Type:            nonrobust                                         \n",
       "==============================================================================\n",
       "                 coef    std err          t      P>|t|      [0.025      0.975]\n",
       "------------------------------------------------------------------------------\n",
       "Intercept     13.9550      2.965      4.707      0.000       8.125      19.785\n",
       "sex            0.9313      0.442      2.108      0.036       0.063       1.800\n",
       "age           -0.1915      0.180     -1.065      0.287      -0.545       0.162\n",
       "failures      -2.1806      0.307     -7.112      0.000      -2.783      -1.578\n",
       "famsup         0.6206      0.452      1.372      0.171      -0.269       1.510\n",
       "romantic      -0.9065      0.471     -1.925      0.055      -1.832       0.019\n",
       "==============================================================================\n",
       "Omnibus:                       29.929   Durbin-Watson:                   2.020\n",
       "Prob(Omnibus):                  0.000   Jarque-Bera (JB):               34.856\n",
       "Skew:                          -0.687   Prob(JB):                     2.70e-08\n",
       "Kurtosis:                       3.542   Cond. No.                         231.\n",
       "==============================================================================\n",
       "\n",
       "Notes:\n",
       "[1] Standard Errors assume that the covariance matrix of the errors is correctly specified.\n",
       "\"\"\""
      ]
     },
     "execution_count": 210,
     "metadata": {},
     "output_type": "execute_result"
    }
   ],
   "source": [
    "model_G3_v2.summary()"
   ]
  },
  {
   "attachments": {},
   "cell_type": "markdown",
   "metadata": {},
   "source": [
    "### Estadísticos de bondad de ajuste"
   ]
  },
  {
   "cell_type": "code",
   "execution_count": 211,
   "metadata": {},
   "outputs": [
    {
     "data": {
      "text/html": [
       "<table class=\"simpletable\">\n",
       "<caption>OLS Regression Results</caption>\n",
       "<tr>\n",
       "  <th>Dep. Variable:</th>           <td>G3</td>        <th>  R-squared:         </th> <td>   0.165</td>\n",
       "</tr>\n",
       "<tr>\n",
       "  <th>Model:</th>                   <td>OLS</td>       <th>  Adj. R-squared:    </th> <td>   0.154</td>\n",
       "</tr>\n",
       "<tr>\n",
       "  <th>Method:</th>             <td>Least Squares</td>  <th>  F-statistic:       </th> <td>   14.90</td>\n",
       "</tr>\n",
       "<tr>\n",
       "  <th>Date:</th>             <td>Tue, 07 Feb 2023</td> <th>  Prob (F-statistic):</th> <td>2.39e-13</td>\n",
       "</tr>\n",
       "<tr>\n",
       "  <th>Time:</th>                 <td>11:45:18</td>     <th>  Log-Likelihood:    </th> <td> -1093.2</td>\n",
       "</tr>\n",
       "<tr>\n",
       "  <th>No. Observations:</th>      <td>   383</td>      <th>  AIC:               </th> <td>   2198.</td>\n",
       "</tr>\n",
       "<tr>\n",
       "  <th>Df Residuals:</th>          <td>   377</td>      <th>  BIC:               </th> <td>   2222.</td>\n",
       "</tr>\n",
       "<tr>\n",
       "  <th>Df Model:</th>              <td>     5</td>      <th>                     </th>     <td> </td>   \n",
       "</tr>\n",
       "<tr>\n",
       "  <th>Covariance Type:</th>      <td>nonrobust</td>    <th>                     </th>     <td> </td>   \n",
       "</tr>\n",
       "</table>"
      ],
      "text/plain": [
       "<class 'statsmodels.iolib.table.SimpleTable'>"
      ]
     },
     "execution_count": 211,
     "metadata": {},
     "output_type": "execute_result"
    }
   ],
   "source": [
    "model_G3_v2.summary().tables[0]"
   ]
  },
  {
   "attachments": {},
   "cell_type": "markdown",
   "metadata": {},
   "source": [
    "    De los tres vectores objetivos, este es el que menor poder explicativo tiene con un porcentaje de 16.5% para el promedio final.\n",
    "    Siguiendo el mismo comportamiento de los modelos anterioes, Adj. R-squared disminuye y Prob (F-statistic) sigue indicando la validez del modelo con un p_value global menor a 0.05"
   ]
  },
  {
   "attachments": {},
   "cell_type": "markdown",
   "metadata": {},
   "source": [
    "### Definición de las estrategias de Modelación predictiva"
   ]
  },
  {
   "attachments": {},
   "cell_type": "markdown",
   "metadata": {},
   "source": [
    "    Para la modelación predictiva se hará uso de machine learning y solo se va a analizar el vector objetivo G3.\n",
    "    Esta modelación hace uso de herramientas de sklearn, cuyos módulos son 'linear_model', 'model_selection' y 'metrics'. De estos, se usará 'train_test_split' para la separación de muestas, 'LinearRegression' para la modelación y 'mean_squared_error' y 'r2_score' para el reporte de métricas.\n",
    "\n",
    "    En machine learning, para juzgar qué tan bien se comportó el modelo en predecir los valores del vector objetivo se utilizan métricas que buscan resumir la magnitud en la diferencia entre la predicción y los datos empíricos. Estas métricas son el promedio del error cuadrático (MSE) y el R-cuadrado.\n",
    "    El MSE representa la expectativa del error cuadrático. Menores valores indican mejores niveles de ajuste.\n",
    "    El R-cuadrado representa la capacidad explicativa del conjunto de atributos en la variabilidad del vector objetivo.\n",
    "\n",
    "    Se desarrollarán 4 modelos, el primero y el segundo integrarán todos los atributos, diferenciándose en que el segundo no tendrá intercepto. Para los modelos tercero y cuarto se calcularán las correlaciones entre los atributos y el vector objetivo, y al igual que los dos primeros modelos uno tendrá intercepto y el otro no.\n",
    "\n",
    "    Finalmente, se harán las comparaciones entre sus métricas para determinar qué modelo predice de mejor manera el promedio final para los alumnos de la base de datos."
   ]
  },
  {
   "attachments": {},
   "cell_type": "markdown",
   "metadata": {},
   "source": [
    "# HITO 4"
   ]
  },
  {
   "attachments": {},
   "cell_type": "markdown",
   "metadata": {},
   "source": [
    "    Librerías a utilizar"
   ]
  },
  {
   "cell_type": "code",
   "execution_count": 212,
   "metadata": {},
   "outputs": [],
   "source": [
    "#from sklearn.model_selection import train_test_split\n",
    "#from sklearn.linear_model import LinearRegression\n",
    "#from sklearn.metrics import mean_squared_error, r2_score"
   ]
  },
  {
   "cell_type": "code",
   "execution_count": 213,
   "metadata": {},
   "outputs": [],
   "source": [
    "df_sklearn = df_model.drop(['G1', 'G2'], axis=1)\n",
    "df_sklearn.dropna(inplace=True)"
   ]
  },
  {
   "cell_type": "code",
   "execution_count": 214,
   "metadata": {},
   "outputs": [
    {
     "data": {
      "text/plain": [
       "Index(['school', 'sex', 'age', 'address', 'famsize', 'Pstatus', 'Medu', 'Fedu',\n",
       "       'traveltime', 'studytime', 'failures', 'schoolsup', 'famsup', 'paid',\n",
       "       'activities', 'nursery', 'higher', 'internet', 'romantic', 'absences',\n",
       "       'G3', 'Mjob_health', 'Mjob_other', 'Mjob_services', 'Mjob_teacher',\n",
       "       'Fjob_health', 'Fjob_other', 'Fjob_services', 'Fjob_teacher',\n",
       "       'reason_home', 'reason_other', 'reason_reputation', 'guardian_mother',\n",
       "       'guardian_other'],\n",
       "      dtype='object')"
      ]
     },
     "execution_count": 214,
     "metadata": {},
     "output_type": "execute_result"
    }
   ],
   "source": [
    "df_sklearn.columns"
   ]
  },
  {
   "attachments": {},
   "cell_type": "markdown",
   "metadata": {},
   "source": [
    "    Se hizo una eliminación de los datos perdidos debido que sklearn genera errores al momento de realizar las predicciones al modelo."
   ]
  },
  {
   "attachments": {},
   "cell_type": "markdown",
   "metadata": {},
   "source": [
    "## Modelo 1\n",
    "    Este modelo considera todos los atributos"
   ]
  },
  {
   "attachments": {},
   "cell_type": "markdown",
   "metadata": {},
   "source": [
    "### División de la muestra"
   ]
  },
  {
   "cell_type": "code",
   "execution_count": 215,
   "metadata": {},
   "outputs": [],
   "source": [
    "X_train, X_test, y_train, y_test = train_test_split(df_sklearn.drop(['G3'], axis=1), df_sklearn['G3'], test_size=.33, random_state=7)"
   ]
  },
  {
   "attachments": {},
   "cell_type": "markdown",
   "metadata": {},
   "source": [
    "### Generación de predicciones"
   ]
  },
  {
   "cell_type": "code",
   "execution_count": 216,
   "metadata": {},
   "outputs": [],
   "source": [
    "modelo_sklearn = LinearRegression().fit(X_train, y_train)\n",
    "\n",
    "# predicciones matriz de prueba\n",
    "y_pred_test = modelo_sklearn.predict(X_test)"
   ]
  },
  {
   "attachments": {},
   "cell_type": "markdown",
   "metadata": {},
   "source": [
    "### Intercepto del modelo"
   ]
  },
  {
   "cell_type": "code",
   "execution_count": 217,
   "metadata": {},
   "outputs": [
    {
     "data": {
      "text/plain": [
       "15.244062147144026"
      ]
     },
     "execution_count": 217,
     "metadata": {},
     "output_type": "execute_result"
    }
   ],
   "source": [
    "modelo_sklearn.intercept_"
   ]
  },
  {
   "attachments": {},
   "cell_type": "markdown",
   "metadata": {},
   "source": [
    "### Coeficientes del modelo"
   ]
  },
  {
   "cell_type": "code",
   "execution_count": 218,
   "metadata": {},
   "outputs": [
    {
     "data": {
      "text/plain": [
       "array([ 1.75012,  1.79843, -0.46645, -0.04239,  0.6041 ,  0.32007,\n",
       "        0.19931, -0.17262, -0.6262 ,  0.70474, -1.83964, -1.49548,\n",
       "        0.8273 ,  0.00307,  1.08215,  0.38644, -1.53736,  0.04645,\n",
       "       -1.52854,  0.06901,  0.90013,  0.38016,  0.53201,  0.11795,\n",
       "        1.56099,  0.05263,  0.59616,  1.78469, -0.26363,  1.46872,\n",
       "        1.01469, -0.6186 ,  1.06462])"
      ]
     },
     "execution_count": 218,
     "metadata": {},
     "output_type": "execute_result"
    }
   ],
   "source": [
    "modelo_sklearn.coef_.round(5)"
   ]
  },
  {
   "attachments": {},
   "cell_type": "markdown",
   "metadata": {},
   "source": [
    "### Evaluación del desempeño"
   ]
  },
  {
   "cell_type": "code",
   "execution_count": 219,
   "metadata": {},
   "outputs": [
    {
     "name": "stdout",
     "output_type": "stream",
     "text": [
      "MSE: 18.52322   R2: 0.13987\n"
     ]
    }
   ],
   "source": [
    "# matriz de pruebas\n",
    "mse_modelo_test = mean_squared_error(y_true=y_test, y_pred=y_pred_test)\n",
    "r2_modelo_test = r2_score(y_true=y_test, y_pred=y_pred_test)\n",
    "print(f'MSE: {mse_modelo_test.round(5)}   R2: {r2_modelo_test.round(5)}')"
   ]
  },
  {
   "attachments": {},
   "cell_type": "markdown",
   "metadata": {},
   "source": [
    "## Modelo 2"
   ]
  },
  {
   "attachments": {},
   "cell_type": "markdown",
   "metadata": {},
   "source": [
    "    Para este modelo se modificará solamente el hiperparámetro fit_intercept=False, que por defecto su valor booleano es True."
   ]
  },
  {
   "attachments": {},
   "cell_type": "markdown",
   "metadata": {},
   "source": [
    "    De igual manera que lo realizado en el desafío 1 de la prueba, se crea una función que realiza la modelación y calcula las métricas, con la finalidad de no hacer un proceso repetitivo para cada modelo."
   ]
  },
  {
   "cell_type": "code",
   "execution_count": 220,
   "metadata": {},
   "outputs": [],
   "source": [
    "def modelacion_sklearn(dataframe, tamaño_prueba, semilla_random, fit_intercept_modelo=True):\n",
    "    \"\"\"\n",
    "    Esta función realiza la modelación predictiva y reporta las métricas obtenidas para los datos de entrenamiento y prueba\n",
    "\n",
    "    Parameters\n",
    "    ----------\n",
    "    dataframe: dataframe de pandas\n",
    "                    dataframe del cual se obtienen los datos para la modelación y cálculo de métricas\n",
    "    tamaño_prueba: float\n",
    "                    porcentaje del tamaño de los datos de pruebas expresado en decimales\n",
    "    semilla_random: int\n",
    "                    valor pseudo aleatorio para replicar los resultados\n",
    "    fit_intercept_modelo: bool, default=True\n",
    "                    hiperparámetro. Agrega o no el intercepto\n",
    "\n",
    "    Returns\n",
    "            None\n",
    "    \"\"\"\n",
    "    # División de la muestra\n",
    "    X_train, X_test, y_train, y_test = train_test_split(dataframe.drop(['G3'], axis=1), dataframe['G3'], test_size=.33, random_state=7)\n",
    "\n",
    "    # Generación de predicciones y modificación de hiperparámetros\n",
    "    modelo_sklearn = LinearRegression(fit_intercept=fit_intercept_modelo).fit(X_train, y_train)\n",
    "\n",
    "    # predicciones matriz de prueba\n",
    "    y_pred_test = modelo_sklearn.predict(X_test)\n",
    "\n",
    "    # intercepto del modelo\n",
    "    intercepto = modelo_sklearn.intercept_\n",
    "    print(f'Intercepto del modelo: {intercepto}','\\n','-'*80)\n",
    "\n",
    "    # coeficientes del modelo\n",
    "    coefs = modelo_sklearn.coef_\n",
    "    print(f'Coeficientes del modelo:\\n {coefs.round(5)}','\\n','-'*80)\n",
    "\n",
    "    # Evaluación del desempeño\n",
    "    # matriz de pruebas\n",
    "    mse_modelo_test = mean_squared_error(y_true=y_test, y_pred=y_pred_test)\n",
    "    r2_modelo_test = r2_score(y_true=y_test, y_pred=y_pred_test)\n",
    "    print('Evaluación del desempeño:')\n",
    "    print(f'MSE: {mse_modelo_test.round(5)}   \\nR2: {r2_modelo_test.round(5)}')"
   ]
  },
  {
   "cell_type": "code",
   "execution_count": 221,
   "metadata": {},
   "outputs": [
    {
     "name": "stdout",
     "output_type": "stream",
     "text": [
      "Intercepto del modelo: 0.0 \n",
      " --------------------------------------------------------------------------------\n",
      "Coeficientes del modelo:\n",
      " [ 0.69903  2.07812  0.33225 -0.2659   0.51851  0.52349  0.35092 -0.04253\n",
      " -0.29196  0.86057 -1.90785 -0.81107  0.88375  0.02826  1.22551  0.79218\n",
      " -1.60441  0.18366 -1.55402  0.04756  1.23362  0.664    0.66012  0.42995\n",
      "  1.13715  0.31023  0.46418  1.41438 -0.0547   1.69332  1.08822 -0.48997\n",
      " -0.36562] \n",
      " --------------------------------------------------------------------------------\n",
      "Evaluación del desempeño:\n",
      "MSE: 19.46233   \n",
      "R2: 0.09626\n"
     ]
    }
   ],
   "source": [
    "modelo_sklearn_2 = modelacion_sklearn(df_sklearn, .33, 7, fit_intercept_modelo=False)\n",
    "modelo_sklearn_2"
   ]
  },
  {
   "attachments": {},
   "cell_type": "markdown",
   "metadata": {},
   "source": [
    "## Modelo 3"
   ]
  },
  {
   "attachments": {},
   "cell_type": "markdown",
   "metadata": {},
   "source": [
    "    Para los modelos 3 y 4 se utilizarán los atributos que muestren un valor absoluto de correlación mayor a 0.1.\n",
    "    El modelo 3 se implementará con intercepto y el modelo 4 sin intercepto."
   ]
  },
  {
   "cell_type": "code",
   "execution_count": 222,
   "metadata": {},
   "outputs": [],
   "source": [
    "def fetch_features(dataframe, vector_objetivo):  \n",
    "    \"\"\"\n",
    "    Muestra una tabla ordenada de mayor a menor con los valores absolutos de la correlación de pearson para cada atributo\n",
    "    \n",
    "    Parameters\n",
    "    ----------\n",
    "    dataframe: dataframe de pandas\n",
    "                dataframe del cual obtiene la información a analizar\n",
    "    vector_objetivo: str\n",
    "                    nombre de la variable objetivo. Con esta se calculará la correlación de cada atributo\n",
    "    \n",
    "    Returns:\n",
    "        Tabla ordenada de mayor a menor con los valores de la correlación\n",
    "    \"\"\"\n",
    "    # extraemos los nombres de las columnas en la base de datos\n",
    "    columns = dataframe.columns\n",
    "    attr_name, corr, corr_abs = [], [], []\n",
    "\n",
    "    for col in columns:\n",
    "        if col != vector_objetivo:\n",
    "            # agregamos el nombre de la variable en attr_name\n",
    "            attr_name.append(col)\n",
    "            # agregamos la correlación de pearson\n",
    "            corr.append(dataframe[col].corr(dataframe[vector_objetivo]))\n",
    "            # agregamos el valor absoluto de la correlación de pearson\n",
    "            corr_abs.append(abs(dataframe[col].corr(dataframe[vector_objetivo])))\n",
    "    # transformamos los arrays en un DataFrame\n",
    "    features = pd.DataFrame({\n",
    "    'atributo': attr_name,\n",
    "    'correlacion': corr,\n",
    "    'abs_corr': corr_abs\n",
    "    })\n",
    "\n",
    "    # generamos el index con los nombres de las variables\n",
    "    features = features.set_index('atributo')\n",
    "    # ordenamos los valores de forma descendiente\n",
    "    list_corr = (features.sort_values(by=['abs_corr'], ascending=False))\n",
    "\n",
    "    return list_corr"
   ]
  },
  {
   "attachments": {},
   "cell_type": "markdown",
   "metadata": {},
   "source": [
    "    Con la función fetch_features() se identifican aquellos atributos que tengan valor absoluto de correlación mayor a 0.1"
   ]
  },
  {
   "cell_type": "code",
   "execution_count": 223,
   "metadata": {},
   "outputs": [
    {
     "data": {
      "text/html": [
       "<div>\n",
       "<style scoped>\n",
       "    .dataframe tbody tr th:only-of-type {\n",
       "        vertical-align: middle;\n",
       "    }\n",
       "\n",
       "    .dataframe tbody tr th {\n",
       "        vertical-align: top;\n",
       "    }\n",
       "\n",
       "    .dataframe thead th {\n",
       "        text-align: right;\n",
       "    }\n",
       "</style>\n",
       "<table border=\"1\" class=\"dataframe\">\n",
       "  <thead>\n",
       "    <tr style=\"text-align: right;\">\n",
       "      <th></th>\n",
       "      <th>correlacion</th>\n",
       "      <th>abs_corr</th>\n",
       "    </tr>\n",
       "    <tr>\n",
       "      <th>atributo</th>\n",
       "      <th></th>\n",
       "      <th></th>\n",
       "    </tr>\n",
       "  </thead>\n",
       "  <tbody>\n",
       "    <tr>\n",
       "      <th>failures</th>\n",
       "      <td>-0.373740</td>\n",
       "      <td>0.373740</td>\n",
       "    </tr>\n",
       "    <tr>\n",
       "      <th>Medu</th>\n",
       "      <td>0.212608</td>\n",
       "      <td>0.212608</td>\n",
       "    </tr>\n",
       "    <tr>\n",
       "      <th>higher</th>\n",
       "      <td>-0.165454</td>\n",
       "      <td>0.165454</td>\n",
       "    </tr>\n",
       "    <tr>\n",
       "      <th>age</th>\n",
       "      <td>-0.158160</td>\n",
       "      <td>0.158160</td>\n",
       "    </tr>\n",
       "    <tr>\n",
       "      <th>romantic</th>\n",
       "      <td>-0.154377</td>\n",
       "      <td>0.154377</td>\n",
       "    </tr>\n",
       "    <tr>\n",
       "      <th>Fedu</th>\n",
       "      <td>0.138835</td>\n",
       "      <td>0.138835</td>\n",
       "    </tr>\n",
       "    <tr>\n",
       "      <th>traveltime</th>\n",
       "      <td>-0.113072</td>\n",
       "      <td>0.113072</td>\n",
       "    </tr>\n",
       "    <tr>\n",
       "      <th>Fjob_teacher</th>\n",
       "      <td>0.103787</td>\n",
       "      <td>0.103787</td>\n",
       "    </tr>\n",
       "    <tr>\n",
       "      <th>Mjob_health</th>\n",
       "      <td>0.102731</td>\n",
       "      <td>0.102731</td>\n",
       "    </tr>\n",
       "    <tr>\n",
       "      <th>sex</th>\n",
       "      <td>0.101458</td>\n",
       "      <td>0.101458</td>\n",
       "    </tr>\n",
       "    <tr>\n",
       "      <th>paid</th>\n",
       "      <td>0.097782</td>\n",
       "      <td>0.097782</td>\n",
       "    </tr>\n",
       "    <tr>\n",
       "      <th>guardian_other</th>\n",
       "      <td>-0.093611</td>\n",
       "      <td>0.093611</td>\n",
       "    </tr>\n",
       "    <tr>\n",
       "      <th>reason_reputation</th>\n",
       "      <td>0.087986</td>\n",
       "      <td>0.087986</td>\n",
       "    </tr>\n",
       "    <tr>\n",
       "      <th>address</th>\n",
       "      <td>-0.084401</td>\n",
       "      <td>0.084401</td>\n",
       "    </tr>\n",
       "    <tr>\n",
       "      <th>studytime</th>\n",
       "      <td>0.082986</td>\n",
       "      <td>0.082986</td>\n",
       "    </tr>\n",
       "    <tr>\n",
       "      <th>schoolsup</th>\n",
       "      <td>-0.079247</td>\n",
       "      <td>0.079247</td>\n",
       "    </tr>\n",
       "    <tr>\n",
       "      <th>Mjob_other</th>\n",
       "      <td>-0.078480</td>\n",
       "      <td>0.078480</td>\n",
       "    </tr>\n",
       "    <tr>\n",
       "      <th>internet</th>\n",
       "      <td>-0.072067</td>\n",
       "      <td>0.072067</td>\n",
       "    </tr>\n",
       "    <tr>\n",
       "      <th>famsize</th>\n",
       "      <td>0.070545</td>\n",
       "      <td>0.070545</td>\n",
       "    </tr>\n",
       "    <tr>\n",
       "      <th>reason_other</th>\n",
       "      <td>0.069690</td>\n",
       "      <td>0.069690</td>\n",
       "    </tr>\n",
       "    <tr>\n",
       "      <th>Mjob_services</th>\n",
       "      <td>0.068453</td>\n",
       "      <td>0.068453</td>\n",
       "    </tr>\n",
       "    <tr>\n",
       "      <th>Mjob_teacher</th>\n",
       "      <td>0.063918</td>\n",
       "      <td>0.063918</td>\n",
       "    </tr>\n",
       "    <tr>\n",
       "      <th>nursery</th>\n",
       "      <td>-0.061121</td>\n",
       "      <td>0.061121</td>\n",
       "    </tr>\n",
       "    <tr>\n",
       "      <th>Pstatus</th>\n",
       "      <td>0.054837</td>\n",
       "      <td>0.054837</td>\n",
       "    </tr>\n",
       "    <tr>\n",
       "      <th>Fjob_health</th>\n",
       "      <td>0.052282</td>\n",
       "      <td>0.052282</td>\n",
       "    </tr>\n",
       "    <tr>\n",
       "      <th>famsup</th>\n",
       "      <td>0.051651</td>\n",
       "      <td>0.051651</td>\n",
       "    </tr>\n",
       "    <tr>\n",
       "      <th>Fjob_other</th>\n",
       "      <td>0.045310</td>\n",
       "      <td>0.045310</td>\n",
       "    </tr>\n",
       "    <tr>\n",
       "      <th>guardian_mother</th>\n",
       "      <td>-0.038921</td>\n",
       "      <td>0.038921</td>\n",
       "    </tr>\n",
       "    <tr>\n",
       "      <th>absences</th>\n",
       "      <td>0.031001</td>\n",
       "      <td>0.031001</td>\n",
       "    </tr>\n",
       "    <tr>\n",
       "      <th>Fjob_services</th>\n",
       "      <td>-0.022788</td>\n",
       "      <td>0.022788</td>\n",
       "    </tr>\n",
       "    <tr>\n",
       "      <th>activities</th>\n",
       "      <td>0.010164</td>\n",
       "      <td>0.010164</td>\n",
       "    </tr>\n",
       "    <tr>\n",
       "      <th>reason_home</th>\n",
       "      <td>-0.009055</td>\n",
       "      <td>0.009055</td>\n",
       "    </tr>\n",
       "    <tr>\n",
       "      <th>school</th>\n",
       "      <td>-0.005353</td>\n",
       "      <td>0.005353</td>\n",
       "    </tr>\n",
       "  </tbody>\n",
       "</table>\n",
       "</div>"
      ],
      "text/plain": [
       "                   correlacion  abs_corr\n",
       "atributo                                \n",
       "failures             -0.373740  0.373740\n",
       "Medu                  0.212608  0.212608\n",
       "higher               -0.165454  0.165454\n",
       "age                  -0.158160  0.158160\n",
       "romantic             -0.154377  0.154377\n",
       "Fedu                  0.138835  0.138835\n",
       "traveltime           -0.113072  0.113072\n",
       "Fjob_teacher          0.103787  0.103787\n",
       "Mjob_health           0.102731  0.102731\n",
       "sex                   0.101458  0.101458\n",
       "paid                  0.097782  0.097782\n",
       "guardian_other       -0.093611  0.093611\n",
       "reason_reputation     0.087986  0.087986\n",
       "address              -0.084401  0.084401\n",
       "studytime             0.082986  0.082986\n",
       "schoolsup            -0.079247  0.079247\n",
       "Mjob_other           -0.078480  0.078480\n",
       "internet             -0.072067  0.072067\n",
       "famsize               0.070545  0.070545\n",
       "reason_other          0.069690  0.069690\n",
       "Mjob_services         0.068453  0.068453\n",
       "Mjob_teacher          0.063918  0.063918\n",
       "nursery              -0.061121  0.061121\n",
       "Pstatus               0.054837  0.054837\n",
       "Fjob_health           0.052282  0.052282\n",
       "famsup                0.051651  0.051651\n",
       "Fjob_other            0.045310  0.045310\n",
       "guardian_mother      -0.038921  0.038921\n",
       "absences              0.031001  0.031001\n",
       "Fjob_services        -0.022788  0.022788\n",
       "activities            0.010164  0.010164\n",
       "reason_home          -0.009055  0.009055\n",
       "school               -0.005353  0.005353"
      ]
     },
     "execution_count": 223,
     "metadata": {},
     "output_type": "execute_result"
    }
   ],
   "source": [
    "fetch_features(dataframe=df_sklearn, vector_objetivo='G3')"
   ]
  },
  {
   "attachments": {},
   "cell_type": "markdown",
   "metadata": {},
   "source": [
    "    Se seleccionan los atributos cuya correlación es mayor a 0.1"
   ]
  },
  {
   "cell_type": "code",
   "execution_count": 224,
   "metadata": {},
   "outputs": [
    {
     "data": {
      "text/plain": [
       "atributo\n",
       "failures        0.373740\n",
       "Medu            0.212608\n",
       "higher          0.165454\n",
       "age             0.158160\n",
       "romantic        0.154377\n",
       "Fedu            0.138835\n",
       "traveltime      0.113072\n",
       "Fjob_teacher    0.103787\n",
       "Mjob_health     0.102731\n",
       "sex             0.101458\n",
       "Name: abs_corr, dtype: float64"
      ]
     },
     "execution_count": 224,
     "metadata": {},
     "output_type": "execute_result"
    }
   ],
   "source": [
    "attr_10 = fetch_features(dataframe=df_sklearn, vector_objetivo='G3').iloc[:10, 1]\n",
    "attr_10"
   ]
  },
  {
   "attachments": {},
   "cell_type": "markdown",
   "metadata": {},
   "source": [
    "    Se crea un dataframe que contenga estos atributos seleccionados para pasarlo como argumento en la función 'modelacion_sklearn'."
   ]
  },
  {
   "cell_type": "code",
   "execution_count": 225,
   "metadata": {},
   "outputs": [],
   "source": [
    "df_corr = df_sklearn.loc[:, ['G3', 'failures', 'Medu', 'higher', 'age', 'romantic', 'Fedu', 'traveltime', 'Fjob_teacher', 'Mjob_health' , 'sex']]"
   ]
  },
  {
   "cell_type": "code",
   "execution_count": 226,
   "metadata": {},
   "outputs": [
    {
     "name": "stdout",
     "output_type": "stream",
     "text": [
      "Intercepto del modelo: 9.60815876648157 \n",
      " --------------------------------------------------------------------------------\n",
      "Coeficientes del modelo:\n",
      " [-1.95775  0.37038 -1.27455  0.10043 -1.21503 -0.38862 -0.50452  1.03197\n",
      "  0.73808  1.4823 ] \n",
      " --------------------------------------------------------------------------------\n",
      "Evaluación del desempeño:\n",
      "MSE: 17.59548   \n",
      "R2: 0.18295\n"
     ]
    }
   ],
   "source": [
    "modelo_sklearn_3 = modelacion_sklearn(df_corr, .33, 7, fit_intercept_modelo=True)\n",
    "modelo_sklearn_3"
   ]
  },
  {
   "attachments": {},
   "cell_type": "markdown",
   "metadata": {},
   "source": [
    "    En este modelo el primer coeficiente indica que al aumentar en una unidad el número de clases reprobadas, el promedio final disminuirá en 1.95 unidades. Dicho de otro modo, se espera que la diferencia del promedio final sea 1.95 unidades al comparar dos alumnos de similares características pero que solo varían en una unidad de la cantidad de clases reprobadas. \n",
    "    Los demás atributos afectan el promedio final de igual manera, según su coeficiente correspondiente."
   ]
  },
  {
   "cell_type": "markdown",
   "metadata": {},
   "source": [
    "## Modelo 4"
   ]
  },
  {
   "attachments": {},
   "cell_type": "markdown",
   "metadata": {},
   "source": [
    "    Se mantiene el mismo dataframe del modelo 3 pero se modifica el hiperparámetro 'fit_intercept' a 'False'"
   ]
  },
  {
   "cell_type": "code",
   "execution_count": 227,
   "metadata": {},
   "outputs": [
    {
     "name": "stdout",
     "output_type": "stream",
     "text": [
      "Intercepto del modelo: 0.0 \n",
      " --------------------------------------------------------------------------------\n",
      "Coeficientes del modelo:\n",
      " [-2.07225  0.49872 -1.38025  0.63311 -1.36447 -0.30951 -0.40724  1.09555\n",
      "  0.83216  1.65361] \n",
      " --------------------------------------------------------------------------------\n",
      "Evaluación del desempeño:\n",
      "MSE: 18.78293   \n",
      "R2: 0.12781\n"
     ]
    }
   ],
   "source": [
    "modelo_sklearn_4 = modelacion_sklearn(df_corr, .33, 7, fit_intercept_modelo=False)\n",
    "modelo_sklearn_4"
   ]
  },
  {
   "attachments": {},
   "cell_type": "markdown",
   "metadata": {},
   "source": [
    "    Con la modificación del hiperparámetro, se observa que 8 de los 10 atributos aumentan su efecto en el promedio final."
   ]
  },
  {
   "attachments": {},
   "cell_type": "markdown",
   "metadata": {},
   "source": [
    "### Conclusiones\n",
    "    Con los 4 modelos ya generados, se procede a seleccionar aquel que muestra un mejor demsempeño en predecir las notas del promedio final para los estudiantes.\n",
    "    En base a los resultados obtenidos, el modelo 3 es el mejor entre las opciones según las métricas obtenidas. Tiene el menor MSE, lo que indica un mejor ajuste en términos de minimizar la diferencia entre los valores observados y los valores predichos. Además, cuenta con el mayor R-cuadrado, lo que significa que explica una mayor cantidad de la variabilidad en los datos. Un R-cuadrado cercano a 1 es un indicador de un buen ajuste, mientras que uno cercano a 0 indica un ajuste deficiente. Si bien el R-cuadrado del modelo 3 está más cercano a 0, entre los modelos realizados este es el que mejor porcentaje tiene."
   ]
  },
  {
   "attachments": {},
   "cell_type": "markdown",
   "metadata": {},
   "source": [
    "# Fin Hito 4"
   ]
  }
 ],
 "metadata": {
  "kernelspec": {
   "display_name": "base",
   "language": "python",
   "name": "python3"
  },
  "language_info": {
   "codemirror_mode": {
    "name": "ipython",
    "version": 3
   },
   "file_extension": ".py",
   "mimetype": "text/x-python",
   "name": "python",
   "nbconvert_exporter": "python",
   "pygments_lexer": "ipython3",
   "version": "3.9.16"
  },
  "orig_nbformat": 4,
  "vscode": {
   "interpreter": {
    "hash": "d1cd2e48b36ca5a693dc5fee925acb7c04e62f78a1ba1a62d0d9fd679ea6383d"
   }
  }
 },
 "nbformat": 4,
 "nbformat_minor": 2
}
